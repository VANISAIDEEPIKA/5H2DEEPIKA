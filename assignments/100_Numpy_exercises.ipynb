{
  "cells": [
    {
      "cell_type": "markdown",
      "metadata": {
        "id": "view-in-github",
        "colab_type": "text"
      },
      "source": [
        "<a href=\"https://colab.research.google.com/github/VANISAIDEEPIKA/5H2DEEPIKA/blob/main/assignments/100_Numpy_exercises.ipynb\" target=\"_parent\"><img src=\"https://colab.research.google.com/assets/colab-badge.svg\" alt=\"Open In Colab\"/></a>"
      ]
    },
    {
      "cell_type": "markdown",
      "id": "6293cc50",
      "metadata": {
        "id": "6293cc50"
      },
      "source": [
        "# 100 numpy exercises\n",
        "\n",
        "This is a collection of exercises that have been collected in the numpy mailing list, on stack overflow\n",
        "and in the numpy documentation. The goal of this collection is to offer a quick reference for both old\n",
        "and new users but also to provide a set of exercises for those who teach.\n",
        "\n",
        "\n",
        "If you find an error or think you've a better way to solve some of them, feel\n",
        "free to open an issue at <https://github.com/rougier/numpy-100>."
      ]
    },
    {
      "cell_type": "markdown",
      "id": "a167c052",
      "metadata": {
        "id": "a167c052"
      },
      "source": [
        "File automatically generated. See the documentation to update questions/answers/hints programmatically."
      ]
    },
    {
      "cell_type": "markdown",
      "id": "57fc0ee5",
      "metadata": {
        "id": "57fc0ee5"
      },
      "source": [
        "Run the `initialize.py` module, then for each question you can query the\n",
        "answer or an hint with `hint(n)` or `answer(n)` for `n` question number."
      ]
    },
    {
      "cell_type": "markdown",
      "id": "3c1222ff",
      "metadata": {
        "id": "3c1222ff"
      },
      "source": [
        "#### 1. Import the numpy package under the name `np` (★☆☆)"
      ]
    },
    {
      "cell_type": "code",
      "execution_count": 2,
      "id": "f52e6a0b",
      "metadata": {
        "id": "f52e6a0b"
      },
      "outputs": [],
      "source": [
        "# prompt: Import the numpy package under the name np\n",
        "\n",
        "import numpy as np\n"
      ]
    },
    {
      "cell_type": "markdown",
      "id": "9d9f4753",
      "metadata": {
        "id": "9d9f4753"
      },
      "source": [
        "#### 2. Print the numpy version and the configuration (★☆☆)"
      ]
    },
    {
      "cell_type": "code",
      "execution_count": 3,
      "id": "b7fa5fa1",
      "metadata": {
        "id": "b7fa5fa1",
        "colab": {
          "base_uri": "https://localhost:8080/"
        },
        "outputId": "c9bf5ca6-05eb-42f5-f6b0-96ce17dcf523"
      },
      "outputs": [
        {
          "output_type": "stream",
          "name": "stdout",
          "text": [
            "1.26.4\n",
            "Build Dependencies:\n",
            "  blas:\n",
            "    detection method: pkgconfig\n",
            "    found: true\n",
            "    include directory: /usr/local/include\n",
            "    lib directory: /usr/local/lib\n",
            "    name: openblas64\n",
            "    openblas configuration: USE_64BITINT=1 DYNAMIC_ARCH=1 DYNAMIC_OLDER= NO_CBLAS=\n",
            "      NO_LAPACK= NO_LAPACKE= NO_AFFINITY=1 USE_OPENMP= HASWELL MAX_THREADS=2\n",
            "    pc file directory: /usr/local/lib/pkgconfig\n",
            "    version: 0.3.23.dev\n",
            "  lapack:\n",
            "    detection method: internal\n",
            "    found: true\n",
            "    include directory: unknown\n",
            "    lib directory: unknown\n",
            "    name: dep139863411681952\n",
            "    openblas configuration: unknown\n",
            "    pc file directory: unknown\n",
            "    version: 1.26.4\n",
            "Compilers:\n",
            "  c:\n",
            "    args: -fno-strict-aliasing\n",
            "    commands: cc\n",
            "    linker: ld.bfd\n",
            "    linker args: -Wl,--strip-debug, -fno-strict-aliasing\n",
            "    name: gcc\n",
            "    version: 10.2.1\n",
            "  c++:\n",
            "    commands: c++\n",
            "    linker: ld.bfd\n",
            "    linker args: -Wl,--strip-debug\n",
            "    name: gcc\n",
            "    version: 10.2.1\n",
            "  cython:\n",
            "    commands: cython\n",
            "    linker: cython\n",
            "    name: cython\n",
            "    version: 3.0.8\n",
            "Machine Information:\n",
            "  build:\n",
            "    cpu: x86_64\n",
            "    endian: little\n",
            "    family: x86_64\n",
            "    system: linux\n",
            "  host:\n",
            "    cpu: x86_64\n",
            "    endian: little\n",
            "    family: x86_64\n",
            "    system: linux\n",
            "Python Information:\n",
            "  path: /opt/python/cp310-cp310/bin/python\n",
            "  version: '3.10'\n",
            "SIMD Extensions:\n",
            "  baseline:\n",
            "  - SSE\n",
            "  - SSE2\n",
            "  - SSE3\n",
            "  found:\n",
            "  - SSSE3\n",
            "  - SSE41\n",
            "  - POPCNT\n",
            "  - SSE42\n",
            "  - AVX\n",
            "  - F16C\n",
            "  - FMA3\n",
            "  - AVX2\n",
            "  not found:\n",
            "  - AVX512F\n",
            "  - AVX512CD\n",
            "  - AVX512_KNL\n",
            "  - AVX512_KNM\n",
            "  - AVX512_SKX\n",
            "  - AVX512_CLX\n",
            "  - AVX512_CNL\n",
            "  - AVX512_ICL\n",
            "\n"
          ]
        }
      ],
      "source": [
        "print(np.__version__)\n",
        "np.show_config()\n"
      ]
    },
    {
      "cell_type": "markdown",
      "id": "3e4c23c6",
      "metadata": {
        "id": "3e4c23c6"
      },
      "source": [
        "#### 3. Create a null vector of size 10 (★☆☆)"
      ]
    },
    {
      "cell_type": "code",
      "execution_count": 29,
      "id": "083c5c46",
      "metadata": {
        "id": "083c5c46",
        "colab": {
          "base_uri": "https://localhost:8080/"
        },
        "outputId": "a24c19bb-87b1-468e-b8e2-5653c447721f"
      },
      "outputs": [
        {
          "output_type": "stream",
          "name": "stdout",
          "text": [
            "[0. 0. 0. 0. 0. 0. 0. 0. 0. 0.]\n"
          ]
        }
      ],
      "source": [
        "Y = np.zeros(10)\n",
        "print(Y)"
      ]
    },
    {
      "cell_type": "markdown",
      "id": "c38bbe82",
      "metadata": {
        "id": "c38bbe82"
      },
      "source": [
        "#### 4. How to find the memory size of any array (★☆☆)"
      ]
    },
    {
      "cell_type": "code",
      "execution_count": 32,
      "id": "02b04021",
      "metadata": {
        "id": "02b04021",
        "colab": {
          "base_uri": "https://localhost:8080/"
        },
        "outputId": "fa374873-6baf-40fd-d787-73d2d2c6f9fe"
      },
      "outputs": [
        {
          "output_type": "execute_result",
          "data": {
            "text/plain": [
              "80"
            ]
          },
          "metadata": {},
          "execution_count": 32
        }
      ],
      "source": [
        "Y.size * Y.itemsize\n"
      ]
    },
    {
      "cell_type": "markdown",
      "id": "67f893d4",
      "metadata": {
        "id": "67f893d4"
      },
      "source": [
        "#### 5. How to get the documentation of the numpy add function from the command line? (★☆☆)"
      ]
    },
    {
      "cell_type": "code",
      "execution_count": 33,
      "id": "40e6b70d",
      "metadata": {
        "id": "40e6b70d",
        "colab": {
          "base_uri": "https://localhost:8080/"
        },
        "outputId": "75772ba2-c855-4d0a-bb08-ef23ac17bc89"
      },
      "outputs": [
        {
          "output_type": "stream",
          "name": "stdout",
          "text": [
            "Help on ufunc:\n",
            "\n",
            "add = <ufunc 'add'>\n",
            "    add(x1, x2, /, out=None, *, where=True, casting='same_kind', order='K', dtype=None, subok=True[, signature, extobj])\n",
            "    \n",
            "    Add arguments element-wise.\n",
            "    \n",
            "    Parameters\n",
            "    ----------\n",
            "    x1, x2 : array_like\n",
            "        The arrays to be added.\n",
            "        If ``x1.shape != x2.shape``, they must be broadcastable to a common\n",
            "        shape (which becomes the shape of the output).\n",
            "    out : ndarray, None, or tuple of ndarray and None, optional\n",
            "        A location into which the result is stored. If provided, it must have\n",
            "        a shape that the inputs broadcast to. If not provided or None,\n",
            "        a freshly-allocated array is returned. A tuple (possible only as a\n",
            "        keyword argument) must have length equal to the number of outputs.\n",
            "    where : array_like, optional\n",
            "        This condition is broadcast over the input. At locations where the\n",
            "        condition is True, the `out` array will be set to the ufunc result.\n",
            "        Elsewhere, the `out` array will retain its original value.\n",
            "        Note that if an uninitialized `out` array is created via the default\n",
            "        ``out=None``, locations within it where the condition is False will\n",
            "        remain uninitialized.\n",
            "    **kwargs\n",
            "        For other keyword-only arguments, see the\n",
            "        :ref:`ufunc docs <ufuncs.kwargs>`.\n",
            "    \n",
            "    Returns\n",
            "    -------\n",
            "    add : ndarray or scalar\n",
            "        The sum of `x1` and `x2`, element-wise.\n",
            "        This is a scalar if both `x1` and `x2` are scalars.\n",
            "    \n",
            "    Notes\n",
            "    -----\n",
            "    Equivalent to `x1` + `x2` in terms of array broadcasting.\n",
            "    \n",
            "    Examples\n",
            "    --------\n",
            "    >>> np.add(1.0, 4.0)\n",
            "    5.0\n",
            "    >>> x1 = np.arange(9.0).reshape((3, 3))\n",
            "    >>> x2 = np.arange(3.0)\n",
            "    >>> np.add(x1, x2)\n",
            "    array([[  0.,   2.,   4.],\n",
            "           [  3.,   5.,   7.],\n",
            "           [  6.,   8.,  10.]])\n",
            "    \n",
            "    The ``+`` operator can be used as a shorthand for ``np.add`` on ndarrays.\n",
            "    \n",
            "    >>> x1 = np.arange(9.0).reshape((3, 3))\n",
            "    >>> x2 = np.arange(3.0)\n",
            "    >>> x1 + x2\n",
            "    array([[ 0.,  2.,  4.],\n",
            "           [ 3.,  5.,  7.],\n",
            "           [ 6.,  8., 10.]])\n",
            "\n",
            "add(x1, x2, /, out=None, *, where=True, casting='same_kind', order='K', dtype=None, subok=True[, signature, extobj])\n",
            "\n",
            "Add arguments element-wise.\n",
            "\n",
            "Parameters\n",
            "----------\n",
            "x1, x2 : array_like\n",
            "    The arrays to be added.\n",
            "    If ``x1.shape != x2.shape``, they must be broadcastable to a common\n",
            "    shape (which becomes the shape of the output).\n",
            "out : ndarray, None, or tuple of ndarray and None, optional\n",
            "    A location into which the result is stored. If provided, it must have\n",
            "    a shape that the inputs broadcast to. If not provided or None,\n",
            "    a freshly-allocated array is returned. A tuple (possible only as a\n",
            "    keyword argument) must have length equal to the number of outputs.\n",
            "where : array_like, optional\n",
            "    This condition is broadcast over the input. At locations where the\n",
            "    condition is True, the `out` array will be set to the ufunc result.\n",
            "    Elsewhere, the `out` array will retain its original value.\n",
            "    Note that if an uninitialized `out` array is created via the default\n",
            "    ``out=None``, locations within it where the condition is False will\n",
            "    remain uninitialized.\n",
            "**kwargs\n",
            "    For other keyword-only arguments, see the\n",
            "    :ref:`ufunc docs <ufuncs.kwargs>`.\n",
            "\n",
            "Returns\n",
            "-------\n",
            "add : ndarray or scalar\n",
            "    The sum of `x1` and `x2`, element-wise.\n",
            "    This is a scalar if both `x1` and `x2` are scalars.\n",
            "\n",
            "Notes\n",
            "-----\n",
            "Equivalent to `x1` + `x2` in terms of array broadcasting.\n",
            "\n",
            "Examples\n",
            "--------\n",
            ">>> np.add(1.0, 4.0)\n",
            "5.0\n",
            ">>> x1 = np.arange(9.0).reshape((3, 3))\n",
            ">>> x2 = np.arange(3.0)\n",
            ">>> np.add(x1, x2)\n",
            "array([[  0.,   2.,   4.],\n",
            "       [  3.,   5.,   7.],\n",
            "       [  6.,   8.,  10.]])\n",
            "\n",
            "The ``+`` operator can be used as a shorthand for ``np.add`` on ndarrays.\n",
            "\n",
            ">>> x1 = np.arange(9.0).reshape((3, 3))\n",
            ">>> x2 = np.arange(3.0)\n",
            ">>> x1 + x2\n",
            "array([[ 0.,  2.,  4.],\n",
            "       [ 3.,  5.,  7.],\n",
            "       [ 6.,  8., 10.]])\n"
          ]
        }
      ],
      "source": [
        "\n",
        "import numpy as np\n",
        "help(np.add)\n",
        "np.info(np.add)"
      ]
    },
    {
      "cell_type": "markdown",
      "id": "e0c739c6",
      "metadata": {
        "id": "e0c739c6"
      },
      "source": [
        "#### 6. Create a null vector of size 10 but the fifth value which is 1 (★☆☆)"
      ]
    },
    {
      "cell_type": "code",
      "execution_count": 36,
      "id": "bcceacf7",
      "metadata": {
        "id": "bcceacf7",
        "colab": {
          "base_uri": "https://localhost:8080/"
        },
        "outputId": "b88c499b-0d8d-4721-9240-80caba66fc5b"
      },
      "outputs": [
        {
          "output_type": "stream",
          "name": "stdout",
          "text": [
            "[0. 0. 0. 0. 1. 0. 0. 0. 0. 0.]\n"
          ]
        }
      ],
      "source": [
        "import numpy as np\n",
        "Z = np.zeros(10)\n",
        "Z[4] = 1\n",
        "print(Z)"
      ]
    },
    {
      "cell_type": "markdown",
      "id": "fbebedab",
      "metadata": {
        "id": "fbebedab"
      },
      "source": [
        "#### 7. Create a vector with values ranging from 10 to 49 (★☆☆)"
      ]
    },
    {
      "cell_type": "code",
      "execution_count": 37,
      "id": "3d117d54",
      "metadata": {
        "id": "3d117d54",
        "colab": {
          "base_uri": "https://localhost:8080/"
        },
        "outputId": "0263453f-80ed-41df-900a-26f853f3c78a"
      },
      "outputs": [
        {
          "output_type": "stream",
          "name": "stdout",
          "text": [
            "[10 11 12 13 14 15 16 17 18 19 20 21 22 23 24 25 26 27 28 29 30 31 32 33\n",
            " 34 35 36 37 38 39 40 41 42 43 44 45 46 47 48 49]\n"
          ]
        }
      ],
      "source": [
        "import numpy as np\n",
        "Z = np.arange(10,50)\n",
        "print(Z)"
      ]
    },
    {
      "cell_type": "markdown",
      "id": "ad0bff02",
      "metadata": {
        "id": "ad0bff02"
      },
      "source": [
        "#### 8. Reverse a vector (first element becomes last) (★☆☆)"
      ]
    },
    {
      "cell_type": "code",
      "execution_count": 39,
      "id": "22d23470",
      "metadata": {
        "id": "22d23470",
        "colab": {
          "base_uri": "https://localhost:8080/"
        },
        "outputId": "3024ffb3-bfba-4304-d7c8-1afe53f90e5c"
      },
      "outputs": [
        {
          "output_type": "stream",
          "name": "stdout",
          "text": [
            "[49 48 47 46 45 44 43 42 41 40 39 38 37 36 35 34 33 32 31 30 29 28 27 26\n",
            " 25 24 23 22 21 20 19 18 17 16 15 14 13 12 11 10  9  8  7  6  5  4  3  2\n",
            "  1  0]\n"
          ]
        }
      ],
      "source": [
        "Z= np.arange(50)\n",
        "Z = Z[::-1]\n",
        "print(Z)\n"
      ]
    },
    {
      "cell_type": "markdown",
      "id": "9f59d7e1",
      "metadata": {
        "id": "9f59d7e1"
      },
      "source": [
        "#### 9. Create a 3x3 matrix with values ranging from 0 to 8 (★☆☆)"
      ]
    },
    {
      "cell_type": "code",
      "execution_count": 41,
      "id": "7449e82d",
      "metadata": {
        "id": "7449e82d",
        "colab": {
          "base_uri": "https://localhost:8080/"
        },
        "outputId": "cbf2336f-5fbc-4736-9b76-250aca7e13df"
      },
      "outputs": [
        {
          "output_type": "stream",
          "name": "stdout",
          "text": [
            "[[0 1 2]\n",
            " [3 4 5]\n",
            " [6 7 8]]\n"
          ]
        }
      ],
      "source": [
        "import numpy as np\n",
        "X = np.arange(9).reshape(3, 3)\n",
        "print(X)"
      ]
    },
    {
      "cell_type": "markdown",
      "id": "f374c4cf",
      "metadata": {
        "id": "f374c4cf"
      },
      "source": [
        "#### 10. Find indices of non-zero elements from [1,2,0,0,4,0] (★☆☆)"
      ]
    },
    {
      "cell_type": "code",
      "execution_count": 42,
      "id": "1a84bed8",
      "metadata": {
        "id": "1a84bed8",
        "colab": {
          "base_uri": "https://localhost:8080/"
        },
        "outputId": "fd5e3816-c3b4-427c-977b-7b0a5a93d846"
      },
      "outputs": [
        {
          "output_type": "stream",
          "name": "stdout",
          "text": [
            "(array([0, 1, 4]),)\n"
          ]
        }
      ],
      "source": [
        "import numpy as np\n",
        "y = np.array([1,2,0,0,4,0])\n",
        "ny = np.nonzero(y)\n",
        "print(ny)"
      ]
    },
    {
      "cell_type": "markdown",
      "id": "9c4707f5",
      "metadata": {
        "id": "9c4707f5"
      },
      "source": [
        "#### 11. Create a 3x3 identity matrix (★☆☆)"
      ]
    },
    {
      "cell_type": "code",
      "execution_count": 43,
      "id": "29dc1fd3",
      "metadata": {
        "id": "29dc1fd3",
        "outputId": "83029a43-d325-45fd-e6bc-2a7d76e9df8f",
        "colab": {
          "base_uri": "https://localhost:8080/"
        }
      },
      "outputs": [
        {
          "output_type": "stream",
          "name": "stdout",
          "text": [
            "[[1. 0. 0.]\n",
            " [0. 1. 0.]\n",
            " [0. 0. 1.]]\n"
          ]
        }
      ],
      "source": [
        "a=np.eye(3)\n",
        "print(a)"
      ]
    },
    {
      "cell_type": "markdown",
      "id": "3bac294a",
      "metadata": {
        "id": "3bac294a"
      },
      "source": [
        "#### 12. Create a 3x3x3 array with random values (★☆☆)"
      ]
    },
    {
      "cell_type": "code",
      "execution_count": 44,
      "id": "eadfae67",
      "metadata": {
        "id": "eadfae67",
        "outputId": "96c9702b-cebf-45e8-9b8c-f577b636407f",
        "colab": {
          "base_uri": "https://localhost:8080/"
        }
      },
      "outputs": [
        {
          "output_type": "stream",
          "name": "stdout",
          "text": [
            "[[[0.56627354 0.90418405 0.69506932]\n",
            "  [0.00349383 0.07749932 0.98609049]\n",
            "  [0.13554126 0.82742836 0.76287807]]\n",
            "\n",
            " [[0.9764444  0.65897546 0.49787039]\n",
            "  [0.93738936 0.08409163 0.93140185]\n",
            "  [0.87218435 0.1995799  0.67539058]]\n",
            "\n",
            " [[0.85273811 0.32051044 0.77116875]\n",
            "  [0.60582297 0.04605075 0.28942558]\n",
            "  [0.58179519 0.08857299 0.65220674]]]\n"
          ]
        }
      ],
      "source": [
        "b=np.random.random((3,3,3))\n",
        "print(b)"
      ]
    },
    {
      "cell_type": "markdown",
      "id": "466c2989",
      "metadata": {
        "id": "466c2989"
      },
      "source": [
        "#### 13. Create a 10x10 array with random values and find the minimum and maximum values (★☆☆)"
      ]
    },
    {
      "cell_type": "code",
      "execution_count": 45,
      "id": "9a74dbfc",
      "metadata": {
        "id": "9a74dbfc",
        "outputId": "73651006-4c5f-4558-81cc-c58dc8f1980d",
        "colab": {
          "base_uri": "https://localhost:8080/"
        }
      },
      "outputs": [
        {
          "output_type": "stream",
          "name": "stdout",
          "text": [
            "[[0.56761044 0.20224726 0.35588102 0.4804349  0.75671989 0.91700677\n",
            "  0.86131883 0.24147828 0.03527965 0.28558869]\n",
            " [0.79700961 0.61753368 0.85577262 0.75967819 0.78642274 0.13355938\n",
            "  0.62748533 0.15061775 0.19072001 0.17381453]\n",
            " [0.0267887  0.05878392 0.51110222 0.86165671 0.08787971 0.37676948\n",
            "  0.95316229 0.15784118 0.64796475 0.85161174]\n",
            " [0.63555539 0.07674436 0.36071733 0.33793136 0.46054879 0.4767778\n",
            "  0.43850024 0.62187783 0.25835223 0.04991352]\n",
            " [0.36269403 0.89279146 0.42377148 0.24041919 0.92431192 0.89208535\n",
            "  0.52521201 0.65461939 0.61586898 0.02048247]\n",
            " [0.97806428 0.16375971 0.52175381 0.89226897 0.6514739  0.6576005\n",
            "  0.19351084 0.89914825 0.31136406 0.63563086]\n",
            " [0.29312071 0.1330825  0.78495571 0.78318628 0.28331753 0.72778702\n",
            "  0.553034   0.64300064 0.52461229 0.65126477]\n",
            " [0.25908771 0.74313163 0.35083772 0.32455727 0.31816812 0.46796498\n",
            "  0.3146316  0.14921832 0.55532533 0.37896721]\n",
            " [0.48966447 0.85122643 0.87981284 0.29442809 0.40207453 0.79677481\n",
            "  0.93811895 0.86861455 0.92761872 0.4077723 ]\n",
            " [0.14274941 0.13271922 0.49623191 0.97454781 0.94141258 0.4480121\n",
            "  0.77358143 0.65803999 0.75982897 0.59615821]]\n",
            "0.020482474501883785\n",
            "0.9780642818682289\n"
          ]
        }
      ],
      "source": [
        "x=np.random.random((10,10))\n",
        "print(x)\n",
        "print(x.min())\n",
        "print(x.max())"
      ]
    },
    {
      "cell_type": "markdown",
      "id": "53a8edb2",
      "metadata": {
        "id": "53a8edb2"
      },
      "source": [
        "#### 14. Create a random vector of size 30 and find the mean value (★☆☆)"
      ]
    },
    {
      "cell_type": "code",
      "execution_count": 47,
      "id": "6691530b",
      "metadata": {
        "id": "6691530b",
        "outputId": "ef09006b-e30c-49ca-80bc-40ded54e62ca",
        "colab": {
          "base_uri": "https://localhost:8080/"
        }
      },
      "outputs": [
        {
          "output_type": "stream",
          "name": "stdout",
          "text": [
            "0.5240757738783253\n"
          ]
        }
      ],
      "source": [
        "a=np.random.random(30)\n",
        "b=a.mean()\n",
        "print(b)"
      ]
    },
    {
      "cell_type": "markdown",
      "id": "cbaad31c",
      "metadata": {
        "id": "cbaad31c"
      },
      "source": [
        "#### 15. Create a 2d array with 1 on the border and 0 inside (★☆☆)"
      ]
    },
    {
      "cell_type": "code",
      "execution_count": 48,
      "id": "ad8308e3",
      "metadata": {
        "id": "ad8308e3",
        "outputId": "65917a6f-46cc-4c97-fe56-7b3f12ba912a",
        "colab": {
          "base_uri": "https://localhost:8080/"
        }
      },
      "outputs": [
        {
          "output_type": "stream",
          "name": "stdout",
          "text": [
            "[[1. 1. 1. 1. 1. 1. 1. 1. 1. 1.]\n",
            " [1. 0. 0. 0. 0. 0. 0. 0. 0. 1.]\n",
            " [1. 0. 0. 0. 0. 0. 0. 0. 0. 1.]\n",
            " [1. 0. 0. 0. 0. 0. 0. 0. 0. 1.]\n",
            " [1. 0. 0. 0. 0. 0. 0. 0. 0. 1.]\n",
            " [1. 0. 0. 0. 0. 0. 0. 0. 0. 1.]\n",
            " [1. 0. 0. 0. 0. 0. 0. 0. 0. 1.]\n",
            " [1. 0. 0. 0. 0. 0. 0. 0. 0. 1.]\n",
            " [1. 0. 0. 0. 0. 0. 0. 0. 0. 1.]\n",
            " [1. 1. 1. 1. 1. 1. 1. 1. 1. 1.]]\n"
          ]
        }
      ],
      "source": [
        "a=np.ones((10,10))\n",
        "a[1:-1,1:-1]=0\n",
        "print(a)"
      ]
    },
    {
      "cell_type": "markdown",
      "id": "c5ecc267",
      "metadata": {
        "id": "c5ecc267"
      },
      "source": [
        "#### 16. How to add a border (filled with 0's) around an existing array? (★☆☆)"
      ]
    },
    {
      "cell_type": "code",
      "execution_count": 49,
      "id": "9d5c78c4",
      "metadata": {
        "id": "9d5c78c4",
        "outputId": "5a130809-805e-4332-a680-37b051999eb7",
        "colab": {
          "base_uri": "https://localhost:8080/"
        }
      },
      "outputs": [
        {
          "output_type": "stream",
          "name": "stdout",
          "text": [
            "[[0.         0.         0.         0.         0.         0.\n",
            "  0.         0.         0.         0.         0.         0.        ]\n",
            " [0.         0.47250942 0.18559549 0.2729416  0.83838445 0.50463493\n",
            "  0.2035609  0.0104718  0.42449719 0.60918071 0.19140911 0.        ]\n",
            " [0.         0.99551729 0.01544286 0.79859138 0.39194536 0.33459196\n",
            "  0.40143497 0.02741694 0.06240285 0.15824107 0.81665033 0.        ]\n",
            " [0.         0.80803609 0.84233874 0.52284533 0.3605926  0.41061412\n",
            "  0.97382653 0.64658242 0.39818607 0.71093057 0.4108087  0.        ]\n",
            " [0.         0.56054313 0.34409962 0.22322011 0.72194116 0.91805079\n",
            "  0.0864982  0.1964248  0.27787833 0.75891913 0.45698099 0.        ]\n",
            " [0.         0.19514063 0.37517614 0.78004842 0.90698032 0.58644839\n",
            "  0.11524693 0.37762371 0.64416282 0.33045631 0.05808754 0.        ]\n",
            " [0.         0.17362517 0.12250038 0.16359139 0.90789665 0.23276157\n",
            "  0.34972901 0.26582817 0.73429744 0.49680691 0.53893805 0.        ]\n",
            " [0.         0.57299382 0.50719133 0.77808396 0.0392805  0.87896072\n",
            "  0.03830076 0.77599138 0.36113773 0.60620284 0.22075578 0.        ]\n",
            " [0.         0.18514462 0.21616553 0.4560769  0.33837264 0.49581234\n",
            "  0.89148551 0.16151783 0.79531779 0.95103179 0.69060391 0.        ]\n",
            " [0.         0.98889408 0.63851671 0.97523996 0.45237867 0.44055932\n",
            "  0.43409674 0.52370722 0.6359082  0.81569811 0.17342351 0.        ]\n",
            " [0.         0.59232197 0.59259947 0.46933003 0.04831631 0.55923474\n",
            "  0.50374027 0.18423463 0.06559347 0.75200706 0.88693312 0.        ]\n",
            " [0.         0.         0.         0.         0.         0.\n",
            "  0.         0.         0.         0.         0.         0.        ]]\n",
            "[[0.         0.         0.         0.         0.         0.\n",
            "  0.         0.         0.         0.        ]\n",
            " [0.         0.79524815 0.28385578 0.89315773 0.97689791 0.69684614\n",
            "  0.58031166 0.74739715 0.34824661 0.        ]\n",
            " [0.         0.1816648  0.12951178 0.79072429 0.82785237 0.60772565\n",
            "  0.77803063 0.96653936 0.00916203 0.        ]\n",
            " [0.         0.49898565 0.3311661  0.70163838 0.64232393 0.66087642\n",
            "  0.73843998 0.34747928 0.47705674 0.        ]\n",
            " [0.         0.53976069 0.40003689 0.12719596 0.6067178  0.6127432\n",
            "  0.72948555 0.04014936 0.01256174 0.        ]\n",
            " [0.         0.38853546 0.56476371 0.0798221  0.38566118 0.38425006\n",
            "  0.12735149 0.46527404 0.61738428 0.        ]\n",
            " [0.         0.11760951 0.58432052 0.07842875 0.83058678 0.76558084\n",
            "  0.84830779 0.93587165 0.836642   0.        ]\n",
            " [0.         0.48097187 0.38064574 0.16792621 0.55319124 0.03288176\n",
            "  0.40467296 0.36245977 0.77637168 0.        ]\n",
            " [0.         0.34624865 0.8243478  0.66693974 0.32069575 0.06480163\n",
            "  0.86749286 0.25099533 0.06394009 0.        ]\n",
            " [0.         0.         0.         0.         0.         0.\n",
            "  0.         0.         0.         0.        ]]\n"
          ]
        }
      ],
      "source": [
        "y=np.random.random((10,10))\n",
        "y=np.pad(y,pad_width=1,mode='constant',constant_values=0)\n",
        "print(y)\n",
        "y=np.random.random((10,10))\n",
        "y[:,[0,-1]]=0\n",
        "y[[0,-1],:]=0\n",
        "print(y)"
      ]
    },
    {
      "cell_type": "markdown",
      "id": "ef909b72",
      "metadata": {
        "id": "ef909b72"
      },
      "source": [
        "#### 17. What is the result of the following expression? (★☆☆)\n",
        "```python\n",
        "0 * np.nan\n",
        "np.nan == np.nan\n",
        "np.inf > np.nan\n",
        "np.nan - np.nan\n",
        "np.nan in set([np.nan])\n",
        "0.3 == 3 * 0.1\n",
        "```"
      ]
    },
    {
      "cell_type": "code",
      "execution_count": 50,
      "id": "3b4985f2",
      "metadata": {
        "id": "3b4985f2",
        "outputId": "e32dbf45-23fc-4dd6-9d69-70cec3ed4f02",
        "colab": {
          "base_uri": "https://localhost:8080/"
        }
      },
      "outputs": [
        {
          "output_type": "stream",
          "name": "stdout",
          "text": [
            "nan\n",
            "False\n",
            "False\n",
            "nan\n",
            "True\n"
          ]
        }
      ],
      "source": [
        "print(0 * np.nan)\n",
        "print(np.nan == np.nan)\n",
        "print(np.inf > np.nan)\n",
        "print(np.nan - np.nan)\n",
        "print(np.nan in set([np.nan]))"
      ]
    },
    {
      "cell_type": "markdown",
      "id": "502738ac",
      "metadata": {
        "id": "502738ac"
      },
      "source": [
        "#### 18. Create a 5x5 matrix with values 1,2,3,4 just below the diagonal (★☆☆)"
      ]
    },
    {
      "cell_type": "code",
      "execution_count": 51,
      "id": "faed6e2b",
      "metadata": {
        "id": "faed6e2b",
        "outputId": "bca283ae-0ac0-4651-9bfd-063a5eaa8a72",
        "colab": {
          "base_uri": "https://localhost:8080/"
        }
      },
      "outputs": [
        {
          "output_type": "stream",
          "name": "stdout",
          "text": [
            "[[0.49655408 0.76456535 0.89551086 0.959849   0.47095962]\n",
            " [0.92143167 0.75537245 0.47217002 0.21118528 0.58352792]\n",
            " [0.31392839 0.39732679 0.23679064 0.0590061  0.38682459]\n",
            " [0.47472779 0.6139094  0.83250146 0.63666994 0.14809659]\n",
            " [0.74485215 0.73182306 0.7315848  0.34918372 0.76283017]]\n",
            "[[0.49655408 0.76456535 0.89551086 0.959849   0.47095962]\n",
            " [1.         0.75537245 0.47217002 0.21118528 0.58352792]\n",
            " [0.31392839 2.         0.23679064 0.0590061  0.38682459]\n",
            " [0.47472779 0.6139094  3.         0.63666994 0.14809659]\n",
            " [0.74485215 0.73182306 0.7315848  4.         0.76283017]]\n"
          ]
        }
      ],
      "source": [
        "c= np.random.random((5,5))\n",
        "print(c)\n",
        "for i in range(1,5):\n",
        "  c[i,i-1]=i\n",
        "print(c)"
      ]
    },
    {
      "cell_type": "markdown",
      "id": "a65da660",
      "metadata": {
        "id": "a65da660"
      },
      "source": [
        "#### 19. Create a 8x8 matrix and fill it with a checkerboard pattern (★☆☆)"
      ]
    },
    {
      "cell_type": "code",
      "execution_count": 52,
      "id": "ed150400",
      "metadata": {
        "id": "ed150400",
        "outputId": "3b291e03-b970-4106-aef9-a6f470fda9a0",
        "colab": {
          "base_uri": "https://localhost:8080/"
        }
      },
      "outputs": [
        {
          "output_type": "stream",
          "name": "stdout",
          "text": [
            "[[0.43444557 0.58126729 0.87255998 0.37898301 0.78175156 0.4097156\n",
            "  0.57553196 0.1986337 ]\n",
            " [0.45846926 0.46227434 0.56388567 0.36478222 0.41357788 0.54468982\n",
            "  0.86469702 0.40750431]\n",
            " [0.03824512 0.23725771 0.35955073 0.2171352  0.11843202 0.23030682\n",
            "  0.06255107 0.2398286 ]\n",
            " [0.79246498 0.20455486 0.9592631  0.29478843 0.35679511 0.59848287\n",
            "  0.39848819 0.62009364]\n",
            " [0.99496798 0.14659325 0.00243482 0.05215372 0.56034683 0.11772247\n",
            "  0.69192446 0.17592241]\n",
            " [0.94525854 0.84667395 0.47582758 0.2549848  0.14561804 0.49817772\n",
            "  0.57750826 0.42603099]\n",
            " [0.21127487 0.14031348 0.42965456 0.6437594  0.06805604 0.79636118\n",
            "  0.60357593 0.94216901]\n",
            " [0.72855928 0.22764319 0.47413512 0.65852661 0.27255177 0.41990724\n",
            "  0.43283789 0.81204715]]\n",
            "[[0.         0.58126729 0.         0.37898301 0.         0.4097156\n",
            "  0.         0.1986337 ]\n",
            " [0.45846926 0.         0.56388567 0.         0.41357788 0.\n",
            "  0.86469702 0.        ]\n",
            " [0.         0.23725771 0.         0.2171352  0.         0.23030682\n",
            "  0.         0.2398286 ]\n",
            " [0.79246498 0.         0.9592631  0.         0.35679511 0.\n",
            "  0.39848819 0.        ]\n",
            " [0.         0.14659325 0.         0.05215372 0.         0.11772247\n",
            "  0.         0.17592241]\n",
            " [0.94525854 0.         0.47582758 0.         0.14561804 0.\n",
            "  0.57750826 0.        ]\n",
            " [0.         0.14031348 0.         0.6437594  0.         0.79636118\n",
            "  0.         0.94216901]\n",
            " [0.72855928 0.         0.47413512 0.         0.27255177 0.\n",
            "  0.43283789 0.        ]]\n"
          ]
        }
      ],
      "source": [
        "b= np.random.random((8,8))\n",
        "print(b)\n",
        "for i in range(0,8):\n",
        "  for j in range(0,8):\n",
        "    if (i+j)%2==0:\n",
        "      b[i,j]=0\n",
        "print(b)"
      ]
    },
    {
      "cell_type": "markdown",
      "id": "9f7f9c49",
      "metadata": {
        "id": "9f7f9c49"
      },
      "source": [
        "#### 20. Consider a (6,7,8) shape array, what is the index (x,y,z) of the 100th element? (★☆☆)"
      ]
    },
    {
      "cell_type": "code",
      "execution_count": 24,
      "id": "3782b5a9",
      "metadata": {
        "id": "3782b5a9",
        "outputId": "137d6c6f-6bd3-469e-ffaa-46c473e2881e",
        "colab": {
          "base_uri": "https://localhost:8080/"
        }
      },
      "outputs": [
        {
          "output_type": "execute_result",
          "data": {
            "text/plain": [
              "(1, 5, 3)"
            ]
          },
          "metadata": {},
          "execution_count": 24
        }
      ],
      "source": [
        "def find_index(element_number, shape):\n",
        "  x = element_number // (shape[1] * shape[2])\n",
        "  y = (element_number % (shape[1] * shape[2])) // shape[2]\n",
        "  z = element_number % shape[2]\n",
        "  return x, y, z\n",
        "\n",
        "index_100 = find_index(99, (6,7,8))\n",
        "index_100"
      ]
    },
    {
      "cell_type": "code",
      "source": [
        "np.random.random((6,7,8))"
      ],
      "metadata": {
        "id": "UtC3M8Ec7W7T",
        "outputId": "8b72a43d-4fdf-437b-cb80-61397187a67d",
        "colab": {
          "base_uri": "https://localhost:8080/"
        }
      },
      "id": "UtC3M8Ec7W7T",
      "execution_count": 25,
      "outputs": [
        {
          "output_type": "execute_result",
          "data": {
            "text/plain": [
              "array([[[0.5253106 , 0.63313999, 0.3090423 , 0.70227058, 0.08423993,\n",
              "         0.535581  , 0.64921461, 0.55066345],\n",
              "        [0.19477836, 0.03700027, 0.3747581 , 0.00892922, 0.59189047,\n",
              "         0.90551561, 0.89663734, 0.23716972],\n",
              "        [0.15952417, 0.40311324, 0.51347379, 0.60688144, 0.93442126,\n",
              "         0.99742248, 0.86410551, 0.19895523],\n",
              "        [0.8630657 , 0.51553915, 0.14403538, 0.22145833, 0.50632027,\n",
              "         0.359826  , 0.60447477, 0.74549337],\n",
              "        [0.02017028, 0.94120244, 0.19413193, 0.62785634, 0.80895636,\n",
              "         0.63343342, 0.13736297, 0.08297623],\n",
              "        [0.84920846, 0.82204239, 0.59607364, 0.84073057, 0.97624947,\n",
              "         0.18655151, 0.86041589, 0.66782302],\n",
              "        [0.61696994, 0.66120518, 0.71423853, 0.44234386, 0.92510833,\n",
              "         0.31688528, 0.41838757, 0.44254669]],\n",
              "\n",
              "       [[0.0631892 , 0.72338929, 0.01409395, 0.35137652, 0.8331461 ,\n",
              "         0.56400457, 0.02560444, 0.90621935],\n",
              "        [0.00642507, 0.9585845 , 0.91773341, 0.26923821, 0.01778221,\n",
              "         0.05026366, 0.64098269, 0.22843555],\n",
              "        [0.20704316, 0.78305808, 0.49392701, 0.10871635, 0.47196899,\n",
              "         0.76171305, 0.93384771, 0.64122195],\n",
              "        [0.89474246, 0.24383378, 0.53133802, 0.405573  , 0.66480962,\n",
              "         0.33186309, 0.14101779, 0.68021015],\n",
              "        [0.37890409, 0.22297057, 0.23198723, 0.71746811, 0.96860727,\n",
              "         0.38120524, 0.23272451, 0.00230693],\n",
              "        [0.00976564, 0.53885861, 0.26631058, 0.87545639, 0.91763713,\n",
              "         0.52292871, 0.46739923, 0.17843883],\n",
              "        [0.11583046, 0.99243732, 0.93998919, 0.06844043, 0.38708789,\n",
              "         0.6485773 , 0.44809142, 0.03569042]],\n",
              "\n",
              "       [[0.58044321, 0.10081267, 0.88378708, 0.39593368, 0.14494992,\n",
              "         0.16275471, 0.2961158 , 0.11595566],\n",
              "        [0.04723323, 0.95617956, 0.28111389, 0.07384607, 0.86817742,\n",
              "         0.20294804, 0.54439267, 0.91243704],\n",
              "        [0.43839967, 0.57402869, 0.42678278, 0.15169084, 0.06155259,\n",
              "         0.12768056, 0.58494959, 0.91531569],\n",
              "        [0.14805352, 0.43639842, 0.88358957, 0.29692851, 0.22141288,\n",
              "         0.91074638, 0.53469014, 0.6605138 ],\n",
              "        [0.96809434, 0.204025  , 0.7546019 , 0.8291685 , 0.65631762,\n",
              "         0.20741375, 0.61034756, 0.15899488],\n",
              "        [0.91435967, 0.75030206, 0.53863797, 0.20605067, 0.44380736,\n",
              "         0.3191967 , 0.37433284, 0.2996807 ],\n",
              "        [0.84475672, 0.63915162, 0.4792005 , 0.80422956, 0.68977959,\n",
              "         0.69227165, 0.94853304, 0.06065134]],\n",
              "\n",
              "       [[0.83454156, 0.23610215, 0.62248033, 0.45790985, 0.88007346,\n",
              "         0.66863669, 0.59339587, 0.15836261],\n",
              "        [0.07868124, 0.80776288, 0.00833535, 0.27625906, 0.37385881,\n",
              "         0.65017554, 0.84469752, 0.94463679],\n",
              "        [0.11668599, 0.66260006, 0.52506754, 0.87618433, 0.61616845,\n",
              "         0.55814533, 0.0295479 , 0.25780028],\n",
              "        [0.92436468, 0.02881264, 0.3857351 , 0.76888351, 0.08783404,\n",
              "         0.89729495, 0.07608176, 0.20167585],\n",
              "        [0.32740369, 0.47568872, 0.06039047, 0.76012911, 0.2300717 ,\n",
              "         0.21970957, 0.7967747 , 0.20921483],\n",
              "        [0.57245523, 0.52493785, 0.75064709, 0.48672122, 0.76730394,\n",
              "         0.29827223, 0.9768095 , 0.1960467 ],\n",
              "        [0.60330745, 0.98923315, 0.78002464, 0.12459902, 0.3157639 ,\n",
              "         0.34134204, 0.98505588, 0.22971759]],\n",
              "\n",
              "       [[0.21922506, 0.37792531, 0.57275995, 0.24829757, 0.88287488,\n",
              "         0.89473418, 0.07585252, 0.87809735],\n",
              "        [0.94179683, 0.33000174, 0.33212705, 0.39236573, 0.16040563,\n",
              "         0.15819209, 0.15523094, 0.03205968],\n",
              "        [0.96113757, 0.99638758, 0.22193078, 0.85183619, 0.33961662,\n",
              "         0.12631566, 0.18353228, 0.28188257],\n",
              "        [0.10181096, 0.01708835, 0.62124096, 0.26024187, 0.31041783,\n",
              "         0.62285534, 0.45265813, 0.55340222],\n",
              "        [0.12548329, 0.04653977, 0.19123402, 0.89381383, 0.33819474,\n",
              "         0.43807843, 0.88175034, 0.44492961],\n",
              "        [0.92889346, 0.95170485, 0.60343482, 0.7556    , 0.97442272,\n",
              "         0.53043276, 0.425838  , 0.41819029],\n",
              "        [0.12511824, 0.56890954, 0.72565689, 0.17276251, 0.08003513,\n",
              "         0.55416325, 0.01364075, 0.25772522]],\n",
              "\n",
              "       [[0.30286522, 0.414016  , 0.44404192, 0.07081662, 0.11267686,\n",
              "         0.09896309, 0.04829944, 0.53860454],\n",
              "        [0.88857368, 0.76349623, 0.46196587, 0.99347713, 0.03698377,\n",
              "         0.80553744, 0.54450198, 0.23117181],\n",
              "        [0.63786924, 0.16131833, 0.5344022 , 0.71169793, 0.88309806,\n",
              "         0.6928877 , 0.04561221, 0.76972661],\n",
              "        [0.33444329, 0.74367639, 0.26620362, 0.19152294, 0.69564349,\n",
              "         0.18844167, 0.48817241, 0.70686428],\n",
              "        [0.58161345, 0.29324463, 0.93463019, 0.35558101, 0.51525072,\n",
              "         0.36218923, 0.93755065, 0.43427172],\n",
              "        [0.60499507, 0.08722326, 0.96510727, 0.67789479, 0.82743242,\n",
              "         0.44961358, 0.42114045, 0.24609373],\n",
              "        [0.44243447, 0.23540334, 0.901016  , 0.88846456, 0.59989709,\n",
              "         0.02829   , 0.87866488, 0.497565  ]]])"
            ]
          },
          "metadata": {},
          "execution_count": 25
        }
      ]
    },
    {
      "cell_type": "markdown",
      "id": "66bfda35",
      "metadata": {
        "id": "66bfda35"
      },
      "source": [
        "#### 21. Create a checkerboard 8x8 matrix using the tile function (★☆☆)"
      ]
    },
    {
      "cell_type": "code",
      "execution_count": 11,
      "id": "4c07477c",
      "metadata": {
        "id": "4c07477c"
      },
      "outputs": [],
      "source": []
    },
    {
      "cell_type": "markdown",
      "id": "d5bcfc08",
      "metadata": {
        "id": "d5bcfc08"
      },
      "source": [
        "#### 22. Normalize a 5x5 random matrix (★☆☆)"
      ]
    },
    {
      "cell_type": "code",
      "execution_count": 11,
      "id": "cea6c993",
      "metadata": {
        "id": "cea6c993"
      },
      "outputs": [],
      "source": []
    },
    {
      "cell_type": "markdown",
      "id": "f9a0911e",
      "metadata": {
        "id": "f9a0911e"
      },
      "source": [
        "#### 23. Create a custom dtype that describes a color as four unsigned bytes (RGBA) (★☆☆)"
      ]
    },
    {
      "cell_type": "code",
      "execution_count": 11,
      "id": "d165044b",
      "metadata": {
        "id": "d165044b"
      },
      "outputs": [],
      "source": []
    },
    {
      "cell_type": "markdown",
      "id": "654805b1",
      "metadata": {
        "id": "654805b1"
      },
      "source": [
        "#### 24. Multiply a 5x3 matrix by a 3x2 matrix (real matrix product) (★☆☆)"
      ]
    },
    {
      "cell_type": "code",
      "execution_count": 11,
      "id": "6a42619f",
      "metadata": {
        "id": "6a42619f"
      },
      "outputs": [],
      "source": []
    },
    {
      "cell_type": "markdown",
      "id": "994c25df",
      "metadata": {
        "id": "994c25df"
      },
      "source": [
        "#### 25. Given a 1D array, negate all elements which are between 3 and 8, in place. (★☆☆)"
      ]
    },
    {
      "cell_type": "code",
      "execution_count": 11,
      "id": "e4b39c03",
      "metadata": {
        "id": "e4b39c03"
      },
      "outputs": [],
      "source": []
    },
    {
      "cell_type": "markdown",
      "id": "b7d15d1a",
      "metadata": {
        "id": "b7d15d1a"
      },
      "source": [
        "#### 26. What is the output of the following script? (★☆☆)\n",
        "```python\n",
        "# Author: Jake VanderPlas\n",
        "\n",
        "print(sum(range(5),-1))\n",
        "from numpy import *\n",
        "print(sum(range(5),-1))\n",
        "```"
      ]
    },
    {
      "cell_type": "code",
      "execution_count": 11,
      "id": "4c95bc3f",
      "metadata": {
        "id": "4c95bc3f"
      },
      "outputs": [],
      "source": []
    },
    {
      "cell_type": "markdown",
      "id": "a34f0d08",
      "metadata": {
        "id": "a34f0d08"
      },
      "source": [
        "#### 27. Consider an integer vector Z, which of these expressions are legal? (★☆☆)\n",
        "```python\n",
        "Z**Z\n",
        "2 << Z >> 2\n",
        "Z <- Z\n",
        "1j*Z\n",
        "Z/1/1\n",
        "Z<Z>Z\n",
        "```"
      ]
    },
    {
      "cell_type": "code",
      "execution_count": 11,
      "id": "564658fc",
      "metadata": {
        "id": "564658fc"
      },
      "outputs": [],
      "source": []
    },
    {
      "cell_type": "markdown",
      "id": "c34e94bf",
      "metadata": {
        "id": "c34e94bf"
      },
      "source": [
        "#### 28. What are the result of the following expressions? (★☆☆)\n",
        "```python\n",
        "np.array(0) / np.array(0)\n",
        "np.array(0) // np.array(0)\n",
        "np.array([np.nan]).astype(int).astype(float)\n",
        "```"
      ]
    },
    {
      "cell_type": "code",
      "execution_count": 11,
      "id": "56663562",
      "metadata": {
        "id": "56663562"
      },
      "outputs": [],
      "source": []
    },
    {
      "cell_type": "markdown",
      "id": "546f5e7b",
      "metadata": {
        "id": "546f5e7b"
      },
      "source": [
        "#### 29. How to round away from zero a float array ? (★☆☆)"
      ]
    },
    {
      "cell_type": "code",
      "execution_count": 11,
      "id": "f725a6d2",
      "metadata": {
        "id": "f725a6d2"
      },
      "outputs": [],
      "source": []
    },
    {
      "cell_type": "markdown",
      "id": "eadca856",
      "metadata": {
        "id": "eadca856"
      },
      "source": [
        "#### 30. How to find common values between two arrays? (★☆☆)"
      ]
    },
    {
      "cell_type": "code",
      "execution_count": 11,
      "id": "e0270b5b",
      "metadata": {
        "id": "e0270b5b"
      },
      "outputs": [],
      "source": []
    },
    {
      "cell_type": "markdown",
      "id": "ca16ca22",
      "metadata": {
        "id": "ca16ca22"
      },
      "source": [
        "#### 31. How to ignore all numpy warnings (not recommended)? (★☆☆)"
      ]
    },
    {
      "cell_type": "code",
      "execution_count": 11,
      "id": "7d7208ef",
      "metadata": {
        "id": "7d7208ef"
      },
      "outputs": [],
      "source": []
    },
    {
      "cell_type": "markdown",
      "id": "c7871d0d",
      "metadata": {
        "id": "c7871d0d"
      },
      "source": [
        "#### 32. Is the following expressions true? (★☆☆)\n",
        "```python\n",
        "np.sqrt(-1) == np.emath.sqrt(-1)\n",
        "```"
      ]
    },
    {
      "cell_type": "code",
      "execution_count": 11,
      "id": "acc3701a",
      "metadata": {
        "id": "acc3701a"
      },
      "outputs": [],
      "source": []
    },
    {
      "cell_type": "markdown",
      "id": "e0433e30",
      "metadata": {
        "id": "e0433e30"
      },
      "source": [
        "#### 33. How to get the dates of yesterday, today and tomorrow? (★☆☆)"
      ]
    },
    {
      "cell_type": "code",
      "execution_count": 11,
      "id": "9c4d2152",
      "metadata": {
        "id": "9c4d2152"
      },
      "outputs": [],
      "source": []
    },
    {
      "cell_type": "markdown",
      "id": "9f52a2ef",
      "metadata": {
        "id": "9f52a2ef"
      },
      "source": [
        "#### 34. How to get all the dates corresponding to the month of July 2016? (★★☆)"
      ]
    },
    {
      "cell_type": "code",
      "execution_count": 11,
      "id": "d6c34dec",
      "metadata": {
        "id": "d6c34dec"
      },
      "outputs": [],
      "source": []
    },
    {
      "cell_type": "markdown",
      "id": "4a64e059",
      "metadata": {
        "id": "4a64e059"
      },
      "source": [
        "#### 35. How to compute ((A+B)*(-A/2)) in place (without copy)? (★★☆)"
      ]
    },
    {
      "cell_type": "code",
      "execution_count": 11,
      "id": "49267f60",
      "metadata": {
        "id": "49267f60"
      },
      "outputs": [],
      "source": []
    },
    {
      "cell_type": "markdown",
      "id": "8a98c2a8",
      "metadata": {
        "id": "8a98c2a8"
      },
      "source": [
        "#### 36. Extract the integer part of a random array of positive numbers using 4 different methods (★★☆)"
      ]
    },
    {
      "cell_type": "code",
      "execution_count": 11,
      "id": "368130b3",
      "metadata": {
        "id": "368130b3"
      },
      "outputs": [],
      "source": []
    },
    {
      "cell_type": "markdown",
      "id": "5a2e3d85",
      "metadata": {
        "id": "5a2e3d85"
      },
      "source": [
        "#### 37. Create a 5x5 matrix with row values ranging from 0 to 4 (★★☆)"
      ]
    },
    {
      "cell_type": "code",
      "execution_count": 11,
      "id": "1d974e8f",
      "metadata": {
        "id": "1d974e8f"
      },
      "outputs": [],
      "source": []
    },
    {
      "cell_type": "markdown",
      "id": "9720e2d5",
      "metadata": {
        "id": "9720e2d5"
      },
      "source": [
        "#### 38. Consider a generator function that generates 10 integers and use it to build an array (★☆☆)"
      ]
    },
    {
      "cell_type": "code",
      "execution_count": 11,
      "id": "e5dd8fc9",
      "metadata": {
        "id": "e5dd8fc9"
      },
      "outputs": [],
      "source": []
    },
    {
      "cell_type": "markdown",
      "id": "c6f2c912",
      "metadata": {
        "id": "c6f2c912"
      },
      "source": [
        "#### 39. Create a vector of size 10 with values ranging from 0 to 1, both excluded (★★☆)"
      ]
    },
    {
      "cell_type": "code",
      "execution_count": 11,
      "id": "6aaa27d3",
      "metadata": {
        "id": "6aaa27d3"
      },
      "outputs": [],
      "source": []
    },
    {
      "cell_type": "markdown",
      "id": "a36d6ee4",
      "metadata": {
        "id": "a36d6ee4"
      },
      "source": [
        "#### 40. Create a random vector of size 10 and sort it (★★☆)"
      ]
    },
    {
      "cell_type": "code",
      "execution_count": 11,
      "id": "e589d216",
      "metadata": {
        "id": "e589d216"
      },
      "outputs": [],
      "source": []
    },
    {
      "cell_type": "markdown",
      "id": "0fb4ad68",
      "metadata": {
        "id": "0fb4ad68"
      },
      "source": [
        "#### 41. How to sum a small array faster than np.sum? (★★☆)"
      ]
    },
    {
      "cell_type": "code",
      "execution_count": 11,
      "id": "a1ba05a0",
      "metadata": {
        "id": "a1ba05a0"
      },
      "outputs": [],
      "source": []
    },
    {
      "cell_type": "markdown",
      "id": "024ac365",
      "metadata": {
        "id": "024ac365"
      },
      "source": [
        "#### 42. Consider two random array A and B, check if they are equal (★★☆)"
      ]
    },
    {
      "cell_type": "code",
      "execution_count": 11,
      "id": "7db3846d",
      "metadata": {
        "id": "7db3846d"
      },
      "outputs": [],
      "source": []
    },
    {
      "cell_type": "markdown",
      "id": "c68d2401",
      "metadata": {
        "id": "c68d2401"
      },
      "source": [
        "#### 43. Make an array immutable (read-only) (★★☆)"
      ]
    },
    {
      "cell_type": "code",
      "execution_count": 11,
      "id": "7828539d",
      "metadata": {
        "id": "7828539d"
      },
      "outputs": [],
      "source": []
    },
    {
      "cell_type": "markdown",
      "id": "55df6280",
      "metadata": {
        "id": "55df6280"
      },
      "source": [
        "#### 44. Consider a random 10x2 matrix representing cartesian coordinates, convert them to polar coordinates (★★☆)"
      ]
    },
    {
      "cell_type": "code",
      "execution_count": 11,
      "id": "f1c86ea0",
      "metadata": {
        "id": "f1c86ea0"
      },
      "outputs": [],
      "source": []
    },
    {
      "cell_type": "markdown",
      "id": "2f60f1ec",
      "metadata": {
        "id": "2f60f1ec"
      },
      "source": [
        "#### 45. Create random vector of size 10 and replace the maximum value by 0 (★★☆)"
      ]
    },
    {
      "cell_type": "code",
      "execution_count": 11,
      "id": "d9f48f1c",
      "metadata": {
        "id": "d9f48f1c"
      },
      "outputs": [],
      "source": []
    },
    {
      "cell_type": "markdown",
      "id": "084e8ad4",
      "metadata": {
        "id": "084e8ad4"
      },
      "source": [
        "#### 46. Create a structured array with `x` and `y` coordinates covering the [0,1]x[0,1] area (★★☆)"
      ]
    },
    {
      "cell_type": "code",
      "execution_count": 11,
      "id": "58b47c13",
      "metadata": {
        "id": "58b47c13"
      },
      "outputs": [],
      "source": []
    },
    {
      "cell_type": "markdown",
      "id": "d7b9bc42",
      "metadata": {
        "id": "d7b9bc42"
      },
      "source": [
        "#### 47. Given two arrays, X and Y, construct the Cauchy matrix C (Cij =1/(xi - yj)) (★★☆)"
      ]
    },
    {
      "cell_type": "code",
      "execution_count": 11,
      "id": "a24824fb",
      "metadata": {
        "id": "a24824fb"
      },
      "outputs": [],
      "source": []
    },
    {
      "cell_type": "markdown",
      "id": "65ebc11b",
      "metadata": {
        "id": "65ebc11b"
      },
      "source": [
        "#### 48. Print the minimum and maximum representable value for each numpy scalar type (★★☆)"
      ]
    },
    {
      "cell_type": "code",
      "execution_count": 11,
      "id": "e45d38fb",
      "metadata": {
        "id": "e45d38fb"
      },
      "outputs": [],
      "source": []
    },
    {
      "cell_type": "markdown",
      "id": "9b317a98",
      "metadata": {
        "id": "9b317a98"
      },
      "source": [
        "#### 49. How to print all the values of an array? (★★☆)"
      ]
    },
    {
      "cell_type": "code",
      "execution_count": 11,
      "id": "309cdeb9",
      "metadata": {
        "id": "309cdeb9"
      },
      "outputs": [],
      "source": []
    },
    {
      "cell_type": "markdown",
      "id": "b580f9d0",
      "metadata": {
        "id": "b580f9d0"
      },
      "source": [
        "#### 50. How to find the closest value (to a given scalar) in a vector? (★★☆)"
      ]
    },
    {
      "cell_type": "code",
      "execution_count": 11,
      "id": "ebfb6714",
      "metadata": {
        "id": "ebfb6714"
      },
      "outputs": [],
      "source": []
    },
    {
      "cell_type": "markdown",
      "id": "602e6252",
      "metadata": {
        "id": "602e6252"
      },
      "source": [
        "#### 51. Create a structured array representing a position (x,y) and a color (r,g,b) (★★☆)"
      ]
    },
    {
      "cell_type": "code",
      "execution_count": 11,
      "id": "cf002b3a",
      "metadata": {
        "id": "cf002b3a"
      },
      "outputs": [],
      "source": []
    },
    {
      "cell_type": "markdown",
      "id": "78bcd92f",
      "metadata": {
        "id": "78bcd92f"
      },
      "source": [
        "#### 52. Consider a random vector with shape (100,2) representing coordinates, find point by point distances (★★☆)"
      ]
    },
    {
      "cell_type": "code",
      "execution_count": 11,
      "id": "fea7f9a6",
      "metadata": {
        "id": "fea7f9a6"
      },
      "outputs": [],
      "source": []
    },
    {
      "cell_type": "markdown",
      "id": "343c5a85",
      "metadata": {
        "id": "343c5a85"
      },
      "source": [
        "#### 53. How to convert a float (32 bits) array into an integer (32 bits) in place?"
      ]
    },
    {
      "cell_type": "code",
      "execution_count": 11,
      "id": "fc1b687b",
      "metadata": {
        "id": "fc1b687b"
      },
      "outputs": [],
      "source": []
    },
    {
      "cell_type": "markdown",
      "id": "a69e1ace",
      "metadata": {
        "id": "a69e1ace"
      },
      "source": [
        "#### 54. How to read the following file? (★★☆)\n",
        "```\n",
        "1, 2, 3, 4, 5\n",
        "6,  ,  , 7, 8\n",
        " ,  , 9,10,11\n",
        "```"
      ]
    },
    {
      "cell_type": "code",
      "execution_count": 11,
      "id": "1c7957d4",
      "metadata": {
        "id": "1c7957d4"
      },
      "outputs": [],
      "source": []
    },
    {
      "cell_type": "markdown",
      "id": "c23bd80d",
      "metadata": {
        "id": "c23bd80d"
      },
      "source": [
        "#### 55. What is the equivalent of enumerate for numpy arrays? (★★☆)"
      ]
    },
    {
      "cell_type": "code",
      "execution_count": 11,
      "id": "d95d9578",
      "metadata": {
        "id": "d95d9578"
      },
      "outputs": [],
      "source": []
    },
    {
      "cell_type": "markdown",
      "id": "2153a5ec",
      "metadata": {
        "id": "2153a5ec"
      },
      "source": [
        "#### 56. Generate a generic 2D Gaussian-like array (★★☆)"
      ]
    },
    {
      "cell_type": "code",
      "execution_count": 11,
      "id": "61122d1e",
      "metadata": {
        "id": "61122d1e"
      },
      "outputs": [],
      "source": []
    },
    {
      "cell_type": "markdown",
      "id": "2e76d589",
      "metadata": {
        "id": "2e76d589"
      },
      "source": [
        "#### 57. How to randomly place p elements in a 2D array? (★★☆)"
      ]
    },
    {
      "cell_type": "code",
      "execution_count": 11,
      "id": "0c2e4fcc",
      "metadata": {
        "id": "0c2e4fcc"
      },
      "outputs": [],
      "source": []
    },
    {
      "cell_type": "markdown",
      "id": "8b3933eb",
      "metadata": {
        "id": "8b3933eb"
      },
      "source": [
        "#### 58. Subtract the mean of each row of a matrix (★★☆)"
      ]
    },
    {
      "cell_type": "code",
      "execution_count": 11,
      "id": "a306c9ef",
      "metadata": {
        "id": "a306c9ef"
      },
      "outputs": [],
      "source": []
    },
    {
      "cell_type": "markdown",
      "id": "ea8807c0",
      "metadata": {
        "id": "ea8807c0"
      },
      "source": [
        "#### 59. How to sort an array by the nth column? (★★☆)"
      ]
    },
    {
      "cell_type": "code",
      "execution_count": 11,
      "id": "cc89a699",
      "metadata": {
        "id": "cc89a699"
      },
      "outputs": [],
      "source": []
    },
    {
      "cell_type": "markdown",
      "id": "00fa00a1",
      "metadata": {
        "id": "00fa00a1"
      },
      "source": [
        "#### 60. How to tell if a given 2D array has null columns? (★★☆)"
      ]
    },
    {
      "cell_type": "code",
      "execution_count": 11,
      "id": "3436e165",
      "metadata": {
        "id": "3436e165"
      },
      "outputs": [],
      "source": []
    },
    {
      "cell_type": "markdown",
      "id": "5a65c7a2",
      "metadata": {
        "id": "5a65c7a2"
      },
      "source": [
        "#### 61. Find the nearest value from a given value in an array (★★☆)"
      ]
    },
    {
      "cell_type": "code",
      "execution_count": 11,
      "id": "73f149d6",
      "metadata": {
        "id": "73f149d6"
      },
      "outputs": [],
      "source": []
    },
    {
      "cell_type": "markdown",
      "id": "dd83e8af",
      "metadata": {
        "id": "dd83e8af"
      },
      "source": [
        "#### 62. Considering two arrays with shape (1,3) and (3,1), how to compute their sum using an iterator? (★★☆)"
      ]
    },
    {
      "cell_type": "code",
      "execution_count": 11,
      "id": "29a709a1",
      "metadata": {
        "id": "29a709a1"
      },
      "outputs": [],
      "source": []
    },
    {
      "cell_type": "markdown",
      "id": "6c042efa",
      "metadata": {
        "id": "6c042efa"
      },
      "source": [
        "#### 63. Create an array class that has a name attribute (★★☆)"
      ]
    },
    {
      "cell_type": "code",
      "execution_count": 11,
      "id": "45b3d2e0",
      "metadata": {
        "id": "45b3d2e0"
      },
      "outputs": [],
      "source": []
    },
    {
      "cell_type": "markdown",
      "id": "0a075c3d",
      "metadata": {
        "id": "0a075c3d"
      },
      "source": [
        "#### 64. Consider a given vector, how to add 1 to each element indexed by a second vector (be careful with repeated indices)? (★★★)"
      ]
    },
    {
      "cell_type": "code",
      "execution_count": 11,
      "id": "36c50470",
      "metadata": {
        "id": "36c50470"
      },
      "outputs": [],
      "source": []
    },
    {
      "cell_type": "markdown",
      "id": "0fb2f0c5",
      "metadata": {
        "id": "0fb2f0c5"
      },
      "source": [
        "#### 65. How to accumulate elements of a vector (X) to an array (F) based on an index list (I)? (★★★)"
      ]
    },
    {
      "cell_type": "code",
      "execution_count": 11,
      "id": "58aa5f82",
      "metadata": {
        "id": "58aa5f82"
      },
      "outputs": [],
      "source": []
    },
    {
      "cell_type": "markdown",
      "id": "d89dc506",
      "metadata": {
        "id": "d89dc506"
      },
      "source": [
        "#### 66. Considering a (w,h,3) image of (dtype=ubyte), compute the number of unique colors (★★☆)"
      ]
    },
    {
      "cell_type": "code",
      "execution_count": 11,
      "id": "8fb43a49",
      "metadata": {
        "id": "8fb43a49"
      },
      "outputs": [],
      "source": []
    },
    {
      "cell_type": "markdown",
      "id": "535a5d81",
      "metadata": {
        "id": "535a5d81"
      },
      "source": [
        "#### 67. Considering a four dimensions array, how to get sum over the last two axis at once? (★★★)"
      ]
    },
    {
      "cell_type": "code",
      "execution_count": 11,
      "id": "f954ab9d",
      "metadata": {
        "id": "f954ab9d"
      },
      "outputs": [],
      "source": []
    },
    {
      "cell_type": "markdown",
      "id": "eee66d3c",
      "metadata": {
        "id": "eee66d3c"
      },
      "source": [
        "#### 68. Considering a one-dimensional vector D, how to compute means of subsets of D using a vector S of same size describing subset  indices? (★★★)"
      ]
    },
    {
      "cell_type": "code",
      "execution_count": 11,
      "id": "8929773a",
      "metadata": {
        "id": "8929773a"
      },
      "outputs": [],
      "source": []
    },
    {
      "cell_type": "markdown",
      "id": "f90d4c40",
      "metadata": {
        "id": "f90d4c40"
      },
      "source": [
        "#### 69. How to get the diagonal of a dot product? (★★★)"
      ]
    },
    {
      "cell_type": "code",
      "execution_count": 11,
      "id": "b47d392d",
      "metadata": {
        "id": "b47d392d"
      },
      "outputs": [],
      "source": []
    },
    {
      "cell_type": "markdown",
      "id": "a8a97e7d",
      "metadata": {
        "id": "a8a97e7d"
      },
      "source": [
        "#### 70. Consider the vector [1, 2, 3, 4, 5], how to build a new vector with 3 consecutive zeros interleaved between each value? (★★★)"
      ]
    },
    {
      "cell_type": "code",
      "execution_count": 11,
      "id": "ee6c6c37",
      "metadata": {
        "id": "ee6c6c37"
      },
      "outputs": [],
      "source": []
    },
    {
      "cell_type": "markdown",
      "id": "d6a30d60",
      "metadata": {
        "id": "d6a30d60"
      },
      "source": [
        "#### 71. Consider an array of dimension (5,5,3), how to mulitply it by an array with dimensions (5,5)? (★★★)"
      ]
    },
    {
      "cell_type": "code",
      "execution_count": 11,
      "id": "e9703f2e",
      "metadata": {
        "id": "e9703f2e"
      },
      "outputs": [],
      "source": []
    },
    {
      "cell_type": "markdown",
      "id": "bac359a9",
      "metadata": {
        "id": "bac359a9"
      },
      "source": [
        "#### 72. How to swap two rows of an array? (★★★)"
      ]
    },
    {
      "cell_type": "code",
      "execution_count": 11,
      "id": "f1b432b1",
      "metadata": {
        "id": "f1b432b1"
      },
      "outputs": [],
      "source": []
    },
    {
      "cell_type": "markdown",
      "id": "620c9f83",
      "metadata": {
        "id": "620c9f83"
      },
      "source": [
        "#### 73. Consider a set of 10 triplets describing 10 triangles (with shared vertices), find the set of unique line segments composing all the  triangles (★★★)"
      ]
    },
    {
      "cell_type": "code",
      "execution_count": 11,
      "id": "4e595ffc",
      "metadata": {
        "id": "4e595ffc"
      },
      "outputs": [],
      "source": []
    },
    {
      "cell_type": "markdown",
      "id": "a76c55a2",
      "metadata": {
        "id": "a76c55a2"
      },
      "source": [
        "#### 74. Given a sorted array C that corresponds to a bincount, how to produce an array A such that np.bincount(A) == C? (★★★)"
      ]
    },
    {
      "cell_type": "code",
      "execution_count": 11,
      "id": "2d2ae65a",
      "metadata": {
        "id": "2d2ae65a"
      },
      "outputs": [],
      "source": []
    },
    {
      "cell_type": "markdown",
      "id": "d550c8e2",
      "metadata": {
        "id": "d550c8e2"
      },
      "source": [
        "#### 75. How to compute averages using a sliding window over an array? (★★★)"
      ]
    },
    {
      "cell_type": "code",
      "execution_count": 11,
      "id": "841c457c",
      "metadata": {
        "id": "841c457c"
      },
      "outputs": [],
      "source": []
    },
    {
      "cell_type": "markdown",
      "id": "6b170b00",
      "metadata": {
        "id": "6b170b00"
      },
      "source": [
        "#### 76. Consider a one-dimensional array Z, build a two-dimensional array whose first row is (Z[0],Z[1],Z[2]) and each subsequent row is  shifted by 1 (last row should be (Z[-3],Z[-2],Z[-1]) (★★★)"
      ]
    },
    {
      "cell_type": "code",
      "execution_count": 11,
      "id": "d9a0cf4e",
      "metadata": {
        "id": "d9a0cf4e"
      },
      "outputs": [],
      "source": []
    },
    {
      "cell_type": "markdown",
      "id": "e94a5c1d",
      "metadata": {
        "id": "e94a5c1d"
      },
      "source": [
        "#### 77. How to negate a boolean, or to change the sign of a float inplace? (★★★)"
      ]
    },
    {
      "cell_type": "code",
      "execution_count": 11,
      "id": "c0f9504f",
      "metadata": {
        "id": "c0f9504f"
      },
      "outputs": [],
      "source": []
    },
    {
      "cell_type": "markdown",
      "id": "4eb8b5c1",
      "metadata": {
        "id": "4eb8b5c1"
      },
      "source": [
        "#### 78. Consider 2 sets of points P0,P1 describing lines (2d) and a point p, how to compute distance from p to each line i (P0[i],P1[i])? (★★★)"
      ]
    },
    {
      "cell_type": "code",
      "execution_count": 11,
      "id": "487f47ec",
      "metadata": {
        "id": "487f47ec"
      },
      "outputs": [],
      "source": []
    },
    {
      "cell_type": "markdown",
      "id": "3df99948",
      "metadata": {
        "id": "3df99948"
      },
      "source": [
        "#### 79. Consider 2 sets of points P0,P1 describing lines (2d) and a set of points P, how to compute distance from each point j (P[j]) to each line i (P0[i],P1[i])? (★★★)"
      ]
    },
    {
      "cell_type": "code",
      "execution_count": 11,
      "id": "dc2df37b",
      "metadata": {
        "id": "dc2df37b"
      },
      "outputs": [],
      "source": []
    },
    {
      "cell_type": "markdown",
      "id": "11e972c2",
      "metadata": {
        "id": "11e972c2"
      },
      "source": [
        "#### 80. Consider an arbitrary array, write a function that extract a subpart with a fixed shape and centered on a given element (pad with a `fill` value when necessary) (★★★)"
      ]
    },
    {
      "cell_type": "code",
      "execution_count": 11,
      "id": "0291247f",
      "metadata": {
        "id": "0291247f"
      },
      "outputs": [],
      "source": []
    },
    {
      "cell_type": "markdown",
      "id": "93cfeab3",
      "metadata": {
        "id": "93cfeab3"
      },
      "source": [
        "#### 81. Consider an array Z = [1,2,3,4,5,6,7,8,9,10,11,12,13,14], how to generate an array R = [[1,2,3,4], [2,3,4,5], [3,4,5,6], ..., [11,12,13,14]]? (★★★)"
      ]
    },
    {
      "cell_type": "code",
      "execution_count": 11,
      "id": "360de791",
      "metadata": {
        "id": "360de791"
      },
      "outputs": [],
      "source": []
    },
    {
      "cell_type": "markdown",
      "id": "4c15ceff",
      "metadata": {
        "id": "4c15ceff"
      },
      "source": [
        "#### 82. Compute a matrix rank (★★★)"
      ]
    },
    {
      "cell_type": "code",
      "execution_count": 11,
      "id": "9a4272d2",
      "metadata": {
        "id": "9a4272d2"
      },
      "outputs": [],
      "source": []
    },
    {
      "cell_type": "markdown",
      "id": "1171cb84",
      "metadata": {
        "id": "1171cb84"
      },
      "source": [
        "#### 83. How to find the most frequent value in an array?"
      ]
    },
    {
      "cell_type": "code",
      "execution_count": 11,
      "id": "33e951c8",
      "metadata": {
        "id": "33e951c8"
      },
      "outputs": [],
      "source": []
    },
    {
      "cell_type": "markdown",
      "id": "04f472aa",
      "metadata": {
        "id": "04f472aa"
      },
      "source": [
        "#### 84. Extract all the contiguous 3x3 blocks from a random 10x10 matrix (★★★)"
      ]
    },
    {
      "cell_type": "code",
      "execution_count": 11,
      "id": "7aade14a",
      "metadata": {
        "id": "7aade14a"
      },
      "outputs": [],
      "source": []
    },
    {
      "cell_type": "markdown",
      "id": "52836346",
      "metadata": {
        "id": "52836346"
      },
      "source": [
        "#### 85. Create a 2D array subclass such that Z[i,j] == Z[j,i] (★★★)"
      ]
    },
    {
      "cell_type": "code",
      "execution_count": 11,
      "id": "4df70318",
      "metadata": {
        "id": "4df70318"
      },
      "outputs": [],
      "source": []
    },
    {
      "cell_type": "markdown",
      "id": "78c43ee5",
      "metadata": {
        "id": "78c43ee5"
      },
      "source": [
        "#### 86. Consider a set of p matrices with shape (n,n) and a set of p vectors with shape (n,1). How to compute the sum of of the p matrix products at once? (result has shape (n,1)) (★★★)"
      ]
    },
    {
      "cell_type": "code",
      "execution_count": 11,
      "id": "32fd2c3b",
      "metadata": {
        "id": "32fd2c3b"
      },
      "outputs": [],
      "source": []
    },
    {
      "cell_type": "markdown",
      "id": "158f9945",
      "metadata": {
        "id": "158f9945"
      },
      "source": [
        "#### 87. Consider a 16x16 array, how to get the block-sum (block size is 4x4)? (★★★)"
      ]
    },
    {
      "cell_type": "code",
      "execution_count": 11,
      "id": "5a9b808f",
      "metadata": {
        "id": "5a9b808f"
      },
      "outputs": [],
      "source": []
    },
    {
      "cell_type": "markdown",
      "id": "2e0ad860",
      "metadata": {
        "id": "2e0ad860"
      },
      "source": [
        "#### 88. How to implement the Game of Life using numpy arrays? (★★★)"
      ]
    },
    {
      "cell_type": "code",
      "execution_count": 11,
      "id": "574acff5",
      "metadata": {
        "id": "574acff5"
      },
      "outputs": [],
      "source": []
    },
    {
      "cell_type": "markdown",
      "id": "69a892fa",
      "metadata": {
        "id": "69a892fa"
      },
      "source": [
        "#### 89. How to get the n largest values of an array (★★★)"
      ]
    },
    {
      "cell_type": "code",
      "execution_count": 11,
      "id": "21b2bd48",
      "metadata": {
        "id": "21b2bd48"
      },
      "outputs": [],
      "source": []
    },
    {
      "cell_type": "markdown",
      "id": "b55ccacc",
      "metadata": {
        "id": "b55ccacc"
      },
      "source": [
        "#### 90. Given an arbitrary number of vectors, build the cartesian product (every combinations of every item) (★★★)"
      ]
    },
    {
      "cell_type": "code",
      "execution_count": 11,
      "id": "4b645da4",
      "metadata": {
        "id": "4b645da4"
      },
      "outputs": [],
      "source": []
    },
    {
      "cell_type": "markdown",
      "id": "89187a23",
      "metadata": {
        "id": "89187a23"
      },
      "source": [
        "#### 91. How to create a record array from a regular array? (★★★)"
      ]
    },
    {
      "cell_type": "code",
      "execution_count": 11,
      "id": "da94c71a",
      "metadata": {
        "id": "da94c71a"
      },
      "outputs": [],
      "source": []
    },
    {
      "cell_type": "markdown",
      "id": "aa70d4ca",
      "metadata": {
        "id": "aa70d4ca"
      },
      "source": [
        "#### 92. Consider a large vector Z, compute Z to the power of 3 using 3 different methods (★★★)"
      ]
    },
    {
      "cell_type": "code",
      "execution_count": 11,
      "id": "7cff1bf5",
      "metadata": {
        "id": "7cff1bf5"
      },
      "outputs": [],
      "source": []
    },
    {
      "cell_type": "markdown",
      "id": "5f79dd00",
      "metadata": {
        "id": "5f79dd00"
      },
      "source": [
        "#### 93. Consider two arrays A and B of shape (8,3) and (2,2). How to find rows of A that contain elements of each row of B regardless of the order of the elements in B? (★★★)"
      ]
    },
    {
      "cell_type": "code",
      "execution_count": 11,
      "id": "20c105b2",
      "metadata": {
        "id": "20c105b2"
      },
      "outputs": [],
      "source": []
    },
    {
      "cell_type": "markdown",
      "id": "a80570cd",
      "metadata": {
        "id": "a80570cd"
      },
      "source": [
        "#### 94. Considering a 10x3 matrix, extract rows with unequal values (e.g. [2,2,3]) (★★★)"
      ]
    },
    {
      "cell_type": "code",
      "execution_count": 11,
      "id": "84db8de1",
      "metadata": {
        "id": "84db8de1"
      },
      "outputs": [],
      "source": []
    },
    {
      "cell_type": "markdown",
      "id": "ba154f43",
      "metadata": {
        "id": "ba154f43"
      },
      "source": [
        "#### 95. Convert a vector of ints into a matrix binary representation (★★★)"
      ]
    },
    {
      "cell_type": "code",
      "execution_count": 11,
      "id": "cfa96e1b",
      "metadata": {
        "id": "cfa96e1b"
      },
      "outputs": [],
      "source": []
    },
    {
      "cell_type": "markdown",
      "id": "420e2343",
      "metadata": {
        "id": "420e2343"
      },
      "source": [
        "#### 96. Given a two dimensional array, how to extract unique rows? (★★★)"
      ]
    },
    {
      "cell_type": "code",
      "execution_count": 11,
      "id": "4680dfd0",
      "metadata": {
        "id": "4680dfd0"
      },
      "outputs": [],
      "source": []
    },
    {
      "cell_type": "markdown",
      "id": "89fef2f3",
      "metadata": {
        "id": "89fef2f3"
      },
      "source": [
        "#### 97. Considering 2 vectors A & B, write the einsum equivalent of inner, outer, sum, and mul function (★★★)"
      ]
    },
    {
      "cell_type": "code",
      "execution_count": 11,
      "id": "bb9c14b2",
      "metadata": {
        "id": "bb9c14b2"
      },
      "outputs": [],
      "source": []
    },
    {
      "cell_type": "markdown",
      "id": "7ad5cc5f",
      "metadata": {
        "id": "7ad5cc5f"
      },
      "source": [
        "#### 98. Considering a path described by two vectors (X,Y), how to sample it using equidistant samples (★★★)?"
      ]
    },
    {
      "cell_type": "code",
      "execution_count": 11,
      "id": "0899d1d5",
      "metadata": {
        "id": "0899d1d5"
      },
      "outputs": [],
      "source": []
    },
    {
      "cell_type": "markdown",
      "id": "2b69272e",
      "metadata": {
        "id": "2b69272e"
      },
      "source": [
        "#### 99. Given an integer n and a 2D array X, select from X the rows which can be interpreted as draws from a multinomial distribution with n degrees, i.e., the rows which only contain integers and which sum to n. (★★★)"
      ]
    },
    {
      "cell_type": "code",
      "execution_count": 11,
      "id": "55c8b034",
      "metadata": {
        "id": "55c8b034"
      },
      "outputs": [],
      "source": []
    },
    {
      "cell_type": "markdown",
      "id": "59ab5516",
      "metadata": {
        "id": "59ab5516"
      },
      "source": [
        "#### 100. Compute bootstrapped 95% confidence intervals for the mean of a 1D array X (i.e., resample the elements of an array with replacement N times, compute the mean of each sample, and then compute percentiles over the means). (★★★)"
      ]
    },
    {
      "cell_type": "code",
      "execution_count": 11,
      "id": "450877d8",
      "metadata": {
        "id": "450877d8"
      },
      "outputs": [],
      "source": []
    }
  ],
  "metadata": {
    "colab": {
      "provenance": [],
      "include_colab_link": true
    },
    "language_info": {
      "name": "python"
    },
    "kernelspec": {
      "name": "python3",
      "display_name": "Python 3"
    }
  },
  "nbformat": 4,
  "nbformat_minor": 5
}