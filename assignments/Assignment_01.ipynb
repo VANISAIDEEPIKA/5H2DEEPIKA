{
  "cells": [
    {
      "cell_type": "markdown",
      "metadata": {
        "id": "view-in-github",
        "colab_type": "text"
      },
      "source": [
        "<a href=\"https://colab.research.google.com/github/VANISAIDEEPIKA/5H2DEEPIKA/blob/main/assignments/Assignment_01.ipynb\" target=\"_parent\"><img src=\"https://colab.research.google.com/assets/colab-badge.svg\" alt=\"Open In Colab\"/></a>"
      ]
    },
    {
      "cell_type": "markdown",
      "id": "548b84c2-e24f-4a12-98bb-5e7bd5ec86bd",
      "metadata": {
        "id": "548b84c2-e24f-4a12-98bb-5e7bd5ec86bd"
      },
      "source": [
        "# Python"
      ]
    },
    {
      "cell_type": "markdown",
      "id": "99fbfc45-ba9e-4766-8219-f5dbcacc8481",
      "metadata": {
        "id": "99fbfc45-ba9e-4766-8219-f5dbcacc8481"
      },
      "source": [
        "<a target=\"_blank\" href=\"https://colab.research.google.com/github/kgsb24/rishi-college/blob/main/assignments/Assignment_01.ipynb\">\n",
        "  <img src=\"https://colab.research.google.com/assets/colab-badge.svg\" alt=\"Open In Colab\"/>\n",
        "</a>"
      ]
    },
    {
      "cell_type": "markdown",
      "id": "07a1f870-f905-4703-8b65-12e83172133a",
      "metadata": {
        "id": "07a1f870-f905-4703-8b65-12e83172133a"
      },
      "source": [
        "## Basic Python Fundamentals"
      ]
    },
    {
      "cell_type": "code",
      "execution_count": null,
      "id": "502e1d87-2fdd-4588-a330-2af21268215e",
      "metadata": {
        "id": "502e1d87-2fdd-4588-a330-2af21268215e",
        "colab": {
          "base_uri": "https://localhost:8080/"
        },
        "outputId": "aacf6303-b084-464e-f3c2-c4ae20995ce1"
      },
      "outputs": [
        {
          "output_type": "stream",
          "name": "stdout",
          "text": [
            "the type of x is: <class 'int'>\n"
          ]
        }
      ],
      "source": [
        "# Write a Python program to declare a variable x with the value 10 and print its type.\n",
        "# SOLUTION-1\n",
        "# Declare variable x\n",
        "x = 10\n",
        " # print its type\n",
        "print(\"the type of x is:\",type(x))\n",
        "\n"
      ]
    },
    {
      "cell_type": "code",
      "source": [
        "# SOLUTION-2\n",
        "# Declare variable x\n",
        "x = 10\n",
        " # print its kind\n",
        "print(\"the form of x is:\",type(x))\n"
      ],
      "metadata": {
        "id": "p_ZYEbx0cxkc",
        "outputId": "e7cb4d5e-95c2-4054-a8a2-31eba5302654",
        "colab": {
          "base_uri": "https://localhost:8080/"
        }
      },
      "id": "p_ZYEbx0cxkc",
      "execution_count": null,
      "outputs": [
        {
          "output_type": "stream",
          "name": "stdout",
          "text": [
            "the form of x is: <class 'int'>\n"
          ]
        }
      ]
    },
    {
      "cell_type": "code",
      "execution_count": null,
      "id": "dae77579-4b7d-4f06-96e0-7bdfe43860d7",
      "metadata": {
        "id": "dae77579-4b7d-4f06-96e0-7bdfe43860d7",
        "outputId": "790a2531-3f18-4d31-9164-4bcdd237465b",
        "colab": {
          "base_uri": "https://localhost:8080/"
        }
      },
      "outputs": [
        {
          "output_type": "stream",
          "name": "stdout",
          "text": [
            "the sum of a,b,c is: 30\n"
          ]
        }
      ],
      "source": [
        "# Write a Python program to declare three variables a = 5, b = 10, and c = 15, and print their sum.\n",
        "a = 5\n",
        "b = 10\n",
        "c = 15\n",
        "sum = a+b+c\n",
        "print(\"the sum of a,b,c is:\",sum)\n"
      ]
    },
    {
      "cell_type": "code",
      "execution_count": null,
      "id": "c32867b2-a615-426a-89ae-bd2793b6a4dc",
      "metadata": {
        "id": "c32867b2-a615-426a-89ae-bd2793b6a4dc",
        "outputId": "a7102a44-ad77-4bdf-f2b5-138177b02792",
        "colab": {
          "base_uri": "https://localhost:8080/"
        }
      },
      "outputs": [
        {
          "output_type": "stream",
          "name": "stdout",
          "text": [
            "<class 'int'>\n",
            "<class 'float'>\n",
            "<class 'str'>\n",
            "<class 'list'>\n",
            "<class 'dict'>\n"
          ]
        }
      ],
      "source": [
        "# Write a Python program that checks and prints the type of a variable (e.g., int, float, str, etc.).\n",
        "age = 19\n",
        "temperature = 97.6\n",
        "city = \"Seoul\"\n",
        "vegetables = [\"broccoli\",\"potato\", \"cabbage\", \"carrot\"]\n",
        "cost_of_vegetables = { \"broccoli\" : 60,  \"potato\" : 55 , \"cabbage\": 85 , \"carrot\" : 35  }\n",
        "print(type(age))\n",
        "print(type(temperature))\n",
        "print(type(city))\n",
        "print(type(vegetables))\n",
        "print(type(cost_of_vegetables))"
      ]
    },
    {
      "cell_type": "code",
      "execution_count": null,
      "id": "8b233e41-9d44-4869-9ead-afb3ff1c0b67",
      "metadata": {
        "id": "8b233e41-9d44-4869-9ead-afb3ff1c0b67",
        "outputId": "6aff1c7c-de7d-4807-b086-89d3a11af12f",
        "colab": {
          "base_uri": "https://localhost:8080/"
        }
      },
      "outputs": [
        {
          "output_type": "stream",
          "name": "stdout",
          "text": [
            "Addition: 16\n",
            "Subtraction: -8\n",
            "Multiplication: 48\n",
            "Division: 0.3333333333333333\n",
            "Modulus: 4\n"
          ]
        }
      ],
      "source": [
        "# Write a Python program to perform addition, subtraction, multiplication, and division on two numbers. (User input is required for the numbers)\n",
        "#SOLUTION-1:\n",
        "\n",
        "# Displaying arithmetic operations without using user input\n",
        "\n",
        "a=4\n",
        "b=12\n",
        "print(\"Addition:\",a+b)\n",
        "print(\"Subtraction:\",a-b)\n",
        "print(\"Multiplication:\",a*b)\n",
        "print(\"Division:\",a/b)\n",
        "print(\"Modulus:\",a%b)\n",
        "\n"
      ]
    },
    {
      "cell_type": "code",
      "source": [
        "#SOLUTION-2:\n",
        "# Taking user input for two numbers = float\n",
        "\n",
        "a = float(input(\"Enter first number:\"))\n",
        "b = float(input(\"Enter second number:\"))\n",
        "\n",
        "# Performing arithmetic operations and displaying the results\n",
        "\n",
        "print(\"Addition:\",a+b)\n",
        "print(\"Subtraction:\",a-b)\n",
        "print(\"Multiplication:\",a*b)\n",
        "print(\"Division:\",a/b)\n",
        "print(\"Modulus:\",a%b)"
      ],
      "metadata": {
        "id": "sUD6WMDIb65c",
        "outputId": "7ca68079-89e6-4550-c759-c3c4e25fb181",
        "colab": {
          "base_uri": "https://localhost:8080/"
        }
      },
      "id": "sUD6WMDIb65c",
      "execution_count": null,
      "outputs": [
        {
          "output_type": "stream",
          "name": "stdout",
          "text": [
            "Enter first number:3\n",
            "Enter second number:9\n",
            "Addition: 12.0\n",
            "Subtraction: -6.0\n",
            "Multiplication: 27.0\n",
            "Division: 0.3333333333333333\n",
            "Modulus: 3.0\n"
          ]
        }
      ]
    },
    {
      "cell_type": "code",
      "source": [
        "#SOLUTION-3:\n",
        "\n",
        "# Taking user input for two numbers = int\n",
        "\n",
        "a = int(input(\"Enter first number:\"))\n",
        "b = int(input(\"Enter second number:\"))\n",
        "\n",
        "# Performing arithmetic operations and displaying the results\n",
        "print(\"Addition:\",a+b)\n",
        "print(\"Subtraction:\",a-b)\n",
        "print(\"Multiplication:\",a*b)\n",
        "print(\"Division:\",a/b)\n",
        "print(\"Modulus:\",a%b)"
      ],
      "metadata": {
        "id": "rRpWmY2xcC8h",
        "outputId": "18feb470-8ea2-4ec5-fb53-2e0cb4caac32",
        "colab": {
          "base_uri": "https://localhost:8080/"
        }
      },
      "id": "rRpWmY2xcC8h",
      "execution_count": null,
      "outputs": [
        {
          "output_type": "stream",
          "name": "stdout",
          "text": [
            "Enter first number:8\n",
            "Enter second number:4\n",
            "Addition: 12\n",
            "Subtraction: 4\n",
            "Multiplication: 32\n",
            "Division: 2.0\n",
            "Modulus: 0\n"
          ]
        }
      ]
    },
    {
      "cell_type": "code",
      "execution_count": null,
      "id": "629435bd-6bfa-44de-91d9-3b2937713257",
      "metadata": {
        "id": "629435bd-6bfa-44de-91d9-3b2937713257",
        "outputId": "8efdab70-2508-4d19-8863-01ee86690326",
        "colab": {
          "base_uri": "https://localhost:8080/"
        }
      },
      "outputs": [
        {
          "output_type": "stream",
          "name": "stdout",
          "text": [
            "123\n",
            "123.0\n"
          ]
        }
      ],
      "source": [
        "# Write a Python program to convert a string \"123\" to an integer and a float and print the results.\n",
        "x = \"123\"\n",
        "print(int(x))\n",
        "print(float(x))"
      ]
    },
    {
      "cell_type": "code",
      "execution_count": null,
      "id": "599421f1-51c1-4653-9d78-b007fcc6861b",
      "metadata": {
        "id": "599421f1-51c1-4653-9d78-b007fcc6861b",
        "outputId": "1fe921f7-d238-4e74-a8d6-7ff14769a6e8",
        "colab": {
          "base_uri": "https://localhost:8080/"
        }
      },
      "outputs": [
        {
          "output_type": "stream",
          "name": "stdout",
          "text": [
            "Enter a string:chika\n",
            "c\n"
          ]
        }
      ],
      "source": [
        "# Write a Python program to print the first character of a given string. (User input for the string)\n",
        "y=input(\"Enter a string:\")\n",
        "print(y[0])"
      ]
    },
    {
      "cell_type": "code",
      "execution_count": null,
      "id": "54ee0a5d-415f-40b6-b82e-c0de12a002f9",
      "metadata": {
        "id": "54ee0a5d-415f-40b6-b82e-c0de12a002f9",
        "outputId": "4a841ed4-dd2b-4f77-eb47-e924ebb055c6",
        "colab": {
          "base_uri": "https://localhost:8080/"
        }
      },
      "outputs": [
        {
          "output_type": "stream",
          "name": "stdout",
          "text": [
            "Enter a string: VARSHA\n",
            "The length of the string is: 6\n"
          ]
        }
      ],
      "source": [
        "# Write a Python program to print the length of a string. (User input for the string)\n",
        "\n",
        "# Get input from the user\n",
        "user_string = input(\"Enter a string: \")\n",
        "\n",
        "# Calculate and print the length of the string\n",
        "string_length = len(user_string)\n",
        "print(\"The length of the string is:\", string_length)"
      ]
    },
    {
      "cell_type": "code",
      "execution_count": null,
      "id": "65f44c33-618e-4337-a9d1-9de888c93a0a",
      "metadata": {
        "id": "65f44c33-618e-4337-a9d1-9de888c93a0a",
        "outputId": "6a9186b6-8f01-4e18-bfa6-f46ccc81f7b1",
        "colab": {
          "base_uri": "https://localhost:8080/"
        }
      },
      "outputs": [
        {
          "output_type": "stream",
          "name": "stdout",
          "text": [
            "Enter a string: VSD\n",
            "The string contains only alphabets.\n"
          ]
        }
      ],
      "source": [
        "# Write a Python program to check if a given string contains only alphabets.\n",
        "string = input(\"Enter a string: \")\n",
        "if string.isalpha():\n",
        "    print(\"The string contains only alphabets.\")\n",
        "else:\n",
        "    print(\"The string does not contain  alphabets.\")"
      ]
    },
    {
      "cell_type": "code",
      "source": [
        "string = input(\"Enter a string: \")\n",
        "if string.isalpha():\n",
        "    print(\"The string contains only alphabets.\")\n",
        "else:\n",
        "    print(\"The string contains other alphabets also .\")"
      ],
      "metadata": {
        "id": "BWSNL3v2x_lN",
        "outputId": "e1516380-eddd-405f-d50d-0250afdedc7e",
        "colab": {
          "base_uri": "https://localhost:8080/"
        }
      },
      "id": "BWSNL3v2x_lN",
      "execution_count": null,
      "outputs": [
        {
          "output_type": "stream",
          "name": "stdout",
          "text": [
            "Enter a string: VSD1305\n",
            "The string contains other alphabets also .\n"
          ]
        }
      ]
    },
    {
      "cell_type": "code",
      "execution_count": null,
      "id": "37463128-2b51-4860-b6bf-40d3c03fbe84",
      "metadata": {
        "id": "37463128-2b51-4860-b6bf-40d3c03fbe84",
        "outputId": "f3e3af29-7aa9-4897-bbb4-f8785ae5e2e1",
        "colab": {
          "base_uri": "https://localhost:8080/"
        }
      },
      "outputs": [
        {
          "output_type": "stream",
          "name": "stdout",
          "text": [
            "Enter the first string: 5\n",
            "Enter the second string: 5\n",
            "Concatenated string: 55\n"
          ]
        }
      ],
      "source": [
        "# Write a Python program to concatenate two strings. (User input for the strings)\n",
        "a = input(\"Enter the first string: \")\n",
        "b = input(\"Enter the second string: \")\n",
        "c = a + b\n",
        "print(\"Concatenated string:\", c)"
      ]
    },
    {
      "cell_type": "code",
      "execution_count": null,
      "id": "b1c5d364-eccf-473a-b03a-ab15f3e917cf",
      "metadata": {
        "id": "b1c5d364-eccf-473a-b03a-ab15f3e917cf",
        "outputId": "320b70e2-115d-465e-a4fd-8558bec1d1c4",
        "colab": {
          "base_uri": "https://localhost:8080/"
        }
      },
      "outputs": [
        {
          "output_type": "stream",
          "name": "stdout",
          "text": [
            "Enter a string: deepikaabc\n",
            "index of 'abc': 7\n"
          ]
        }
      ],
      "source": [
        "# Write a Python program to find the index of a substring \"abc\" in a string. (User input for the string)\n",
        "string = \"abc\"\n",
        "string = input(\"Enter a string: \")\n",
        "index = string.find(\"abc\")\n",
        "print(\"index of 'abc':\", index)"
      ]
    },
    {
      "cell_type": "code",
      "execution_count": null,
      "id": "cc92afd9-ba4b-4934-a79d-f26825b4efc2",
      "metadata": {
        "id": "cc92afd9-ba4b-4934-a79d-f26825b4efc2",
        "outputId": "77fc6b0d-a056-47be-864a-3e5f4fa18df3",
        "colab": {
          "base_uri": "https://localhost:8080/"
        }
      },
      "outputs": [
        {
          "output_type": "stream",
          "name": "stdout",
          "text": [
            "enter a Z Deepika\n",
            "Upper Case:  DEEPIKA\n",
            "Lower Case:  deepika\n"
          ]
        }
      ],
      "source": [
        "# Write a Python program to convert a string to both uppercase and lowercase. (User input for the string)\n",
        "Z = input (\"enter a Z\")\n",
        "print(\"Upper Case:\",string.upper())\n",
        "print(\"Lower Case:\",string.lower())"
      ]
    },
    {
      "cell_type": "code",
      "execution_count": null,
      "id": "f24f79b3-da8b-44bf-8310-c68442e86e3e",
      "metadata": {
        "id": "f24f79b3-da8b-44bf-8310-c68442e86e3e",
        "outputId": "9f6e02db-20c9-4838-c652-cceb9d83a6e3",
        "colab": {
          "base_uri": "https://localhost:8080/"
        }
      },
      "outputs": [
        {
          "output_type": "stream",
          "name": "stdout",
          "text": [
            "Enter a X: deepika\n",
            "Enter a character: e\n",
            "The character 'e' appears 2 times in the string.\n"
          ]
        }
      ],
      "source": [
        "# Write a Python program to count how many times a particular character appears in a string. (User input for string and character)\n",
        "X = input(\"Enter a X: \")\n",
        "character = input(\"Enter a character: \")\n",
        "count = string.count(character)\n",
        "print(f\"The character '{character}' appears {count} times in the string.\")"
      ]
    },
    {
      "cell_type": "code",
      "execution_count": null,
      "id": "f2e8f25c-5c34-44eb-b749-7cc4c100b9a8",
      "metadata": {
        "id": "f2e8f25c-5c34-44eb-b749-7cc4c100b9a8",
        "outputId": "8799046b-f136-4723-b01a-f8f211f7e449",
        "colab": {
          "base_uri": "https://localhost:8080/"
        }
      },
      "outputs": [
        {
          "output_type": "stream",
          "name": "stdout",
          "text": [
            "enter user_name VANI SAI DEEPIKA \n",
            "Hello,  VANI SAI DEEPIKA , Good Morning\n"
          ]
        }
      ],
      "source": [
        "# Write a Python program to take the user's name as input and print a personalized greeting. (Hello, username, Good Morning)\n",
        "user_name = input(\"enter user_name\")\n",
        "print(\"Hello, \"+ user_name +\", Good Morning\")"
      ]
    },
    {
      "cell_type": "code",
      "execution_count": null,
      "id": "189296cf-77e6-4f48-b010-77458da5bc9d",
      "metadata": {
        "id": "189296cf-77e6-4f48-b010-77458da5bc9d",
        "outputId": "5ff549fc-66fe-4a70-868a-330043bfcabb",
        "colab": {
          "base_uri": "https://localhost:8080/"
        }
      },
      "outputs": [
        {
          "output_type": "stream",
          "name": "stdout",
          "text": [
            "Enter the first number: 5\n",
            "Enter the second number: 15\n",
            "Sum of the two numbers: 20\n"
          ]
        }
      ],
      "source": [
        "# Write a Python program to take two numbers as input and print their sum.\n",
        "x = int(input(\"Enter the first number: \"))\n",
        "y = int(input(\"Enter the second number: \"))\n",
        "z = x + y\n",
        "print(\"Sum of the two numbers:\", z)"
      ]
    },
    {
      "cell_type": "code",
      "execution_count": null,
      "id": "0563b26c-0218-47b8-9035-98beb73b0931",
      "metadata": {
        "id": "0563b26c-0218-47b8-9035-98beb73b0931",
        "outputId": "60719041-a00a-4bc3-9c0e-05c1eefac067",
        "colab": {
          "base_uri": "https://localhost:8080/"
        }
      },
      "outputs": [
        {
          "output_type": "stream",
          "name": "stdout",
          "text": [
            "Enter your name: AAROHI\n",
            "Enter your age: 19 \n",
            "Hello, AAROHI! You are 19 years old.\n"
          ]
        }
      ],
      "source": [
        "# Write a Python program to format and display a string containing the user's name and age. (User input required)\n",
        "name = input(\"Enter your name: \")\n",
        "age = int(input(\"Enter your age: \"))\n",
        "print(f\"Hello, {name}! You are {age} years old.\")\n"
      ]
    },
    {
      "cell_type": "markdown",
      "id": "0bde6e5a-0415-4b06-8b5a-95fa252b34eb",
      "metadata": {
        "id": "0bde6e5a-0415-4b06-8b5a-95fa252b34eb"
      },
      "source": [
        "## Control Structures (Conditionals and Loops)"
      ]
    },
    {
      "cell_type": "code",
      "execution_count": null,
      "id": "aefff5f3-b61e-43e6-a458-7367ef1af9de",
      "metadata": {
        "id": "aefff5f3-b61e-43e6-a458-7367ef1af9de",
        "outputId": "dd9d915b-4ce6-49cb-baf4-b878b29b20af",
        "colab": {
          "base_uri": "https://localhost:8080/"
        }
      },
      "outputs": [
        {
          "output_type": "stream",
          "name": "stdout",
          "text": [
            "Enter a number: 7\n",
            "x is positive: 7\n"
          ]
        }
      ],
      "source": [
        "# Write a Python program that takes a number as input and checks whether it is positive, negative, or zero.\n",
        "X = int(input(\"Enter a number: \"))\n",
        "if X > 0:\n",
        "    print('x is positive:', X)\n",
        "elif X < 0:\n",
        "    print('x is negative:', X)\n",
        "else:\n",
        "    print('x is zero:', X)"
      ]
    },
    {
      "cell_type": "code",
      "execution_count": null,
      "id": "4dc6d14b-6d22-4348-859a-2a03f9be65f7",
      "metadata": {
        "id": "4dc6d14b-6d22-4348-859a-2a03f9be65f7",
        "outputId": "bfd68acb-9602-4174-ed48-43cd228279fe",
        "colab": {
          "base_uri": "https://localhost:8080/"
        }
      },
      "outputs": [
        {
          "output_type": "stream",
          "name": "stdout",
          "text": [
            "Enter the first number: 6\n",
            "Enter the second number: 7\n",
            "Enter the third number: 8\n",
            "The maximum of the three numbers is: 8.0\n"
          ]
        }
      ],
      "source": [
        "# Write a Python program to find the maximum of three numbers. (User input for the numbers)\n",
        "A = float(input(\"Enter the first number: \"))\n",
        "B = float(input(\"Enter the second number: \"))\n",
        "C = float(input(\"Enter the third number: \"))\n",
        "maximum = max(A, B, C)\n",
        "print(\"The maximum of the three numbers is:\", maximum)"
      ]
    },
    {
      "cell_type": "code",
      "execution_count": null,
      "id": "3f6d1f45-eb68-4142-89d6-510046f21879",
      "metadata": {
        "id": "3f6d1f45-eb68-4142-89d6-510046f21879",
        "outputId": "bf098a66-8f26-4e9b-ce40-eeea187938d4",
        "colab": {
          "base_uri": "https://localhost:8080/"
        }
      },
      "outputs": [
        {
          "output_type": "stream",
          "name": "stdout",
          "text": [
            "Enter a year: 2005\n",
            "2005 is not a leap year.\n"
          ]
        }
      ],
      "source": [
        "# Write a Python program to check if a year is a leap year. (User input for the year)\n",
        "year = int(input(\"Enter a year: \"))\n",
        "\n",
        "if (year % 4 == 0 and year % 100 != 0) or year % 400 == 0:\n",
        "    print(f\"{year} is a leap year.\")\n",
        "else:\n",
        "    print(f\"{year} is not a leap year.\")"
      ]
    },
    {
      "cell_type": "code",
      "execution_count": 3,
      "id": "b6a07105-6fa5-4f70-b64b-ebd66afc3c2b",
      "metadata": {
        "id": "b6a07105-6fa5-4f70-b64b-ebd66afc3c2b",
        "colab": {
          "base_uri": "https://localhost:8080/"
        },
        "outputId": "c94f1b93-3043-49a8-81b3-ef396cb96e9e"
      },
      "outputs": [
        {
          "output_type": "stream",
          "name": "stdout",
          "text": [
            "Enter a number: 15\n",
            "15 is divisible by both 3 and 5.\n"
          ]
        }
      ],
      "source": [
        "# Write a Python program to check if a number is divisible by both 3 and 5. (User input for the number)\n",
        "num1 = int(input(\"Enter a number: \"))\n",
        "\n",
        "if num1 % 3 == 0 and num1 % 5 == 0:\n",
        "    print(f\"{num1} is divisible by both 3 and 5.\")\n",
        "else:\n",
        "    print(f\"{num1} is not divisible by both 3 and 5.\")"
      ]
    },
    {
      "cell_type": "code",
      "execution_count": 6,
      "id": "d10c9005-b85d-42f9-81d0-65d149415888",
      "metadata": {
        "id": "d10c9005-b85d-42f9-81d0-65d149415888",
        "colab": {
          "base_uri": "https://localhost:8080/"
        },
        "outputId": "05de1757-65bf-4869-fcd1-81f4e622d651"
      },
      "outputs": [
        {
          "output_type": "stream",
          "name": "stdout",
          "text": [
            "Enter a string: pop\n",
            "'pop' is a palindrome.\n"
          ]
        }
      ],
      "source": [
        "# Write a Python program to check if a string is a palindrome. (User input for the string)\n",
        "def is_palindrome(text):\n",
        "    processed_text = ''.join(filter(str.isalnum, text)).lower()\n",
        "    return processed_text == processed_text[::-1]\n",
        "\n",
        "user_input = input(\"Enter a string: \")\n",
        "if is_palindrome(user_input):\n",
        "    print(f\"'{user_input}' is a palindrome.\")\n",
        "else:\n",
        "    print(f\"'{user_input}' is not a palindrome.\")"
      ]
    },
    {
      "cell_type": "code",
      "execution_count": 7,
      "id": "82d76cdf-efc6-45c6-ab09-9d1f17b3d857",
      "metadata": {
        "id": "82d76cdf-efc6-45c6-ab09-9d1f17b3d857",
        "colab": {
          "base_uri": "https://localhost:8080/"
        },
        "outputId": "ebd5b997-907b-41b3-b1cc-ff1f6d13dafb"
      },
      "outputs": [
        {
          "output_type": "stream",
          "name": "stdout",
          "text": [
            "1\n",
            "2\n",
            "3\n",
            "4\n",
            "5\n",
            "6\n",
            "7\n",
            "8\n",
            "9\n",
            "10\n"
          ]
        }
      ],
      "source": [
        "# Write a Python program to print numbers from 1 to 10 using a for loop.\n",
        "for i in range(1, 11):\n",
        "    print(i)"
      ]
    },
    {
      "cell_type": "code",
      "execution_count": 25,
      "id": "d09e8994-e984-4c12-ab1e-1bfc6938a389",
      "metadata": {
        "id": "d09e8994-e984-4c12-ab1e-1bfc6938a389",
        "colab": {
          "base_uri": "https://localhost:8080/"
        },
        "outputId": "14f4549e-0aca-4080-9f0d-3dab83d73908"
      },
      "outputs": [
        {
          "output_type": "stream",
          "name": "stdout",
          "text": [
            "2\n",
            "4\n",
            "6\n",
            "8\n",
            "10\n",
            "12\n",
            "14\n",
            "16\n",
            "18\n",
            "20\n"
          ]
        }
      ],
      "source": [
        "# Write a Python program to print all even numbers from 1 to 20 using a while loop.\n",
        "n = 1\n",
        "while n <= 20:\n",
        "    if n % 2 == 0:\n",
        "        print(n)\n",
        "    n += 1\n"
      ]
    },
    {
      "cell_type": "code",
      "execution_count": 26,
      "id": "c09ca878-167e-49ca-97f0-247a43c9b472",
      "metadata": {
        "id": "c09ca878-167e-49ca-97f0-247a43c9b472",
        "colab": {
          "base_uri": "https://localhost:8080/"
        },
        "outputId": "68d97962-6862-490f-8028-1577740a42ce"
      },
      "outputs": [
        {
          "output_type": "stream",
          "name": "stdout",
          "text": [
            "Enter a number: 5\n",
            "5 x 1 = 5\n",
            "5 x 2 = 10\n",
            "5 x 3 = 15\n",
            "5 x 4 = 20\n",
            "5 x 5 = 25\n",
            "5 x 6 = 30\n",
            "5 x 7 = 35\n",
            "5 x 8 = 40\n",
            "5 x 9 = 45\n",
            "5 x 10 = 50\n"
          ]
        }
      ],
      "source": [
        "# Write a Python program to print the multiplication table of a given number using a for loop. (User input for the number)\n",
        "num = int(input(\"Enter a number: \"))\n",
        "for i in range(1, 11):\n",
        "    print(f\"{num} x {i} = {num * i}\")"
      ]
    },
    {
      "cell_type": "code",
      "execution_count": 31,
      "id": "b72118ab-e62d-4af9-bcec-e1cc6af31b25",
      "metadata": {
        "id": "b72118ab-e62d-4af9-bcec-e1cc6af31b25",
        "colab": {
          "base_uri": "https://localhost:8080/"
        },
        "outputId": "d63057d3-6041-4201-e4e7-309be949a9f0"
      },
      "outputs": [
        {
          "output_type": "stream",
          "name": "stdout",
          "text": [
            "Enter a positive integer n: 5\n",
            "The sum of all numbers from 1 to 5 is: 15\n"
          ]
        }
      ],
      "source": [
        "# Write a Python program to calculate the sum of all numbers from 1 to n using a while loop. (User input for n)\n",
        "try:\n",
        "    n = int(input(\"Enter a positive integer n: \"))\n",
        "    if n < 1:\n",
        "        print(\"Please enter a positive integer greater than 0.\")\n",
        "    else:\n",
        "        result = sum_of_numbers(n)\n",
        "        print(f\"The sum of all numbers from 1 to {n} is: {result}\")\n",
        "except ValueError:\n",
        "    print(\"Invalid input! Please enter a valid integer.\")"
      ]
    },
    {
      "cell_type": "code",
      "execution_count": 33,
      "id": "ae93621f-11a2-40b7-97bc-3002f03ac36a",
      "metadata": {
        "id": "ae93621f-11a2-40b7-97bc-3002f03ac36a",
        "colab": {
          "base_uri": "https://localhost:8080/"
        },
        "outputId": "9d11cb07-75f6-4b85-c35b-4c4842fb012f"
      },
      "outputs": [
        {
          "output_type": "stream",
          "name": "stdout",
          "text": [
            "Enter a number: 5\n",
            "The factorial of 5 is: 120\n"
          ]
        }
      ],
      "source": [
        "# Write a Python program to calculate the factorial of a number using a while loop. (User input for the number)\n",
        "num = int(input(\"Enter a number: \"))\n",
        "factorial = 1\n",
        "current = 1\n",
        "while current <= num:\n",
        "    factorial *= current\n",
        "    current += 1\n",
        "print(f\"The factorial of {num} is: {factorial}\")"
      ]
    },
    {
      "cell_type": "code",
      "execution_count": 34,
      "id": "68467ccc-d696-4ef1-84c4-164c9d87f755",
      "metadata": {
        "id": "68467ccc-d696-4ef1-84c4-164c9d87f755",
        "colab": {
          "base_uri": "https://localhost:8080/"
        },
        "outputId": "58f85404-c45b-4279-9603-5a07799c855e"
      },
      "outputs": [
        {
          "output_type": "stream",
          "name": "stdout",
          "text": [
            "Enter the number of terms: 8\n",
            "0 1 1 2 3 5 8 13 "
          ]
        }
      ],
      "source": [
        "# Write a Python program to print the Fibonacci sequence up to n terms. (User input for n)\n",
        "n = int(input(\"Enter the number of terms: \"))\n",
        "a, b = 0, 1\n",
        "for _ in range(n):\n",
        "    print(a, end=\" \")\n",
        "    a, b = b, a + b"
      ]
    },
    {
      "cell_type": "code",
      "execution_count": 35,
      "id": "5bebd1f3-2606-4102-aa55-01cb1650f632",
      "metadata": {
        "id": "5bebd1f3-2606-4102-aa55-01cb1650f632",
        "colab": {
          "base_uri": "https://localhost:8080/"
        },
        "outputId": "f01b4e1a-72d9-4b1e-b1db-81986827ca7a"
      },
      "outputs": [
        {
          "output_type": "stream",
          "name": "stdout",
          "text": [
            "2\n",
            "3\n",
            "5\n",
            "7\n",
            "11\n",
            "13\n",
            "17\n",
            "19\n",
            "23\n",
            "29\n",
            "31\n",
            "37\n",
            "41\n",
            "43\n",
            "47\n",
            "53\n",
            "59\n",
            "61\n",
            "67\n",
            "71\n",
            "73\n",
            "79\n",
            "83\n",
            "89\n",
            "97\n"
          ]
        }
      ],
      "source": [
        "# Write a Python program to find all the prime numbers from 1 to 100.\n",
        "for num in range(2, 101):\n",
        "    for i in range(2, num):\n",
        "        if num % i == 0:\n",
        "            break\n",
        "    else:\n",
        "        print(num)"
      ]
    },
    {
      "cell_type": "code",
      "execution_count": 37,
      "id": "0a3f894e-52ba-4c0b-9158-a70f31f4fd49",
      "metadata": {
        "id": "0a3f894e-52ba-4c0b-9158-a70f31f4fd49",
        "colab": {
          "base_uri": "https://localhost:8080/"
        },
        "outputId": "1fb66870-0bcb-47eb-9065-7bfc9aa48495"
      },
      "outputs": [
        {
          "output_type": "stream",
          "name": "stdout",
          "text": [
            "1\n",
            "2\n",
            "3\n",
            "4\n",
            "5\n",
            "6\n",
            "7\n",
            "8\n",
            "9\n",
            "10\n",
            "11\n",
            "12\n",
            "13\n",
            "14\n",
            "15\n",
            "16\n",
            "17\n",
            "18\n",
            "19\n",
            "20\n",
            "21\n",
            "22\n",
            "23\n",
            "24\n",
            "25\n",
            "26\n",
            "27\n",
            "28\n",
            "29\n",
            "30\n",
            "31\n",
            "32\n",
            "33\n",
            "34\n",
            "35\n",
            "36\n",
            "37\n",
            "38\n",
            "39\n",
            "40\n",
            "41\n",
            "42\n",
            "43\n",
            "44\n",
            "45\n",
            "46\n",
            "47\n",
            "48\n",
            "49\n",
            "50\n"
          ]
        }
      ],
      "source": [
        "# Write a Python program that breaks out of a loop when a specific condition is met (e.g., when a number greater than 50 is found).\n",
        "for num in range(1, 101):\n",
        "    if num > 50:\n",
        "        break\n",
        "    print(num)\n"
      ]
    },
    {
      "cell_type": "code",
      "execution_count": 36,
      "id": "499b91d0-1f1b-494f-af2b-8cc3a06d90ed",
      "metadata": {
        "id": "499b91d0-1f1b-494f-af2b-8cc3a06d90ed",
        "colab": {
          "base_uri": "https://localhost:8080/"
        },
        "outputId": "f85ca2eb-da04-46f5-e2b4-ee325e0cee13"
      },
      "outputs": [
        {
          "output_type": "stream",
          "name": "stdout",
          "text": [
            "1\n",
            "3\n",
            "5\n",
            "7\n",
            "9\n",
            "11\n",
            "13\n",
            "15\n",
            "17\n",
            "19\n"
          ]
        }
      ],
      "source": [
        "# Write a Python program to skip even numbers while printing numbers from 1 to 20 using a for loop.\n",
        "for num in range(1, 21):\n",
        "    if num % 2 == 0:\n",
        "        continue\n",
        "    print(num)"
      ]
    },
    {
      "cell_type": "code",
      "execution_count": 38,
      "id": "f8ffed70-dfde-4262-a2fd-0d35d69b5fb1",
      "metadata": {
        "id": "f8ffed70-dfde-4262-a2fd-0d35d69b5fb1",
        "colab": {
          "base_uri": "https://localhost:8080/"
        },
        "outputId": "48bd978e-3918-4623-c66c-1980dbab2d27"
      },
      "outputs": [
        {
          "output_type": "stream",
          "name": "stdout",
          "text": [
            "Enter a string: deepika\n",
            "Enter a character: e\n",
            "The character 'e' appears 2 times in the string.\n"
          ]
        }
      ],
      "source": [
        "# Write a Python program to count how many times a particular character appears in a string using a for loop. (User input for string and character)\n",
        "string = input(\"Enter a string: \")\n",
        "character = input(\"Enter a character: \")\n",
        "count = 0\n",
        "for char in string:\n",
        "    if char == character:\n",
        "        count += 1\n",
        "print(f\"The character '{character}' appears {count} times in the string.\")"
      ]
    },
    {
      "source": [
        "# Write a Python program to calculate the sum of digits of a number. (User input for the number)\n",
        "def sum_of_digits(number):\n",
        "    # Ensure the number is positive for calculation\n",
        "    number = abs(number)\n",
        "    digit_sum = 0\n",
        "\n",
        "    # Calculate the sum of digits\n",
        "    while number > 0:\n",
        "        digit_sum += number % 10\n",
        "        number //= 10\n",
        "\n",
        "    return digit_sum\n",
        "\n",
        "# Get user input\n",
        "try:\n",
        "    user_input = int(input(\"Enter a number: \"))\n",
        "    result = sum_of_digits(user_input)\n",
        "    print(f\"The sum of the digits of {user_input} is: {result}\")\n",
        "except ValueError:\n",
        "    print(\"Please enter a valid integer.\")\n"
      ],
      "cell_type": "code",
      "metadata": {
        "id": "7fAkEUVVxs3w",
        "outputId": "d1f7a446-e6ef-4b70-abe3-403fd92c8b0a",
        "colab": {
          "base_uri": "https://localhost:8080/"
        }
      },
      "id": "7fAkEUVVxs3w",
      "execution_count": 47,
      "outputs": [
        {
          "output_type": "stream",
          "name": "stdout",
          "text": [
            "Enter a number: 56\n",
            "The sum of the digits of 56 is: 11\n"
          ]
        }
      ]
    },
    {
      "cell_type": "markdown",
      "id": "fe644fae-f262-48dd-b7ff-08eb747d297e",
      "metadata": {
        "id": "fe644fae-f262-48dd-b7ff-08eb747d297e"
      },
      "source": [
        "## Data Structures (Lists, Tuples, Sets, Dictionaries)"
      ]
    },
    {
      "cell_type": "code",
      "execution_count": null,
      "id": "a0333c26-8e19-4c71-9722-d32cf8625ef6",
      "metadata": {
        "id": "a0333c26-8e19-4c71-9722-d32cf8625ef6"
      },
      "outputs": [],
      "source": [
        "# Write a Python program to create a list of integers and print the sum of the elements.\n"
      ]
    },
    {
      "cell_type": "code",
      "execution_count": null,
      "id": "5a23046d-80b0-4f8d-a02f-4e3d833c0443",
      "metadata": {
        "id": "5a23046d-80b0-4f8d-a02f-4e3d833c0443"
      },
      "outputs": [],
      "source": [
        "# Write a Python program to find the largest element in a list."
      ]
    },
    {
      "cell_type": "code",
      "execution_count": null,
      "id": "9939c2d2-90fd-4e80-81bc-227c72e60e37",
      "metadata": {
        "id": "9939c2d2-90fd-4e80-81bc-227c72e60e37"
      },
      "outputs": [],
      "source": [
        "# Write a Python program to reverse a list."
      ]
    },
    {
      "cell_type": "code",
      "execution_count": null,
      "id": "aa287db8-057b-48d4-a6d8-18cc53eb7178",
      "metadata": {
        "id": "aa287db8-057b-48d4-a6d8-18cc53eb7178"
      },
      "outputs": [],
      "source": [
        "# Write a Python program to remove all occurrences of a specific element from a list."
      ]
    },
    {
      "cell_type": "code",
      "execution_count": null,
      "id": "da9ba926-0ab5-46e9-b66d-128088c3225b",
      "metadata": {
        "id": "da9ba926-0ab5-46e9-b66d-128088c3225b"
      },
      "outputs": [],
      "source": [
        "# Write a Python program to find the index of an element in a list."
      ]
    },
    {
      "cell_type": "code",
      "execution_count": null,
      "id": "9601b6e4-cb90-4e1f-87b4-38ed37076e0d",
      "metadata": {
        "id": "9601b6e4-cb90-4e1f-87b4-38ed37076e0d"
      },
      "outputs": [],
      "source": [
        "# Write a Python program to find if a specific element exists in a list."
      ]
    },
    {
      "cell_type": "code",
      "execution_count": null,
      "id": "9d8e7311-81de-4da2-826c-c4dcad28ed9f",
      "metadata": {
        "id": "9d8e7311-81de-4da2-826c-c4dcad28ed9f"
      },
      "outputs": [],
      "source": [
        "# Write a Python program to remove duplicates from a list."
      ]
    },
    {
      "cell_type": "code",
      "execution_count": null,
      "id": "09e5121b-97b3-42e4-8025-f28f3470681b",
      "metadata": {
        "id": "09e5121b-97b3-42e4-8025-f28f3470681b"
      },
      "outputs": [],
      "source": [
        "# Write a Python program to count the occurrences of an element in a list."
      ]
    },
    {
      "cell_type": "code",
      "execution_count": null,
      "id": "b774b741-e9a6-45db-8f00-e6d9b734d03a",
      "metadata": {
        "id": "b774b741-e9a6-45db-8f00-e6d9b734d03a"
      },
      "outputs": [],
      "source": [
        "# Write a Python program to get the number of even numbers in a list."
      ]
    },
    {
      "cell_type": "code",
      "execution_count": null,
      "id": "5ce4fd2b-ab16-4b40-9ac2-d19c244d8d96",
      "metadata": {
        "id": "5ce4fd2b-ab16-4b40-9ac2-d19c244d8d96"
      },
      "outputs": [],
      "source": [
        "# Write a Python program to create a tuple and print it."
      ]
    },
    {
      "cell_type": "code",
      "execution_count": null,
      "id": "5c04f880-6e96-4ef4-9f4b-df21aae76ff1",
      "metadata": {
        "id": "5c04f880-6e96-4ef4-9f4b-df21aae76ff1"
      },
      "outputs": [],
      "source": [
        "# Write a Python program to convert a tuple to a list and vice versa."
      ]
    },
    {
      "cell_type": "code",
      "execution_count": null,
      "id": "d5192acc-27f3-456e-9c72-3b276a587bf5",
      "metadata": {
        "id": "d5192acc-27f3-456e-9c72-3b276a587bf5"
      },
      "outputs": [],
      "source": [
        "# Write a Python program to find the maximum and minimum values in a tuple."
      ]
    },
    {
      "cell_type": "code",
      "execution_count": null,
      "id": "43f0a340-9407-4302-af7e-4e63db578bbf",
      "metadata": {
        "id": "43f0a340-9407-4302-af7e-4e63db578bbf"
      },
      "outputs": [],
      "source": [
        "# Write a Python program to unpack a tuple into variables."
      ]
    },
    {
      "cell_type": "code",
      "execution_count": null,
      "id": "46e96e29-2157-4b9f-bb24-0bd973eada9f",
      "metadata": {
        "id": "46e96e29-2157-4b9f-bb24-0bd973eada9f"
      },
      "outputs": [],
      "source": [
        "# Write a Python program to add an element to a set and check if an element exists in the set."
      ]
    },
    {
      "cell_type": "code",
      "execution_count": null,
      "id": "d81a803b-fd80-403e-9ae3-680ef44a3d86",
      "metadata": {
        "id": "d81a803b-fd80-403e-9ae3-680ef44a3d86"
      },
      "outputs": [],
      "source": [
        "# Write a Python program to create a dictionary with keys and values and print it."
      ]
    },
    {
      "cell_type": "code",
      "execution_count": null,
      "id": "7432174b-fe75-4371-b23a-e2c5d62edb15",
      "metadata": {
        "id": "7432174b-fe75-4371-b23a-e2c5d62edb15"
      },
      "outputs": [],
      "source": [
        "# Write a Python program to access a dictionary value using a key."
      ]
    },
    {
      "cell_type": "code",
      "execution_count": null,
      "id": "000b3260-d91f-41f2-9729-4b0124f2c4d2",
      "metadata": {
        "id": "000b3260-d91f-41f2-9729-4b0124f2c4d2"
      },
      "outputs": [],
      "source": [
        "# Write a Python program to check if a key exists in a dictionary."
      ]
    },
    {
      "cell_type": "code",
      "execution_count": null,
      "id": "c4b1a942-818e-42c1-b742-1fabe80fca6d",
      "metadata": {
        "id": "c4b1a942-818e-42c1-b742-1fabe80fca6d"
      },
      "outputs": [],
      "source": [
        "# Write a Python program to merge two dictionaries."
      ]
    },
    {
      "cell_type": "code",
      "execution_count": null,
      "id": "a78f1070-3ff3-436a-8391-153f019f53cd",
      "metadata": {
        "id": "a78f1070-3ff3-436a-8391-153f019f53cd"
      },
      "outputs": [],
      "source": [
        "# Write a Python program to remove a key from a dictionary."
      ]
    },
    {
      "cell_type": "code",
      "execution_count": null,
      "id": "fcba0267-8cc4-4e89-9e78-2d820916c177",
      "metadata": {
        "id": "fcba0267-8cc4-4e89-9e78-2d820916c177"
      },
      "outputs": [],
      "source": [
        "# Write a Python program to get the number of keys in a dictionary."
      ]
    },
    {
      "cell_type": "code",
      "execution_count": null,
      "id": "d4c5fd77-9656-43e5-8fe2-be7dca23eb6d",
      "metadata": {
        "id": "d4c5fd77-9656-43e5-8fe2-be7dca23eb6d"
      },
      "outputs": [],
      "source": [
        "# Write a Python program to find the largest and smallest values in a dictionary."
      ]
    },
    {
      "cell_type": "markdown",
      "id": "7830b8cc-9a90-45a2-8e4a-6f3c2b8b133b",
      "metadata": {
        "id": "7830b8cc-9a90-45a2-8e4a-6f3c2b8b133b"
      },
      "source": [
        "## Functions (User-Defined, Arguments, Keyword Arguments, Return Values)"
      ]
    },
    {
      "cell_type": "code",
      "execution_count": null,
      "id": "06a33fba-c6b1-4989-90f4-b647d1fe1627",
      "metadata": {
        "id": "06a33fba-c6b1-4989-90f4-b647d1fe1627"
      },
      "outputs": [],
      "source": [
        "# Write a Python function that returns the square of a number."
      ]
    },
    {
      "cell_type": "code",
      "execution_count": null,
      "id": "91d90a4a-7329-45db-893b-caed8450ba96",
      "metadata": {
        "id": "91d90a4a-7329-45db-893b-caed8450ba96"
      },
      "outputs": [],
      "source": [
        "# Write a Python function that accepts two parameters and returns their sum."
      ]
    },
    {
      "cell_type": "code",
      "execution_count": null,
      "id": "dec2f9a5-90c5-478b-890b-0a506ecf45d3",
      "metadata": {
        "id": "dec2f9a5-90c5-478b-890b-0a506ecf45d3"
      },
      "outputs": [],
      "source": [
        "# Write a Python function to check if a given number is prime."
      ]
    },
    {
      "cell_type": "code",
      "execution_count": null,
      "id": "56337441-68c3-45df-8733-a34cde0533a5",
      "metadata": {
        "id": "56337441-68c3-45df-8733-a34cde0533a5"
      },
      "outputs": [],
      "source": [
        "# Write a Python function to calculate the factorial of a number using recursion."
      ]
    },
    {
      "cell_type": "code",
      "execution_count": null,
      "id": "84a2d010-e7b2-409b-b1f4-99bf806bb77a",
      "metadata": {
        "id": "84a2d010-e7b2-409b-b1f4-99bf806bb77a"
      },
      "outputs": [],
      "source": [
        "# Write a Python function to calculate the power of a number using recursion."
      ]
    },
    {
      "cell_type": "code",
      "execution_count": null,
      "id": "ec44911e-7820-46cc-96a3-4ca443888837",
      "metadata": {
        "id": "ec44911e-7820-46cc-96a3-4ca443888837"
      },
      "outputs": [],
      "source": [
        "# Write a Python function to accept a list and return its length without using the built-in len() function."
      ]
    },
    {
      "cell_type": "code",
      "execution_count": null,
      "id": "fb4c08e1-34f3-487a-a1c6-77cd60fb4836",
      "metadata": {
        "id": "fb4c08e1-34f3-487a-a1c6-77cd60fb4836"
      },
      "outputs": [],
      "source": [
        "# Write a Python function that accepts both positional and keyword arguments and prints the sum of positional arguments."
      ]
    },
    {
      "cell_type": "code",
      "execution_count": null,
      "id": "f4ffc7a8-f579-461c-b507-4085a0477283",
      "metadata": {
        "id": "f4ffc7a8-f579-461c-b507-4085a0477283"
      },
      "outputs": [],
      "source": [
        "# Write a Python function to find the maximum of two numbers using keyword arguments."
      ]
    },
    {
      "cell_type": "code",
      "execution_count": null,
      "id": "0b00c4af-89e0-43e8-a991-1b684d2ce33f",
      "metadata": {
        "id": "0b00c4af-89e0-43e8-a991-1b684d2ce33f"
      },
      "outputs": [],
      "source": [
        "# Write a Python function that accepts a list of numbers and returns their product."
      ]
    },
    {
      "cell_type": "code",
      "execution_count": null,
      "id": "9cd11703-5b48-44fe-af4e-ea906a2762c9",
      "metadata": {
        "id": "9cd11703-5b48-44fe-af4e-ea906a2762c9"
      },
      "outputs": [],
      "source": [
        "# Write a Python function to check if a number is even or odd using the modulo operator."
      ]
    },
    {
      "cell_type": "code",
      "execution_count": null,
      "id": "afbf262e-daed-40a9-827f-82fa60979610",
      "metadata": {
        "id": "afbf262e-daed-40a9-827f-82fa60979610"
      },
      "outputs": [],
      "source": [
        "# Write a Python program to create a list of squares of numbers from 1 to 10 using list comprehension."
      ]
    },
    {
      "cell_type": "code",
      "execution_count": null,
      "id": "7fff76d8-9ba8-4006-9be6-6f7350092d1c",
      "metadata": {
        "id": "7fff76d8-9ba8-4006-9be6-6f7350092d1c"
      },
      "outputs": [],
      "source": [
        "# Write a Python program to filter out all even numbers from a list using list comprehension."
      ]
    },
    {
      "cell_type": "code",
      "execution_count": null,
      "id": "6ae9b8df-38f9-4fd7-bad1-aa7b07cc9271",
      "metadata": {
        "id": "6ae9b8df-38f9-4fd7-bad1-aa7b07cc9271"
      },
      "outputs": [],
      "source": [
        "# Write a Python program to create a list of strings that are longer than 4 characters from a given list of words using list comprehension."
      ]
    },
    {
      "cell_type": "code",
      "execution_count": null,
      "id": "f492c7d4-6ad3-48ab-9b61-232be02aecee",
      "metadata": {
        "id": "f492c7d4-6ad3-48ab-9b61-232be02aecee"
      },
      "outputs": [],
      "source": [
        "# Write a Python program to create a list of all uppercase letters in a string using list comprehension."
      ]
    },
    {
      "cell_type": "code",
      "execution_count": null,
      "id": "929a7f74-1762-4a2a-be23-bacf67ff4d8b",
      "metadata": {
        "id": "929a7f74-1762-4a2a-be23-bacf67ff4d8b"
      },
      "outputs": [],
      "source": [
        "# Write a Python program to generate the first n Fibonacci numbers using list comprehension."
      ]
    },
    {
      "cell_type": "code",
      "execution_count": null,
      "id": "47188bbc-cf62-47bb-a14e-0582c8b5cdd9",
      "metadata": {
        "id": "47188bbc-cf62-47bb-a14e-0582c8b5cdd9"
      },
      "outputs": [],
      "source": [
        "# Write a Python program to create a dictionary where keys are numbers and values are their squares using dictionary comprehension."
      ]
    },
    {
      "cell_type": "code",
      "execution_count": null,
      "id": "3c4637d3-aa85-4b4c-acf3-953c10818bcb",
      "metadata": {
        "id": "3c4637d3-aa85-4b4c-acf3-953c10818bcb"
      },
      "outputs": [],
      "source": [
        "# Write a Python program to create a dictionary from two lists (one for keys and one for values) using dictionary comprehension."
      ]
    },
    {
      "cell_type": "code",
      "execution_count": null,
      "id": "de817d6f-96e7-4346-839e-1ef0df539b6b",
      "metadata": {
        "id": "de817d6f-96e7-4346-839e-1ef0df539b6b"
      },
      "outputs": [],
      "source": [
        "# Write a Python program to create a dictionary of numbers from 1 to 5 and their cubes using dictionary comprehension."
      ]
    },
    {
      "cell_type": "code",
      "execution_count": null,
      "id": "33695301-057e-49a6-9f80-a2f4e3af60ed",
      "metadata": {
        "id": "33695301-057e-49a6-9f80-a2f4e3af60ed"
      },
      "outputs": [],
      "source": [
        "# Write a Python program to square each element of a list using the map() function."
      ]
    },
    {
      "cell_type": "code",
      "execution_count": null,
      "id": "6d4d17f3-c40f-4944-8656-c6416b600361",
      "metadata": {
        "id": "6d4d17f3-c40f-4944-8656-c6416b600361"
      },
      "outputs": [],
      "source": [
        "# Write a Python program to filter all even numbers from a list using the filter() function."
      ]
    },
    {
      "cell_type": "code",
      "execution_count": null,
      "id": "6634ba1f-9f81-475e-b7c4-422d102afb75",
      "metadata": {
        "id": "6634ba1f-9f81-475e-b7c4-422d102afb75"
      },
      "outputs": [],
      "source": [
        "# Write a Python program to use a lambda function to check if a number is divisible by both 3 and 5."
      ]
    },
    {
      "cell_type": "code",
      "execution_count": null,
      "id": "0aac8430-5d77-439d-9a99-9598fadf989c",
      "metadata": {
        "id": "0aac8430-5d77-439d-9a99-9598fadf989c"
      },
      "outputs": [],
      "source": [
        "# Write a Python program to multiply all numbers in a list by 2 using a lambda function inside map()."
      ]
    },
    {
      "cell_type": "code",
      "execution_count": null,
      "id": "e4cd5ba8-c6ec-4f0d-8787-bf0a4b7a2e22",
      "metadata": {
        "id": "e4cd5ba8-c6ec-4f0d-8787-bf0a4b7a2e22"
      },
      "outputs": [],
      "source": [
        "# Write a Python program to remove all occurrences of a specific element from a list."
      ]
    },
    {
      "cell_type": "markdown",
      "id": "caba77c7-93db-4893-8f48-c7365ed5c585",
      "metadata": {
        "id": "caba77c7-93db-4893-8f48-c7365ed5c585"
      },
      "source": [
        "**Note:**\n",
        "- All assignments must follow [PEP 8 – Style Guide for Python Code](https://peps.python.org/pep-0008/) guidelines.\n",
        "- You can add multiple solutions for each question. Create a new code cell next to the question and add it. Shortcut for creating cell : `Alt + Enter`"
      ]
    }
  ],
  "metadata": {
    "kernelspec": {
      "display_name": "Python 3 (ipykernel)",
      "language": "python",
      "name": "python3"
    },
    "language_info": {
      "codemirror_mode": {
        "name": "ipython",
        "version": 3
      },
      "file_extension": ".py",
      "mimetype": "text/x-python",
      "name": "python",
      "nbconvert_exporter": "python",
      "pygments_lexer": "ipython3",
      "version": "3.12.6"
    },
    "colab": {
      "provenance": [],
      "include_colab_link": true
    }
  },
  "nbformat": 4,
  "nbformat_minor": 5
}