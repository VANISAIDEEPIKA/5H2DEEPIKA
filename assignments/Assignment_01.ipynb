{
  "cells": [
    {
      "cell_type": "markdown",
      "metadata": {
        "id": "view-in-github",
        "colab_type": "text"
      },
      "source": [
        "<a href=\"https://colab.research.google.com/github/VANISAIDEEPIKA/5H2DEEPIKA/blob/main/assignments/Assignment_01.ipynb\" target=\"_parent\"><img src=\"https://colab.research.google.com/assets/colab-badge.svg\" alt=\"Open In Colab\"/></a>"
      ]
    },
    {
      "cell_type": "markdown",
      "id": "548b84c2-e24f-4a12-98bb-5e7bd5ec86bd",
      "metadata": {
        "id": "548b84c2-e24f-4a12-98bb-5e7bd5ec86bd"
      },
      "source": [
        "# Python"
      ]
    },
    {
      "cell_type": "markdown",
      "id": "99fbfc45-ba9e-4766-8219-f5dbcacc8481",
      "metadata": {
        "id": "99fbfc45-ba9e-4766-8219-f5dbcacc8481"
      },
      "source": [
        "<a target=\"_blank\" href=\"https://colab.research.google.com/github/kgsb24/rishi-college/blob/main/assignments/Assignment_01.ipynb\">\n",
        "  <img src=\"https://colab.research.google.com/assets/colab-badge.svg\" alt=\"Open In Colab\"/>\n",
        "</a>"
      ]
    },
    {
      "cell_type": "markdown",
      "id": "07a1f870-f905-4703-8b65-12e83172133a",
      "metadata": {
        "id": "07a1f870-f905-4703-8b65-12e83172133a"
      },
      "source": [
        "## Basic Python Fundamentals"
      ]
    },
    {
      "cell_type": "code",
      "execution_count": null,
      "id": "502e1d87-2fdd-4588-a330-2af21268215e",
      "metadata": {
        "id": "502e1d87-2fdd-4588-a330-2af21268215e",
        "colab": {
          "base_uri": "https://localhost:8080/"
        },
        "outputId": "aacf6303-b084-464e-f3c2-c4ae20995ce1"
      },
      "outputs": [
        {
          "output_type": "stream",
          "name": "stdout",
          "text": [
            "the type of x is: <class 'int'>\n"
          ]
        }
      ],
      "source": [
        "# Write a Python program to declare a variable x with the value 10 and print its type.\n",
        "# SOLUTION-1\n",
        "# Declare variable x\n",
        "x = 10\n",
        " # print its type\n",
        "print(\"the type of x is:\",type(x))\n",
        "\n"
      ]
    },
    {
      "cell_type": "code",
      "source": [
        "# SOLUTION-2\n",
        "# Declare variable x\n",
        "x = 10\n",
        " # print its kind\n",
        "print(\"the form of x is:\",type(x))\n"
      ],
      "metadata": {
        "id": "p_ZYEbx0cxkc",
        "outputId": "e7cb4d5e-95c2-4054-a8a2-31eba5302654",
        "colab": {
          "base_uri": "https://localhost:8080/"
        }
      },
      "id": "p_ZYEbx0cxkc",
      "execution_count": null,
      "outputs": [
        {
          "output_type": "stream",
          "name": "stdout",
          "text": [
            "the form of x is: <class 'int'>\n"
          ]
        }
      ]
    },
    {
      "cell_type": "code",
      "execution_count": null,
      "id": "dae77579-4b7d-4f06-96e0-7bdfe43860d7",
      "metadata": {
        "id": "dae77579-4b7d-4f06-96e0-7bdfe43860d7",
        "outputId": "790a2531-3f18-4d31-9164-4bcdd237465b",
        "colab": {
          "base_uri": "https://localhost:8080/"
        }
      },
      "outputs": [
        {
          "output_type": "stream",
          "name": "stdout",
          "text": [
            "the sum of a,b,c is: 30\n"
          ]
        }
      ],
      "source": [
        "# Write a Python program to declare three variables a = 5, b = 10, and c = 15, and print their sum.\n",
        "a = 5\n",
        "b = 10\n",
        "c = 15\n",
        "sum = a+b+c\n",
        "print(\"the sum of a,b,c is:\",sum)\n"
      ]
    },
    {
      "cell_type": "code",
      "execution_count": null,
      "id": "c32867b2-a615-426a-89ae-bd2793b6a4dc",
      "metadata": {
        "id": "c32867b2-a615-426a-89ae-bd2793b6a4dc",
        "outputId": "a7102a44-ad77-4bdf-f2b5-138177b02792",
        "colab": {
          "base_uri": "https://localhost:8080/"
        }
      },
      "outputs": [
        {
          "output_type": "stream",
          "name": "stdout",
          "text": [
            "<class 'int'>\n",
            "<class 'float'>\n",
            "<class 'str'>\n",
            "<class 'list'>\n",
            "<class 'dict'>\n"
          ]
        }
      ],
      "source": [
        "# Write a Python program that checks and prints the type of a variable (e.g., int, float, str, etc.).\n",
        "age = 19\n",
        "temperature = 97.6\n",
        "city = \"Seoul\"\n",
        "vegetables = [\"broccoli\",\"potato\", \"cabbage\", \"carrot\"]\n",
        "cost_of_vegetables = { \"broccoli\" : 60,  \"potato\" : 55 , \"cabbage\": 85 , \"carrot\" : 35  }\n",
        "print(type(age))\n",
        "print(type(temperature))\n",
        "print(type(city))\n",
        "print(type(vegetables))\n",
        "print(type(cost_of_vegetables))"
      ]
    },
    {
      "cell_type": "code",
      "execution_count": null,
      "id": "8b233e41-9d44-4869-9ead-afb3ff1c0b67",
      "metadata": {
        "id": "8b233e41-9d44-4869-9ead-afb3ff1c0b67",
        "outputId": "6aff1c7c-de7d-4807-b086-89d3a11af12f",
        "colab": {
          "base_uri": "https://localhost:8080/"
        }
      },
      "outputs": [
        {
          "output_type": "stream",
          "name": "stdout",
          "text": [
            "Addition: 16\n",
            "Subtraction: -8\n",
            "Multiplication: 48\n",
            "Division: 0.3333333333333333\n",
            "Modulus: 4\n"
          ]
        }
      ],
      "source": [
        "# Write a Python program to perform addition, subtraction, multiplication, and division on two numbers. (User input is required for the numbers)\n",
        "#SOLUTION-1:\n",
        "\n",
        "# Displaying arithmetic operations without using user input\n",
        "\n",
        "a=4\n",
        "b=12\n",
        "print(\"Addition:\",a+b)\n",
        "print(\"Subtraction:\",a-b)\n",
        "print(\"Multiplication:\",a*b)\n",
        "print(\"Division:\",a/b)\n",
        "print(\"Modulus:\",a%b)\n",
        "\n"
      ]
    },
    {
      "cell_type": "code",
      "source": [
        "#SOLUTION-2:\n",
        "# Taking user input for two numbers = float\n",
        "\n",
        "a = float(input(\"Enter first number:\"))\n",
        "b = float(input(\"Enter second number:\"))\n",
        "\n",
        "# Performing arithmetic operations and displaying the results\n",
        "\n",
        "print(\"Addition:\",a+b)\n",
        "print(\"Subtraction:\",a-b)\n",
        "print(\"Multiplication:\",a*b)\n",
        "print(\"Division:\",a/b)\n",
        "print(\"Modulus:\",a%b)"
      ],
      "metadata": {
        "id": "sUD6WMDIb65c",
        "outputId": "7ca68079-89e6-4550-c759-c3c4e25fb181",
        "colab": {
          "base_uri": "https://localhost:8080/"
        }
      },
      "id": "sUD6WMDIb65c",
      "execution_count": null,
      "outputs": [
        {
          "output_type": "stream",
          "name": "stdout",
          "text": [
            "Enter first number:3\n",
            "Enter second number:9\n",
            "Addition: 12.0\n",
            "Subtraction: -6.0\n",
            "Multiplication: 27.0\n",
            "Division: 0.3333333333333333\n",
            "Modulus: 3.0\n"
          ]
        }
      ]
    },
    {
      "cell_type": "code",
      "source": [
        "#SOLUTION-3:\n",
        "\n",
        "# Taking user input for two numbers = int\n",
        "\n",
        "a = int(input(\"Enter first number:\"))\n",
        "b = int(input(\"Enter second number:\"))\n",
        "\n",
        "# Performing arithmetic operations and displaying the results\n",
        "print(\"Addition:\",a+b)\n",
        "print(\"Subtraction:\",a-b)\n",
        "print(\"Multiplication:\",a*b)\n",
        "print(\"Division:\",a/b)\n",
        "print(\"Modulus:\",a%b)"
      ],
      "metadata": {
        "id": "rRpWmY2xcC8h",
        "outputId": "18feb470-8ea2-4ec5-fb53-2e0cb4caac32",
        "colab": {
          "base_uri": "https://localhost:8080/"
        }
      },
      "id": "rRpWmY2xcC8h",
      "execution_count": null,
      "outputs": [
        {
          "output_type": "stream",
          "name": "stdout",
          "text": [
            "Enter first number:8\n",
            "Enter second number:4\n",
            "Addition: 12\n",
            "Subtraction: 4\n",
            "Multiplication: 32\n",
            "Division: 2.0\n",
            "Modulus: 0\n"
          ]
        }
      ]
    },
    {
      "cell_type": "code",
      "execution_count": null,
      "id": "629435bd-6bfa-44de-91d9-3b2937713257",
      "metadata": {
        "id": "629435bd-6bfa-44de-91d9-3b2937713257",
        "outputId": "8efdab70-2508-4d19-8863-01ee86690326",
        "colab": {
          "base_uri": "https://localhost:8080/"
        }
      },
      "outputs": [
        {
          "output_type": "stream",
          "name": "stdout",
          "text": [
            "123\n",
            "123.0\n"
          ]
        }
      ],
      "source": [
        "# Write a Python program to convert a string \"123\" to an integer and a float and print the results.\n",
        "x = \"123\"\n",
        "print(int(x))\n",
        "print(float(x))"
      ]
    },
    {
      "cell_type": "code",
      "execution_count": null,
      "id": "599421f1-51c1-4653-9d78-b007fcc6861b",
      "metadata": {
        "id": "599421f1-51c1-4653-9d78-b007fcc6861b",
        "outputId": "1fe921f7-d238-4e74-a8d6-7ff14769a6e8",
        "colab": {
          "base_uri": "https://localhost:8080/"
        }
      },
      "outputs": [
        {
          "output_type": "stream",
          "name": "stdout",
          "text": [
            "Enter a string:chika\n",
            "c\n"
          ]
        }
      ],
      "source": [
        "# Write a Python program to print the first character of a given string. (User input for the string)\n",
        "y=input(\"Enter a string:\")\n",
        "print(y[0])"
      ]
    },
    {
      "cell_type": "code",
      "execution_count": null,
      "id": "54ee0a5d-415f-40b6-b82e-c0de12a002f9",
      "metadata": {
        "id": "54ee0a5d-415f-40b6-b82e-c0de12a002f9",
        "outputId": "4a841ed4-dd2b-4f77-eb47-e924ebb055c6",
        "colab": {
          "base_uri": "https://localhost:8080/"
        }
      },
      "outputs": [
        {
          "output_type": "stream",
          "name": "stdout",
          "text": [
            "Enter a string: VARSHA\n",
            "The length of the string is: 6\n"
          ]
        }
      ],
      "source": [
        "# Write a Python program to print the length of a string. (User input for the string)\n",
        "\n",
        "# Get input from the user\n",
        "user_string = input(\"Enter a string: \")\n",
        "\n",
        "# Calculate and print the length of the string\n",
        "string_length = len(user_string)\n",
        "print(\"The length of the string is:\", string_length)"
      ]
    },
    {
      "cell_type": "code",
      "execution_count": null,
      "id": "65f44c33-618e-4337-a9d1-9de888c93a0a",
      "metadata": {
        "id": "65f44c33-618e-4337-a9d1-9de888c93a0a",
        "outputId": "6a9186b6-8f01-4e18-bfa6-f46ccc81f7b1",
        "colab": {
          "base_uri": "https://localhost:8080/"
        }
      },
      "outputs": [
        {
          "output_type": "stream",
          "name": "stdout",
          "text": [
            "Enter a string: VSD\n",
            "The string contains only alphabets.\n"
          ]
        }
      ],
      "source": [
        "# Write a Python program to check if a given string contains only alphabets.\n",
        "string = input(\"Enter a string: \")\n",
        "if string.isalpha():\n",
        "    print(\"The string contains only alphabets.\")\n",
        "else:\n",
        "    print(\"The string does not contain  alphabets.\")"
      ]
    },
    {
      "cell_type": "code",
      "source": [
        "string = input(\"Enter a string: \")\n",
        "if string.isalpha():\n",
        "    print(\"The string contains only alphabets.\")\n",
        "else:\n",
        "    print(\"The string contains other alphabets also .\")"
      ],
      "metadata": {
        "id": "BWSNL3v2x_lN",
        "outputId": "e1516380-eddd-405f-d50d-0250afdedc7e",
        "colab": {
          "base_uri": "https://localhost:8080/"
        }
      },
      "id": "BWSNL3v2x_lN",
      "execution_count": null,
      "outputs": [
        {
          "output_type": "stream",
          "name": "stdout",
          "text": [
            "Enter a string: VSD1305\n",
            "The string contains other alphabets also .\n"
          ]
        }
      ]
    },
    {
      "cell_type": "code",
      "execution_count": null,
      "id": "37463128-2b51-4860-b6bf-40d3c03fbe84",
      "metadata": {
        "id": "37463128-2b51-4860-b6bf-40d3c03fbe84",
        "outputId": "f3e3af29-7aa9-4897-bbb4-f8785ae5e2e1",
        "colab": {
          "base_uri": "https://localhost:8080/"
        }
      },
      "outputs": [
        {
          "output_type": "stream",
          "name": "stdout",
          "text": [
            "Enter the first string: 5\n",
            "Enter the second string: 5\n",
            "Concatenated string: 55\n"
          ]
        }
      ],
      "source": [
        "# Write a Python program to concatenate two strings. (User input for the strings)\n",
        "a = input(\"Enter the first string: \")\n",
        "b = input(\"Enter the second string: \")\n",
        "c = a + b\n",
        "print(\"Concatenated string:\", c)"
      ]
    },
    {
      "cell_type": "code",
      "execution_count": null,
      "id": "b1c5d364-eccf-473a-b03a-ab15f3e917cf",
      "metadata": {
        "id": "b1c5d364-eccf-473a-b03a-ab15f3e917cf",
        "outputId": "320b70e2-115d-465e-a4fd-8558bec1d1c4",
        "colab": {
          "base_uri": "https://localhost:8080/"
        }
      },
      "outputs": [
        {
          "output_type": "stream",
          "name": "stdout",
          "text": [
            "Enter a string: deepikaabc\n",
            "index of 'abc': 7\n"
          ]
        }
      ],
      "source": [
        "# Write a Python program to find the index of a substring \"abc\" in a string. (User input for the string)\n",
        "string = \"abc\"\n",
        "string = input(\"Enter a string: \")\n",
        "index = string.find(\"abc\")\n",
        "print(\"index of 'abc':\", index)"
      ]
    },
    {
      "cell_type": "code",
      "execution_count": null,
      "id": "cc92afd9-ba4b-4934-a79d-f26825b4efc2",
      "metadata": {
        "id": "cc92afd9-ba4b-4934-a79d-f26825b4efc2",
        "outputId": "77fc6b0d-a056-47be-864a-3e5f4fa18df3",
        "colab": {
          "base_uri": "https://localhost:8080/"
        }
      },
      "outputs": [
        {
          "output_type": "stream",
          "name": "stdout",
          "text": [
            "enter a Z Deepika\n",
            "Upper Case:  DEEPIKA\n",
            "Lower Case:  deepika\n"
          ]
        }
      ],
      "source": [
        "# Write a Python program to convert a string to both uppercase and lowercase. (User input for the string)\n",
        "Z = input (\"enter a Z\")\n",
        "print(\"Upper Case:\",string.upper())\n",
        "print(\"Lower Case:\",string.lower())"
      ]
    },
    {
      "cell_type": "code",
      "execution_count": null,
      "id": "f24f79b3-da8b-44bf-8310-c68442e86e3e",
      "metadata": {
        "id": "f24f79b3-da8b-44bf-8310-c68442e86e3e",
        "outputId": "9f6e02db-20c9-4838-c652-cceb9d83a6e3",
        "colab": {
          "base_uri": "https://localhost:8080/"
        }
      },
      "outputs": [
        {
          "output_type": "stream",
          "name": "stdout",
          "text": [
            "Enter a X: deepika\n",
            "Enter a character: e\n",
            "The character 'e' appears 2 times in the string.\n"
          ]
        }
      ],
      "source": [
        "# Write a Python program to count how many times a particular character appears in a string. (User input for string and character)\n",
        "X = input(\"Enter a X: \")\n",
        "character = input(\"Enter a character: \")\n",
        "count = string.count(character)\n",
        "print(f\"The character '{character}' appears {count} times in the string.\")"
      ]
    },
    {
      "cell_type": "code",
      "execution_count": null,
      "id": "f2e8f25c-5c34-44eb-b749-7cc4c100b9a8",
      "metadata": {
        "id": "f2e8f25c-5c34-44eb-b749-7cc4c100b9a8",
        "outputId": "8799046b-f136-4723-b01a-f8f211f7e449",
        "colab": {
          "base_uri": "https://localhost:8080/"
        }
      },
      "outputs": [
        {
          "output_type": "stream",
          "name": "stdout",
          "text": [
            "enter user_name VANI SAI DEEPIKA \n",
            "Hello,  VANI SAI DEEPIKA , Good Morning\n"
          ]
        }
      ],
      "source": [
        "# Write a Python program to take the user's name as input and print a personalized greeting. (Hello, username, Good Morning)\n",
        "user_name = input(\"enter user_name\")\n",
        "print(\"Hello, \"+ user_name +\", Good Morning\")"
      ]
    },
    {
      "cell_type": "code",
      "execution_count": null,
      "id": "189296cf-77e6-4f48-b010-77458da5bc9d",
      "metadata": {
        "id": "189296cf-77e6-4f48-b010-77458da5bc9d",
        "outputId": "5ff549fc-66fe-4a70-868a-330043bfcabb",
        "colab": {
          "base_uri": "https://localhost:8080/"
        }
      },
      "outputs": [
        {
          "output_type": "stream",
          "name": "stdout",
          "text": [
            "Enter the first number: 5\n",
            "Enter the second number: 15\n",
            "Sum of the two numbers: 20\n"
          ]
        }
      ],
      "source": [
        "# Write a Python program to take two numbers as input and print their sum.\n",
        "x = int(input(\"Enter the first number: \"))\n",
        "y = int(input(\"Enter the second number: \"))\n",
        "z = x + y\n",
        "print(\"Sum of the two numbers:\", z)"
      ]
    },
    {
      "cell_type": "code",
      "execution_count": null,
      "id": "0563b26c-0218-47b8-9035-98beb73b0931",
      "metadata": {
        "id": "0563b26c-0218-47b8-9035-98beb73b0931",
        "outputId": "60719041-a00a-4bc3-9c0e-05c1eefac067",
        "colab": {
          "base_uri": "https://localhost:8080/"
        }
      },
      "outputs": [
        {
          "output_type": "stream",
          "name": "stdout",
          "text": [
            "Enter your name: AAROHI\n",
            "Enter your age: 19 \n",
            "Hello, AAROHI! You are 19 years old.\n"
          ]
        }
      ],
      "source": [
        "# Write a Python program to format and display a string containing the user's name and age. (User input required)\n",
        "name = input(\"Enter your name: \")\n",
        "age = int(input(\"Enter your age: \"))\n",
        "print(f\"Hello, {name}! You are {age} years old.\")\n"
      ]
    },
    {
      "cell_type": "markdown",
      "id": "0bde6e5a-0415-4b06-8b5a-95fa252b34eb",
      "metadata": {
        "id": "0bde6e5a-0415-4b06-8b5a-95fa252b34eb"
      },
      "source": [
        "## Control Structures (Conditionals and Loops)"
      ]
    },
    {
      "cell_type": "code",
      "execution_count": null,
      "id": "aefff5f3-b61e-43e6-a458-7367ef1af9de",
      "metadata": {
        "id": "aefff5f3-b61e-43e6-a458-7367ef1af9de",
        "outputId": "dd9d915b-4ce6-49cb-baf4-b878b29b20af",
        "colab": {
          "base_uri": "https://localhost:8080/"
        }
      },
      "outputs": [
        {
          "output_type": "stream",
          "name": "stdout",
          "text": [
            "Enter a number: 7\n",
            "x is positive: 7\n"
          ]
        }
      ],
      "source": [
        "# Write a Python program that takes a number as input and checks whether it is positive, negative, or zero.\n",
        "X = int(input(\"Enter a number: \"))\n",
        "if X > 0:\n",
        "    print('x is positive:', X)\n",
        "elif X < 0:\n",
        "    print('x is negative:', X)\n",
        "else:\n",
        "    print('x is zero:', X)"
      ]
    },
    {
      "cell_type": "code",
      "execution_count": null,
      "id": "4dc6d14b-6d22-4348-859a-2a03f9be65f7",
      "metadata": {
        "id": "4dc6d14b-6d22-4348-859a-2a03f9be65f7",
        "outputId": "bfd68acb-9602-4174-ed48-43cd228279fe",
        "colab": {
          "base_uri": "https://localhost:8080/"
        }
      },
      "outputs": [
        {
          "output_type": "stream",
          "name": "stdout",
          "text": [
            "Enter the first number: 6\n",
            "Enter the second number: 7\n",
            "Enter the third number: 8\n",
            "The maximum of the three numbers is: 8.0\n"
          ]
        }
      ],
      "source": [
        "# Write a Python program to find the maximum of three numbers. (User input for the numbers)\n",
        "A = float(input(\"Enter the first number: \"))\n",
        "B = float(input(\"Enter the second number: \"))\n",
        "C = float(input(\"Enter the third number: \"))\n",
        "maximum = max(A, B, C)\n",
        "print(\"The maximum of the three numbers is:\", maximum)"
      ]
    },
    {
      "cell_type": "code",
      "execution_count": null,
      "id": "3f6d1f45-eb68-4142-89d6-510046f21879",
      "metadata": {
        "id": "3f6d1f45-eb68-4142-89d6-510046f21879",
        "outputId": "bf098a66-8f26-4e9b-ce40-eeea187938d4",
        "colab": {
          "base_uri": "https://localhost:8080/"
        }
      },
      "outputs": [
        {
          "output_type": "stream",
          "name": "stdout",
          "text": [
            "Enter a year: 2005\n",
            "2005 is not a leap year.\n"
          ]
        }
      ],
      "source": [
        "# Write a Python program to check if a year is a leap year. (User input for the year)\n",
        "year = int(input(\"Enter a year: \"))\n",
        "\n",
        "if (year % 4 == 0 and year % 100 != 0) or year % 400 == 0:\n",
        "    print(f\"{year} is a leap year.\")\n",
        "else:\n",
        "    print(f\"{year} is not a leap year.\")"
      ]
    },
    {
      "cell_type": "code",
      "execution_count": 3,
      "id": "b6a07105-6fa5-4f70-b64b-ebd66afc3c2b",
      "metadata": {
        "id": "b6a07105-6fa5-4f70-b64b-ebd66afc3c2b",
        "colab": {
          "base_uri": "https://localhost:8080/"
        },
        "outputId": "c94f1b93-3043-49a8-81b3-ef396cb96e9e"
      },
      "outputs": [
        {
          "output_type": "stream",
          "name": "stdout",
          "text": [
            "Enter a number: 15\n",
            "15 is divisible by both 3 and 5.\n"
          ]
        }
      ],
      "source": [
        "# Write a Python program to check if a number is divisible by both 3 and 5. (User input for the number)\n",
        "num1 = int(input(\"Enter a number: \"))\n",
        "\n",
        "if num1 % 3 == 0 and num1 % 5 == 0:\n",
        "    print(f\"{num1} is divisible by both 3 and 5.\")\n",
        "else:\n",
        "    print(f\"{num1} is not divisible by both 3 and 5.\")"
      ]
    },
    {
      "cell_type": "code",
      "execution_count": 6,
      "id": "d10c9005-b85d-42f9-81d0-65d149415888",
      "metadata": {
        "id": "d10c9005-b85d-42f9-81d0-65d149415888",
        "colab": {
          "base_uri": "https://localhost:8080/"
        },
        "outputId": "05de1757-65bf-4869-fcd1-81f4e622d651"
      },
      "outputs": [
        {
          "output_type": "stream",
          "name": "stdout",
          "text": [
            "Enter a string: pop\n",
            "'pop' is a palindrome.\n"
          ]
        }
      ],
      "source": [
        "# Write a Python program to check if a string is a palindrome. (User input for the string)\n",
        "def is_palindrome(text):\n",
        "    processed_text = ''.join(filter(str.isalnum, text)).lower()\n",
        "    return processed_text == processed_text[::-1]\n",
        "\n",
        "user_input = input(\"Enter a string: \")\n",
        "if is_palindrome(user_input):\n",
        "    print(f\"'{user_input}' is a palindrome.\")\n",
        "else:\n",
        "    print(f\"'{user_input}' is not a palindrome.\")"
      ]
    },
    {
      "cell_type": "code",
      "execution_count": 7,
      "id": "82d76cdf-efc6-45c6-ab09-9d1f17b3d857",
      "metadata": {
        "id": "82d76cdf-efc6-45c6-ab09-9d1f17b3d857",
        "colab": {
          "base_uri": "https://localhost:8080/"
        },
        "outputId": "ebd5b997-907b-41b3-b1cc-ff1f6d13dafb"
      },
      "outputs": [
        {
          "output_type": "stream",
          "name": "stdout",
          "text": [
            "1\n",
            "2\n",
            "3\n",
            "4\n",
            "5\n",
            "6\n",
            "7\n",
            "8\n",
            "9\n",
            "10\n"
          ]
        }
      ],
      "source": [
        "# Write a Python program to print numbers from 1 to 10 using a for loop.\n",
        "for i in range(1, 11):\n",
        "    print(i)"
      ]
    },
    {
      "cell_type": "code",
      "execution_count": 25,
      "id": "d09e8994-e984-4c12-ab1e-1bfc6938a389",
      "metadata": {
        "id": "d09e8994-e984-4c12-ab1e-1bfc6938a389",
        "colab": {
          "base_uri": "https://localhost:8080/"
        },
        "outputId": "14f4549e-0aca-4080-9f0d-3dab83d73908"
      },
      "outputs": [
        {
          "output_type": "stream",
          "name": "stdout",
          "text": [
            "2\n",
            "4\n",
            "6\n",
            "8\n",
            "10\n",
            "12\n",
            "14\n",
            "16\n",
            "18\n",
            "20\n"
          ]
        }
      ],
      "source": [
        "# Write a Python program to print all even numbers from 1 to 20 using a while loop.\n",
        "n = 1\n",
        "while n <= 20:\n",
        "    if n % 2 == 0:\n",
        "        print(n)\n",
        "    n += 1\n"
      ]
    },
    {
      "cell_type": "code",
      "execution_count": 26,
      "id": "c09ca878-167e-49ca-97f0-247a43c9b472",
      "metadata": {
        "id": "c09ca878-167e-49ca-97f0-247a43c9b472",
        "colab": {
          "base_uri": "https://localhost:8080/"
        },
        "outputId": "68d97962-6862-490f-8028-1577740a42ce"
      },
      "outputs": [
        {
          "output_type": "stream",
          "name": "stdout",
          "text": [
            "Enter a number: 5\n",
            "5 x 1 = 5\n",
            "5 x 2 = 10\n",
            "5 x 3 = 15\n",
            "5 x 4 = 20\n",
            "5 x 5 = 25\n",
            "5 x 6 = 30\n",
            "5 x 7 = 35\n",
            "5 x 8 = 40\n",
            "5 x 9 = 45\n",
            "5 x 10 = 50\n"
          ]
        }
      ],
      "source": [
        "# Write a Python program to print the multiplication table of a given number using a for loop. (User input for the number)\n",
        "num = int(input(\"Enter a number: \"))\n",
        "for i in range(1, 11):\n",
        "    print(f\"{num} x {i} = {num * i}\")"
      ]
    },
    {
      "cell_type": "code",
      "execution_count": 31,
      "id": "b72118ab-e62d-4af9-bcec-e1cc6af31b25",
      "metadata": {
        "id": "b72118ab-e62d-4af9-bcec-e1cc6af31b25",
        "colab": {
          "base_uri": "https://localhost:8080/"
        },
        "outputId": "d63057d3-6041-4201-e4e7-309be949a9f0"
      },
      "outputs": [
        {
          "output_type": "stream",
          "name": "stdout",
          "text": [
            "Enter a positive integer n: 5\n",
            "The sum of all numbers from 1 to 5 is: 15\n"
          ]
        }
      ],
      "source": [
        "# Write a Python program to calculate the sum of all numbers from 1 to n using a while loop. (User input for n)\n",
        "try:\n",
        "    n = int(input(\"Enter a positive integer n: \"))\n",
        "    if n < 1:\n",
        "        print(\"Please enter a positive integer greater than 0.\")\n",
        "    else:\n",
        "        result = sum_of_numbers(n)\n",
        "        print(f\"The sum of all numbers from 1 to {n} is: {result}\")\n",
        "except ValueError:\n",
        "    print(\"Invalid input! Please enter a valid integer.\")"
      ]
    },
    {
      "cell_type": "code",
      "execution_count": 33,
      "id": "ae93621f-11a2-40b7-97bc-3002f03ac36a",
      "metadata": {
        "id": "ae93621f-11a2-40b7-97bc-3002f03ac36a",
        "colab": {
          "base_uri": "https://localhost:8080/"
        },
        "outputId": "9d11cb07-75f6-4b85-c35b-4c4842fb012f"
      },
      "outputs": [
        {
          "output_type": "stream",
          "name": "stdout",
          "text": [
            "Enter a number: 5\n",
            "The factorial of 5 is: 120\n"
          ]
        }
      ],
      "source": [
        "# Write a Python program to calculate the factorial of a number using a while loop. (User input for the number)\n",
        "num = int(input(\"Enter a number: \"))\n",
        "factorial = 1\n",
        "current = 1\n",
        "while current <= num:\n",
        "    factorial *= current\n",
        "    current += 1\n",
        "print(f\"The factorial of {num} is: {factorial}\")"
      ]
    },
    {
      "cell_type": "code",
      "execution_count": 34,
      "id": "68467ccc-d696-4ef1-84c4-164c9d87f755",
      "metadata": {
        "id": "68467ccc-d696-4ef1-84c4-164c9d87f755",
        "colab": {
          "base_uri": "https://localhost:8080/"
        },
        "outputId": "58f85404-c45b-4279-9603-5a07799c855e"
      },
      "outputs": [
        {
          "output_type": "stream",
          "name": "stdout",
          "text": [
            "Enter the number of terms: 8\n",
            "0 1 1 2 3 5 8 13 "
          ]
        }
      ],
      "source": [
        "# Write a Python program to print the Fibonacci sequence up to n terms. (User input for n)\n",
        "n = int(input(\"Enter the number of terms: \"))\n",
        "a, b = 0, 1\n",
        "for _ in range(n):\n",
        "    print(a, end=\" \")\n",
        "    a, b = b, a + b"
      ]
    },
    {
      "cell_type": "code",
      "execution_count": 35,
      "id": "5bebd1f3-2606-4102-aa55-01cb1650f632",
      "metadata": {
        "id": "5bebd1f3-2606-4102-aa55-01cb1650f632",
        "colab": {
          "base_uri": "https://localhost:8080/"
        },
        "outputId": "f01b4e1a-72d9-4b1e-b1db-81986827ca7a"
      },
      "outputs": [
        {
          "output_type": "stream",
          "name": "stdout",
          "text": [
            "2\n",
            "3\n",
            "5\n",
            "7\n",
            "11\n",
            "13\n",
            "17\n",
            "19\n",
            "23\n",
            "29\n",
            "31\n",
            "37\n",
            "41\n",
            "43\n",
            "47\n",
            "53\n",
            "59\n",
            "61\n",
            "67\n",
            "71\n",
            "73\n",
            "79\n",
            "83\n",
            "89\n",
            "97\n"
          ]
        }
      ],
      "source": [
        "# Write a Python program to find all the prime numbers from 1 to 100.\n",
        "for num in range(2, 101):\n",
        "    for i in range(2, num):\n",
        "        if num % i == 0:\n",
        "            break\n",
        "    else:\n",
        "        print(num)"
      ]
    },
    {
      "cell_type": "code",
      "execution_count": 37,
      "id": "0a3f894e-52ba-4c0b-9158-a70f31f4fd49",
      "metadata": {
        "id": "0a3f894e-52ba-4c0b-9158-a70f31f4fd49",
        "colab": {
          "base_uri": "https://localhost:8080/"
        },
        "outputId": "1fb66870-0bcb-47eb-9065-7bfc9aa48495"
      },
      "outputs": [
        {
          "output_type": "stream",
          "name": "stdout",
          "text": [
            "1\n",
            "2\n",
            "3\n",
            "4\n",
            "5\n",
            "6\n",
            "7\n",
            "8\n",
            "9\n",
            "10\n",
            "11\n",
            "12\n",
            "13\n",
            "14\n",
            "15\n",
            "16\n",
            "17\n",
            "18\n",
            "19\n",
            "20\n",
            "21\n",
            "22\n",
            "23\n",
            "24\n",
            "25\n",
            "26\n",
            "27\n",
            "28\n",
            "29\n",
            "30\n",
            "31\n",
            "32\n",
            "33\n",
            "34\n",
            "35\n",
            "36\n",
            "37\n",
            "38\n",
            "39\n",
            "40\n",
            "41\n",
            "42\n",
            "43\n",
            "44\n",
            "45\n",
            "46\n",
            "47\n",
            "48\n",
            "49\n",
            "50\n"
          ]
        }
      ],
      "source": [
        "# Write a Python program that breaks out of a loop when a specific condition is met (e.g., when a number greater than 50 is found).\n",
        "for num in range(1, 101):\n",
        "    if num > 50:\n",
        "        break\n",
        "    print(num)\n"
      ]
    },
    {
      "cell_type": "code",
      "execution_count": 36,
      "id": "499b91d0-1f1b-494f-af2b-8cc3a06d90ed",
      "metadata": {
        "id": "499b91d0-1f1b-494f-af2b-8cc3a06d90ed",
        "colab": {
          "base_uri": "https://localhost:8080/"
        },
        "outputId": "f85ca2eb-da04-46f5-e2b4-ee325e0cee13"
      },
      "outputs": [
        {
          "output_type": "stream",
          "name": "stdout",
          "text": [
            "1\n",
            "3\n",
            "5\n",
            "7\n",
            "9\n",
            "11\n",
            "13\n",
            "15\n",
            "17\n",
            "19\n"
          ]
        }
      ],
      "source": [
        "# Write a Python program to skip even numbers while printing numbers from 1 to 20 using a for loop.\n",
        "for num in range(1, 21):\n",
        "    if num % 2 == 0:\n",
        "        continue\n",
        "    print(num)"
      ]
    },
    {
      "cell_type": "code",
      "execution_count": 38,
      "id": "f8ffed70-dfde-4262-a2fd-0d35d69b5fb1",
      "metadata": {
        "id": "f8ffed70-dfde-4262-a2fd-0d35d69b5fb1",
        "colab": {
          "base_uri": "https://localhost:8080/"
        },
        "outputId": "48bd978e-3918-4623-c66c-1980dbab2d27"
      },
      "outputs": [
        {
          "output_type": "stream",
          "name": "stdout",
          "text": [
            "Enter a string: deepika\n",
            "Enter a character: e\n",
            "The character 'e' appears 2 times in the string.\n"
          ]
        }
      ],
      "source": [
        "# Write a Python program to count how many times a particular character appears in a string using a for loop. (User input for string and character)\n",
        "string = input(\"Enter a string: \")\n",
        "character = input(\"Enter a character: \")\n",
        "count = 0\n",
        "for char in string:\n",
        "    if char == character:\n",
        "        count += 1\n",
        "print(f\"The character '{character}' appears {count} times in the string.\")"
      ]
    },
    {
      "source": [
        "# Write a Python program to calculate the sum of digits of a number. (User input for the number)\n",
        "def sum_of_digits(number):\n",
        "    # Ensure the number is positive for calculation\n",
        "    number = abs(number)\n",
        "    digit_sum = 0\n",
        "\n",
        "    # Calculate the sum of digits\n",
        "    while number > 0:\n",
        "        digit_sum += number % 10\n",
        "        number //= 10\n",
        "\n",
        "    return digit_sum\n",
        "\n",
        "# Get user input\n",
        "try:\n",
        "    user_input = int(input(\"Enter a number: \"))\n",
        "    result = sum_of_digits(user_input)\n",
        "    print(f\"The sum of the digits of {user_input} is: {result}\")\n",
        "except ValueError:\n",
        "    print(\"Please enter a valid integer.\")\n"
      ],
      "cell_type": "code",
      "metadata": {
        "colab": {
          "base_uri": "https://localhost:8080/"
        },
        "id": "7fAkEUVVxs3w",
        "outputId": "d1f7a446-e6ef-4b70-abe3-403fd92c8b0a"
      },
      "id": "7fAkEUVVxs3w",
      "execution_count": 47,
      "outputs": [
        {
          "output_type": "stream",
          "name": "stdout",
          "text": [
            "Enter a number: 56\n",
            "The sum of the digits of 56 is: 11\n"
          ]
        }
      ]
    },
    {
      "cell_type": "markdown",
      "id": "fe644fae-f262-48dd-b7ff-08eb747d297e",
      "metadata": {
        "id": "fe644fae-f262-48dd-b7ff-08eb747d297e"
      },
      "source": [
        "## Data Structures (Lists, Tuples, Sets, Dictionaries)"
      ]
    },
    {
      "cell_type": "code",
      "source": [
        "# Write a Python program to create a list of integers and print the sum of the elements.\n",
        "\n",
        "numbers = [15, 25, 35, 45, 55]\n",
        "\n",
        "\n",
        "total_sum = sum(numbers)\n",
        "\n",
        "\n",
        "print(\"The sum of the elements in the list is:\", total_sum)\n"
      ],
      "metadata": {
        "colab": {
          "base_uri": "https://localhost:8080/"
        },
        "id": "NSdiRAHq24p8",
        "outputId": "02a4edf9-59ad-4203-f72b-1c9dffc3d63c"
      },
      "id": "NSdiRAHq24p8",
      "execution_count": 4,
      "outputs": [
        {
          "output_type": "stream",
          "name": "stdout",
          "text": [
            "The sum of the elements in the list is: 175\n"
          ]
        }
      ]
    },
    {
      "cell_type": "code",
      "execution_count": 76,
      "id": "5a23046d-80b0-4f8d-a02f-4e3d833c0443",
      "metadata": {
        "id": "5a23046d-80b0-4f8d-a02f-4e3d833c0443",
        "colab": {
          "base_uri": "https://localhost:8080/"
        },
        "outputId": "a7762c7b-1298-4c7a-9be4-0d0c1affad16"
      },
      "outputs": [
        {
          "output_type": "stream",
          "name": "stdout",
          "text": [
            "100\n"
          ]
        }
      ],
      "source": [
        "# Write a Python program to find the largest element in a list.\n",
        "\n",
        "list_num=[10,20,30,40,50,60,70,80,90,100,]\n",
        "print(max(list_num))"
      ]
    },
    {
      "cell_type": "code",
      "execution_count": 52,
      "id": "9939c2d2-90fd-4e80-81bc-227c72e60e37",
      "metadata": {
        "id": "9939c2d2-90fd-4e80-81bc-227c72e60e37",
        "colab": {
          "base_uri": "https://localhost:8080/"
        },
        "outputId": "25fd2641-ac8c-4924-ed16-8a862f4e7714"
      },
      "outputs": [
        {
          "output_type": "stream",
          "name": "stdout",
          "text": [
            "Reversed list: [5, 4, 3, 2, 1]\n"
          ]
        }
      ],
      "source": [
        "# Write a Python program to reverse a list.\n",
        "numbers = [1, 2, 3, 4, 5]\n",
        "reversed_list = numbers[::-1]\n",
        "print(\"Reversed list:\", reversed_list)"
      ]
    },
    {
      "cell_type": "code",
      "execution_count": 55,
      "id": "aa287db8-057b-48d4-a6d8-18cc53eb7178",
      "metadata": {
        "id": "aa287db8-057b-48d4-a6d8-18cc53eb7178",
        "colab": {
          "base_uri": "https://localhost:8080/"
        },
        "outputId": "49eb2528-8ad4-4a1d-f862-b3a8188c2b01"
      },
      "outputs": [
        {
          "output_type": "stream",
          "name": "stdout",
          "text": [
            "List after removing all occurrences of 20 : [11, 30, 21, 43, 28, 50]\n"
          ]
        }
      ],
      "source": [
        "# Write a Python program to remove all occurrences of a specific element from a list.\n",
        "numbers = [11, 20, 30, 21, 43, 28, 50]\n",
        "element_to_remove = 20\n",
        "numbers = [x for x in numbers if x != element_to_remove]\n",
        "print(\"List after removing all occurrences of\", element_to_remove, \":\", numbers)"
      ]
    },
    {
      "cell_type": "code",
      "execution_count": 60,
      "id": "da9ba926-0ab5-46e9-b66d-128088c3225b",
      "metadata": {
        "id": "da9ba926-0ab5-46e9-b66d-128088c3225b",
        "colab": {
          "base_uri": "https://localhost:8080/"
        },
        "outputId": "ce596d95-a135-4eb1-b941-258310afb1f0"
      },
      "outputs": [
        {
          "output_type": "stream",
          "name": "stdout",
          "text": [
            "Index of 95 : 5\n"
          ]
        }
      ],
      "source": [
        "# Write a Python program to find the index of an element in a list.\n",
        "numbers = [90, 91 ,92, 93 , 94, 95, 96, 97, 98 , 99 , 100]\n",
        "element_to_find = 95\n",
        "index = numbers.index(element_to_find)\n",
        "print(\"Index of\", element_to_find, \":\", index)"
      ]
    },
    {
      "cell_type": "code",
      "execution_count": 62,
      "id": "9601b6e4-cb90-4e1f-87b4-38ed37076e0d",
      "metadata": {
        "id": "9601b6e4-cb90-4e1f-87b4-38ed37076e0d",
        "colab": {
          "base_uri": "https://localhost:8080/"
        },
        "outputId": "6c729f46-1525-442b-c710-99a90798804d"
      },
      "outputs": [
        {
          "output_type": "stream",
          "name": "stdout",
          "text": [
            "35 exists in the list.\n"
          ]
        }
      ],
      "source": [
        "# Write a Python program to find if a specific element exists in a list.\n",
        "numbers = [15, 25, 35, 45, 55]\n",
        "element_to_find = 35\n",
        "if element_to_find in numbers:\n",
        "    print(element_to_find, \"exists in the list.\")"
      ]
    },
    {
      "cell_type": "code",
      "execution_count": 63,
      "id": "9d8e7311-81de-4da2-826c-c4dcad28ed9f",
      "metadata": {
        "id": "9d8e7311-81de-4da2-826c-c4dcad28ed9f",
        "colab": {
          "base_uri": "https://localhost:8080/"
        },
        "outputId": "586ca875-15f8-4b47-e4a3-8b2555f6f4e0"
      },
      "outputs": [
        {
          "output_type": "stream",
          "name": "stdout",
          "text": [
            "List after removing duplicates: [40, 10, 50, 20, 30]\n"
          ]
        }
      ],
      "source": [
        "# Write a Python program to remove duplicates from a list.\n",
        "numbers = [10, 20, 30, 20, 40, 50, 30]\n",
        "unique_numbers = list(set(numbers))\n",
        "print(\"List after removing duplicates:\", unique_numbers)"
      ]
    },
    {
      "cell_type": "code",
      "execution_count": 66,
      "id": "09e5121b-97b3-42e4-8025-f28f3470681b",
      "metadata": {
        "id": "09e5121b-97b3-42e4-8025-f28f3470681b",
        "colab": {
          "base_uri": "https://localhost:8080/"
        },
        "outputId": "0bf84be8-fe86-4529-929b-689967c04f52"
      },
      "outputs": [
        {
          "output_type": "stream",
          "name": "stdout",
          "text": [
            "Occurrences of 20 : 2\n"
          ]
        }
      ],
      "source": [
        "# Write a Python program to count the occurrences of an element in a list.\n",
        "numbers = [10, 20, 30, 20, 40, 50, 30]\n",
        "element_to_count = 20\n",
        "count = numbers.count(element_to_count)\n",
        "print(\"Occurrences of\", element_to_count, \":\", count)"
      ]
    },
    {
      "cell_type": "code",
      "execution_count": 16,
      "id": "b774b741-e9a6-45db-8f00-e6d9b734d03a",
      "metadata": {
        "id": "b774b741-e9a6-45db-8f00-e6d9b734d03a",
        "colab": {
          "base_uri": "https://localhost:8080/"
        },
        "outputId": "fdecd949-13a3-44d2-92f0-4274edf0ed45"
      },
      "outputs": [
        {
          "output_type": "stream",
          "name": "stdout",
          "text": [
            "6\n",
            "8\n",
            "2\n",
            "2\n",
            "4\n",
            "2\n",
            "4\n",
            "6\n",
            "8\n",
            "10\n",
            "12\n",
            "14\n",
            "16\n",
            "18\n",
            "20\n",
            "22\n",
            "24\n",
            "26\n",
            "28\n",
            "30\n",
            "32\n",
            "34\n",
            "36\n",
            "38\n",
            "40\n",
            "42\n",
            "44\n",
            "46\n",
            "48\n",
            "50\n",
            "52\n",
            "54\n",
            "56\n",
            "58\n",
            "60\n",
            "62\n",
            "64\n",
            "66\n",
            "68\n",
            "70\n",
            "72\n",
            "74\n",
            "76\n",
            "78\n",
            "80\n",
            "82\n",
            "84\n",
            "86\n",
            "88\n",
            "90\n",
            "92\n",
            "94\n",
            "96\n",
            "98\n",
            "100\n"
          ]
        }
      ],
      "source": [
        "# Write a Python program to get the number of even numbers in a list.\n",
        "num = [ 6, 3, 5, 7, 8, 1, 7, 2, 5, 2, 4, 2, 4, 6, 8,\n",
        "    10, 12, 14, 16, 18, 20, 22, 24, 26, 28, 30, 32, 34, 36, 38, 40, 42, 44, 46,\n",
        "    48, 50, 52, 54, 56, 58, 60, 62, 64, 66, 68, 70, 72, 74, 76, 78, 80, 82, 84,\n",
        "    86, 88, 90, 92, 94, 96, 98, 100\n",
        "]\n",
        "\n",
        "for i in num:\n",
        "    if i % 2 == 0:  # Check if the number is even\n",
        "        print(i)  # Print the even number\n"
      ]
    },
    {
      "cell_type": "code",
      "execution_count": 18,
      "id": "5ce4fd2b-ab16-4b40-9ac2-d19c244d8d96",
      "metadata": {
        "id": "5ce4fd2b-ab16-4b40-9ac2-d19c244d8d96",
        "colab": {
          "base_uri": "https://localhost:8080/"
        },
        "outputId": "c51bac17-5126-4621-9442-cc8b29008ae5"
      },
      "outputs": [
        {
          "output_type": "stream",
          "name": "stdout",
          "text": [
            "(1, 2, 3, 4, 5)\n"
          ]
        }
      ],
      "source": [
        "# Write a Python program to create a tuple and print it.\n",
        "num_tuple= (1,2,3,4,5)\n",
        "print(num_tuple)"
      ]
    },
    {
      "cell_type": "code",
      "execution_count": 20,
      "id": "5c04f880-6e96-4ef4-9f4b-df21aae76ff1",
      "metadata": {
        "id": "5c04f880-6e96-4ef4-9f4b-df21aae76ff1",
        "colab": {
          "base_uri": "https://localhost:8080/"
        },
        "outputId": "9b1f9014-f2c3-4e4b-b78c-e4508e6c60e3"
      },
      "outputs": [
        {
          "output_type": "stream",
          "name": "stdout",
          "text": [
            "Converted tuple to list: [2, 4, 6, 8, 10]\n",
            "Converted list back to tuple: (2, 4, 6, 8, 10)\n"
          ]
        }
      ],
      "source": [
        "# Write a Python program to convert a tuple to a list and vice versa\n",
        "\n",
        "my_tuple = ( 2, 4, 6, 8, 10)\n",
        "\n",
        "my_list = list(my_tuple)\n",
        "\n",
        "\n",
        "print(\"Converted tuple to list:\", my_list)\n",
        "\n",
        "\n",
        "new_tuple = tuple(my_list)\n",
        "\n",
        "\n",
        "print(\"Converted list back to tuple:\", new_tuple)\n"
      ]
    },
    {
      "cell_type": "code",
      "execution_count": 1,
      "id": "d5192acc-27f3-456e-9c72-3b276a587bf5",
      "metadata": {
        "id": "d5192acc-27f3-456e-9c72-3b276a587bf5",
        "colab": {
          "base_uri": "https://localhost:8080/"
        },
        "outputId": "d7b76043-51b7-4d0b-9cfd-c00d257da1ce"
      },
      "outputs": [
        {
          "output_type": "stream",
          "name": "stdout",
          "text": [
            "5\n",
            "1\n"
          ]
        }
      ],
      "source": [
        "# Write a Python program to find the maximum and minimum values in a tuple.\n",
        "num_tuple= (1,2,3,4,5)\n",
        "print(max(num_tuple))\n",
        "print(min(num_tuple))"
      ]
    },
    {
      "cell_type": "code",
      "execution_count": 2,
      "id": "43f0a340-9407-4302-af7e-4e63db578bbf",
      "metadata": {
        "id": "43f0a340-9407-4302-af7e-4e63db578bbf",
        "colab": {
          "base_uri": "https://localhost:8080/"
        },
        "outputId": "c98c8df0-54cf-435c-dab5-eb51949617dc"
      },
      "outputs": [
        {
          "output_type": "stream",
          "name": "stdout",
          "text": [
            "a: 1\n",
            "b: 2\n",
            "c: 3\n"
          ]
        }
      ],
      "source": [
        "# Write a Python program to unpack a tuple into variables.\n",
        "my_tuple = (1, 2, 3)\n",
        "a, b, c = my_tuple\n",
        "print(\"a:\", a)\n",
        "print(\"b:\", b)\n",
        "print(\"c:\", c)"
      ]
    },
    {
      "cell_type": "code",
      "execution_count": 3,
      "id": "46e96e29-2157-4b9f-bb24-0bd973eada9f",
      "metadata": {
        "id": "46e96e29-2157-4b9f-bb24-0bd973eada9f",
        "colab": {
          "base_uri": "https://localhost:8080/"
        },
        "outputId": "b9a5f72c-13bf-450b-982c-ce4a60807e32"
      },
      "outputs": [
        {
          "output_type": "stream",
          "name": "stdout",
          "text": [
            "Set after adding 4: {1, 2, 3, 4}\n",
            "3 is in the set\n"
          ]
        }
      ],
      "source": [
        "# Write a Python program to add an element to a set and check if an element exists in the set.\n",
        "# Create a set\n",
        "my_set = {1, 2, 3}\n",
        "\n",
        "# Add an element to the set\n",
        "element_to_add = 4\n",
        "my_set.add(element_to_add)\n",
        "print(f\"Set after adding {element_to_add}: {my_set}\")\n",
        "\n",
        "# Check if an element exists in the set\n",
        "element_to_check = 3\n",
        "if element_to_check in my_set:\n",
        "    print(f\"{element_to_check} is in the set\")\n",
        "else:\n",
        "    print(f\"{element_to_check} is not in the set\")\n"
      ]
    },
    {
      "cell_type": "code",
      "execution_count": 4,
      "id": "d81a803b-fd80-403e-9ae3-680ef44a3d86",
      "metadata": {
        "id": "d81a803b-fd80-403e-9ae3-680ef44a3d86",
        "colab": {
          "base_uri": "https://localhost:8080/"
        },
        "outputId": "4293ea3c-01bf-454c-ff27-b99c13a11a79"
      },
      "outputs": [
        {
          "output_type": "stream",
          "name": "stdout",
          "text": [
            "{'name': 'Alice', 'age': 30, 'city': 'New York'}\n"
          ]
        }
      ],
      "source": [
        "# Write a Python program to create a dictionary with keys and values and print it.\n",
        "# Create a dictionary\n",
        "my_dict = {\n",
        "    \"name\": \"Alice\",\n",
        "    \"age\": 30,\n",
        "    \"city\": \"New York\"\n",
        "}\n",
        "\n",
        "# Print the dictionary\n",
        "print(my_dict)"
      ]
    },
    {
      "cell_type": "code",
      "execution_count": 5,
      "id": "7432174b-fe75-4371-b23a-e2c5d62edb15",
      "metadata": {
        "id": "7432174b-fe75-4371-b23a-e2c5d62edb15",
        "colab": {
          "base_uri": "https://localhost:8080/"
        },
        "outputId": "e9e37d67-9d2a-4e3f-8e62-db3411e90004"
      },
      "outputs": [
        {
          "output_type": "stream",
          "name": "stdout",
          "text": [
            "Alice\n"
          ]
        }
      ],
      "source": [
        "# Write a Python program to access a dictionary value using a key.\n",
        "# Create a dictionary\n",
        "my_dict = {\n",
        "    \"name\": \"Alice\",\n",
        "    \"age\": 30,\n",
        "    \"city\": \"New York\"\n",
        "}\n",
        "\n",
        "# Access a value using a key\n",
        "name = my_dict[\"name\"]\n",
        "\n",
        "# Print the accessed value\n",
        "print(name)\n"
      ]
    },
    {
      "cell_type": "code",
      "execution_count": 6,
      "id": "000b3260-d91f-41f2-9729-4b0124f2c4d2",
      "metadata": {
        "id": "000b3260-d91f-41f2-9729-4b0124f2c4d2",
        "colab": {
          "base_uri": "https://localhost:8080/"
        },
        "outputId": "2e1c0e3d-f3ee-4efe-8fb6-45288caf1cdc"
      },
      "outputs": [
        {
          "output_type": "stream",
          "name": "stdout",
          "text": [
            "The key 'age' exists in the dictionary\n"
          ]
        }
      ],
      "source": [
        "# Write a Python program to check if a key exists in a dictionary.\n",
        "# Create a dictionary\n",
        "my_dict = {\n",
        "    \"name\": \"Alice\",\n",
        "    \"age\": 30,\n",
        "    \"city\": \"New York\"\n",
        "}\n",
        "\n",
        "# Key to check for\n",
        "key_to_check = \"age\"\n",
        "\n",
        "# Check if the key exists using 'in'\n",
        "if key_to_check in my_dict:\n",
        "    print(f\"The key '{key_to_check}' exists in the dictionary\")\n",
        "else:\n",
        "    print(f\"The key '{key_to_check}' does not exist in the dictionary\")"
      ]
    },
    {
      "cell_type": "code",
      "execution_count": 7,
      "id": "c4b1a942-818e-42c1-b742-1fabe80fca6d",
      "metadata": {
        "id": "c4b1a942-818e-42c1-b742-1fabe80fca6d",
        "colab": {
          "base_uri": "https://localhost:8080/"
        },
        "outputId": "75e489a3-9a4b-4347-a8e1-1df8807d63ad"
      },
      "outputs": [
        {
          "output_type": "stream",
          "name": "stdout",
          "text": [
            "{'a': 1, 'b': 3, 'c': 4}\n"
          ]
        }
      ],
      "source": [
        "# Write a Python program to merge two dictionaries.\n",
        "dict1 = {'a': 1, 'b': 2}\n",
        "dict2 = {'b': 3, 'c': 4}\n",
        "\n",
        "dict1.update(dict2)\n",
        "print(dict1)"
      ]
    },
    {
      "cell_type": "code",
      "execution_count": 8,
      "id": "a78f1070-3ff3-436a-8391-153f019f53cd",
      "metadata": {
        "id": "a78f1070-3ff3-436a-8391-153f019f53cd",
        "colab": {
          "base_uri": "https://localhost:8080/"
        },
        "outputId": "6d250eea-7716-4b71-dac1-0f60f561ace5"
      },
      "outputs": [
        {
          "output_type": "stream",
          "name": "stdout",
          "text": [
            "Key 'age' removed successfully. Updated dictionary: {'name': 'Alice', 'city': 'New York'}\n"
          ]
        }
      ],
      "source": [
        "# Write a Python program to remove a key from a dictionary.\n",
        "# Create a dictionary\n",
        "my_dict = {\n",
        "    \"name\": \"Alice\",\n",
        "    \"age\": 30,\n",
        "    \"city\": \"New York\"\n",
        "}\n",
        "\n",
        "# Key to remove\n",
        "key_to_remove = \"age\"\n",
        "\n",
        "# Remove the key using del\n",
        "if key_to_remove in my_dict:\n",
        "    del my_dict[key_to_remove]\n",
        "    print(f\"Key '{key_to_remove}' removed successfully. Updated dictionary: {my_dict}\")\n",
        "else:\n",
        "    print(f\"Key '{key_to_remove}' not found in the dictionary.\")"
      ]
    },
    {
      "cell_type": "code",
      "execution_count": 9,
      "id": "fcba0267-8cc4-4e89-9e78-2d820916c177",
      "metadata": {
        "id": "fcba0267-8cc4-4e89-9e78-2d820916c177",
        "colab": {
          "base_uri": "https://localhost:8080/"
        },
        "outputId": "ad9f4a9d-09ed-4c63-d3b1-b9f0e64250d2"
      },
      "outputs": [
        {
          "output_type": "stream",
          "name": "stdout",
          "text": [
            "The dictionary has 3 keys.\n"
          ]
        }
      ],
      "source": [
        "# Write a Python program to get the number of keys in a dictionary.\n",
        "# Create a dictionary\n",
        "my_dict = {\n",
        "    \"name\": \"Alice\",\n",
        "    \"age\": 30,\n",
        "    \"city\": \"New York\"\n",
        "}\n",
        "\n",
        "# Get the number of keys using len()\n",
        "num_keys = len(my_dict)\n",
        "\n",
        "# Print the result\n",
        "print(f\"The dictionary has {num_keys} keys.\")"
      ]
    },
    {
      "cell_type": "code",
      "execution_count": 10,
      "id": "d4c5fd77-9656-43e5-8fe2-be7dca23eb6d",
      "metadata": {
        "id": "d4c5fd77-9656-43e5-8fe2-be7dca23eb6d",
        "colab": {
          "base_uri": "https://localhost:8080/"
        },
        "outputId": "cd8f1920-becd-4bda-d8a7-722121c5cee2"
      },
      "outputs": [
        {
          "output_type": "stream",
          "name": "stdout",
          "text": [
            "Largest value: 8\n",
            "Smallest value: 2\n"
          ]
        }
      ],
      "source": [
        "# Write a Python program to find the largest and smallest values in a dictionary.\n",
        "# Create a dictionary\n",
        "my_dict = {\n",
        "    \"apple\": 5,\n",
        "    \"banana\": 2,\n",
        "    \"orange\": 8,\n",
        "    \"grape\": 3\n",
        "}\n",
        "\n",
        "# Get the largest and smallest values\n",
        "largest_value = max(my_dict.values())\n",
        "smallest_value = min(my_dict.values())\n",
        "\n",
        "# Print the results\n",
        "print(\"Largest value:\", largest_value)\n",
        "print(\"Smallest value:\", smallest_value)"
      ]
    },
    {
      "cell_type": "markdown",
      "id": "7830b8cc-9a90-45a2-8e4a-6f3c2b8b133b",
      "metadata": {
        "id": "7830b8cc-9a90-45a2-8e4a-6f3c2b8b133b"
      },
      "source": [
        "## Functions (User-Defined, Arguments, Keyword Arguments, Return Values)"
      ]
    },
    {
      "cell_type": "code",
      "execution_count": 11,
      "id": "06a33fba-c6b1-4989-90f4-b647d1fe1627",
      "metadata": {
        "id": "06a33fba-c6b1-4989-90f4-b647d1fe1627",
        "colab": {
          "base_uri": "https://localhost:8080/"
        },
        "outputId": "a7becd4d-1760-4b76-ebb7-13f816b09e18"
      },
      "outputs": [
        {
          "output_type": "stream",
          "name": "stdout",
          "text": [
            "25\n"
          ]
        }
      ],
      "source": [
        "# Write a Python function that returns the square of a number.\n",
        "def square(number):\n",
        "    return number ** 2\n",
        "result = square(5)\n",
        "print(result)"
      ]
    },
    {
      "cell_type": "code",
      "execution_count": 12,
      "id": "91d90a4a-7329-45db-893b-caed8450ba96",
      "metadata": {
        "id": "91d90a4a-7329-45db-893b-caed8450ba96",
        "colab": {
          "base_uri": "https://localhost:8080/"
        },
        "outputId": "32a46e48-21ee-4125-e11e-2341b7572d01"
      },
      "outputs": [
        {
          "output_type": "stream",
          "name": "stdout",
          "text": [
            "8\n"
          ]
        }
      ],
      "source": [
        "# Write a Python function that accepts two parameters and returns their sum.\n",
        "def add_numbers(a, b):\n",
        "    return a + b\n",
        "result = add_numbers(3, 5)\n",
        "print(result)"
      ]
    },
    {
      "cell_type": "code",
      "execution_count": 15,
      "id": "dec2f9a5-90c5-478b-890b-0a506ecf45d3",
      "metadata": {
        "id": "dec2f9a5-90c5-478b-890b-0a506ecf45d3",
        "colab": {
          "base_uri": "https://localhost:8080/"
        },
        "outputId": "355564c6-923c-416f-a666-5e2fd762b469"
      },
      "outputs": [
        {
          "output_type": "stream",
          "name": "stdout",
          "text": [
            "True\n"
          ]
        }
      ],
      "source": [
        "# Write a Python function to check if a given number is prime.\n",
        "def is_prime(number):\n",
        "    if number <= 1:\n",
        "        return False\n",
        "    for i in range(2, int(number ** 0.5) + 1):\n",
        "        if number % i == 0:\n",
        "            return False\n",
        "    return True\n",
        "result = is_prime(17)\n",
        "print(result)"
      ]
    },
    {
      "cell_type": "code",
      "execution_count": 17,
      "id": "56337441-68c3-45df-8733-a34cde0533a5",
      "metadata": {
        "id": "56337441-68c3-45df-8733-a34cde0533a5",
        "colab": {
          "base_uri": "https://localhost:8080/"
        },
        "outputId": "b97ee914-62f0-4c3d-e11a-900a7d7df6c0"
      },
      "outputs": [
        {
          "output_type": "stream",
          "name": "stdout",
          "text": [
            "120\n"
          ]
        }
      ],
      "source": [
        "# Write a Python function to calculate the factorial of a number using recursion.\n",
        "def factorial(n):\n",
        "    if n == 0:\n",
        "        return 1\n",
        "    else:\n",
        "        return n * factorial(n - 1)\n",
        "        pass\n",
        "result = factorial(5)\n",
        "print(result)"
      ]
    },
    {
      "cell_type": "code",
      "execution_count": 18,
      "id": "84a2d010-e7b2-409b-b1f4-99bf806bb77a",
      "metadata": {
        "id": "84a2d010-e7b2-409b-b1f4-99bf806bb77a",
        "colab": {
          "base_uri": "https://localhost:8080/"
        },
        "outputId": "e07eae62-ccc7-4819-aa5c-c4aae48f1ee5"
      },
      "outputs": [
        {
          "output_type": "stream",
          "name": "stdout",
          "text": [
            "8\n"
          ]
        }
      ],
      "source": [
        "# Write a Python function to calculate the power of a number using recursion.\n",
        "def power(base, exponent):\n",
        "    if exponent == 0:\n",
        "        return 1\n",
        "    elif exponent > 0:\n",
        "        return base * power(base, exponent - 1)\n",
        "        pass\n",
        "    else:\n",
        "        return 1 / (base * power(base, -exponent - 1))\n",
        "result = power(2, 3)\n",
        "print(result)"
      ]
    },
    {
      "cell_type": "code",
      "execution_count": 19,
      "id": "ec44911e-7820-46cc-96a3-4ca443888837",
      "metadata": {
        "id": "ec44911e-7820-46cc-96a3-4ca443888837",
        "colab": {
          "base_uri": "https://localhost:8080/"
        },
        "outputId": "88a6cd48-595e-41c9-8881-94e024edb497"
      },
      "outputs": [
        {
          "output_type": "stream",
          "name": "stdout",
          "text": [
            "5\n"
          ]
        }
      ],
      "source": [
        "# Write a Python function to accept a list and return its length without using the built-in len() function.\n",
        "def list_length(lst):\n",
        "    count = 0\n",
        "    for _ in lst:\n",
        "        count += 1\n",
        "    return count\n",
        "result = list_length([1, 2, 3, 4, 5])\n",
        "print(result)"
      ]
    },
    {
      "cell_type": "code",
      "execution_count": 20,
      "id": "fb4c08e1-34f3-487a-a1c6-77cd60fb4836",
      "metadata": {
        "id": "fb4c08e1-34f3-487a-a1c6-77cd60fb4836",
        "colab": {
          "base_uri": "https://localhost:8080/"
        },
        "outputId": "b888473e-487a-4362-db34-88ed4517b644"
      },
      "outputs": [
        {
          "output_type": "stream",
          "name": "stdout",
          "text": [
            "15\n"
          ]
        }
      ],
      "source": [
        "# Write a Python function that accepts both positional and keyword arguments and prints the sum of positional arguments.\n",
        "def sum_positional_arguments(*args):\n",
        "    total = 0\n",
        "    for arg in args:\n",
        "        total += arg\n",
        "    return total\n",
        "result = sum_positional_arguments(1, 2, 3, 4, 5)\n",
        "print(result)"
      ]
    },
    {
      "cell_type": "code",
      "execution_count": 21,
      "id": "f4ffc7a8-f579-461c-b507-4085a0477283",
      "metadata": {
        "id": "f4ffc7a8-f579-461c-b507-4085a0477283",
        "colab": {
          "base_uri": "https://localhost:8080/"
        },
        "outputId": "72932c78-566d-4bfa-bd95-be3e139a8542"
      },
      "outputs": [
        {
          "output_type": "stream",
          "name": "stdout",
          "text": [
            "10\n"
          ]
        }
      ],
      "source": [
        "# Write a Python function to find the maximum of two numbers using keyword arguments.\n",
        "def find_maximum(a, b):\n",
        "    return max(a, b)\n",
        "result = find_maximum(b=10, a=5)\n",
        "print(result)"
      ]
    },
    {
      "cell_type": "code",
      "execution_count": 22,
      "id": "0b00c4af-89e0-43e8-a991-1b684d2ce33f",
      "metadata": {
        "id": "0b00c4af-89e0-43e8-a991-1b684d2ce33f",
        "colab": {
          "base_uri": "https://localhost:8080/"
        },
        "outputId": "4e500301-90f5-490c-cd8a-5a553d82ac6a"
      },
      "outputs": [
        {
          "output_type": "stream",
          "name": "stdout",
          "text": [
            "120\n"
          ]
        }
      ],
      "source": [
        "# Write a Python function that accepts a list of numbers and returns their product.\n",
        "def calculate_product(numbers):\n",
        "    product = 1\n",
        "    for num in numbers:\n",
        "        product *= num\n",
        "    return product\n",
        "result = calculate_product([2, 3, 4, 5])\n",
        "print(result)"
      ]
    },
    {
      "cell_type": "code",
      "execution_count": 23,
      "id": "9cd11703-5b48-44fe-af4e-ea906a2762c9",
      "metadata": {
        "id": "9cd11703-5b48-44fe-af4e-ea906a2762c9",
        "colab": {
          "base_uri": "https://localhost:8080/"
        },
        "outputId": "ce545a55-7664-47ae-8a0f-78e4a6044ef5"
      },
      "outputs": [
        {
          "output_type": "stream",
          "name": "stdout",
          "text": [
            "Odd\n"
          ]
        }
      ],
      "source": [
        "# Write a Python function to check if a number is even or odd using the modulo operator.\n",
        "def even_odd(number):\n",
        "    if number % 2 == 0:\n",
        "        return \"Even\"\n",
        "    else:\n",
        "        return \"Odd\"\n",
        "result = even_odd(7)\n",
        "print(result)"
      ]
    },
    {
      "cell_type": "code",
      "execution_count": 24,
      "id": "afbf262e-daed-40a9-827f-82fa60979610",
      "metadata": {
        "id": "afbf262e-daed-40a9-827f-82fa60979610",
        "colab": {
          "base_uri": "https://localhost:8080/"
        },
        "outputId": "e28a1ee9-ccb1-46ec-e8a3-5daba59db2ac"
      },
      "outputs": [
        {
          "output_type": "stream",
          "name": "stdout",
          "text": [
            "[1, 4, 9, 16, 25, 36, 49, 64, 81, 100]\n"
          ]
        }
      ],
      "source": [
        "# Write a Python program to create a list of squares of numbers from 1 to 10 using list comprehension.\n",
        "squares = [x ** 2 for x in range(1, 11)]\n",
        "print(squares)"
      ]
    },
    {
      "cell_type": "code",
      "execution_count": 25,
      "id": "7fff76d8-9ba8-4006-9be6-6f7350092d1c",
      "metadata": {
        "id": "7fff76d8-9ba8-4006-9be6-6f7350092d1c",
        "colab": {
          "base_uri": "https://localhost:8080/"
        },
        "outputId": "2c99fecf-4f9d-4e5d-8c0a-bcece23076c1"
      },
      "outputs": [
        {
          "output_type": "stream",
          "name": "stdout",
          "text": [
            "[2, 4, 6, 8, 10]\n"
          ]
        }
      ],
      "source": [
        "# Write a Python program to filter out all even numbers from a list using list comprehension.\n",
        "numbers = [1, 2, 3, 4, 5, 6, 7, 8, 9, 10]\n",
        "even_numbers = [x for x in numbers if x % 2 == 0]\n",
        "print(even_numbers)"
      ]
    },
    {
      "cell_type": "code",
      "execution_count": 26,
      "id": "6ae9b8df-38f9-4fd7-bad1-aa7b07cc9271",
      "metadata": {
        "id": "6ae9b8df-38f9-4fd7-bad1-aa7b07cc9271",
        "colab": {
          "base_uri": "https://localhost:8080/"
        },
        "outputId": "de7b7632-bc27-461a-c6d4-c0586c049ade"
      },
      "outputs": [
        {
          "output_type": "execute_result",
          "data": {
            "text/plain": [
              "['apple', 'banana', 'orange', 'grape']"
            ]
          },
          "metadata": {},
          "execution_count": 26
        }
      ],
      "source": [
        "# Write a Python program to create a list of strings that are longer than 4 characters from a given list of words using list comprehension.\n",
        "words = [\"apple\", \"banana\", \"kiwi\", \"orange\", \"grape\"]\n",
        "long_words = [word for word in words if len(word) > 4]\n",
        "long_words"
      ]
    },
    {
      "cell_type": "code",
      "execution_count": 28,
      "id": "f492c7d4-6ad3-48ab-9b61-232be02aecee",
      "metadata": {
        "id": "f492c7d4-6ad3-48ab-9b61-232be02aecee",
        "colab": {
          "base_uri": "https://localhost:8080/"
        },
        "outputId": "32edbc06-8c79-4bfb-97e2-7287d85e4a81"
      },
      "outputs": [
        {
          "name": "stdout",
          "output_type": "stream",
          "text": [
            "Enter a string:  DEEPIKA\n"
          ]
        },
        {
          "output_type": "execute_result",
          "data": {
            "text/plain": [
              "['D', 'E', 'E', 'P', 'I', 'K', 'A']"
            ]
          },
          "metadata": {},
          "execution_count": 28
        }
      ],
      "source": [
        "# Write a Python program to create a list of all uppercase letters in a string using list comprehension.\n",
        "string = input(\"Enter a string: \")\n",
        "uppercase_letters = [char for char in string if char.isupper()]\n",
        "uppercase_letters\n",
        "\n"
      ]
    },
    {
      "cell_type": "code",
      "execution_count": 30,
      "id": "929a7f74-1762-4a2a-be23-bacf67ff4d8b",
      "metadata": {
        "id": "929a7f74-1762-4a2a-be23-bacf67ff4d8b",
        "colab": {
          "base_uri": "https://localhost:8080/"
        },
        "outputId": "fc716067-9741-4097-fb77-34dcbe35df80"
      },
      "outputs": [
        {
          "output_type": "stream",
          "name": "stdout",
          "text": [
            "[0, 1, 1, 2, 3, 5, 8, 13, 21, 34]\n"
          ]
        }
      ],
      "source": [
        "# Write a Python program to generate the first n Fibonacci numbers using list comprehension.\n",
        "def generate_fibonacci(n):\n",
        "    fibonacci = [0, 1]\n",
        "    [fibonacci.append(fibonacci[-1] + fibonacci[-2]) for _ in range(n - 2)]\n",
        "    return fibonacci\n",
        "    pass\n",
        "result = generate_fibonacci(10)\n",
        "print(result)"
      ]
    },
    {
      "cell_type": "code",
      "execution_count": 31,
      "id": "47188bbc-cf62-47bb-a14e-0582c8b5cdd9",
      "metadata": {
        "id": "47188bbc-cf62-47bb-a14e-0582c8b5cdd9",
        "colab": {
          "base_uri": "https://localhost:8080/"
        },
        "outputId": "407414a0-2d82-4ca5-eeb6-849ef3beb570"
      },
      "outputs": [
        {
          "output_type": "stream",
          "name": "stdout",
          "text": [
            "{1: 1, 2: 4, 3: 9, 4: 16, 5: 25, 6: 36, 7: 49, 8: 64, 9: 81, 10: 100}\n"
          ]
        }
      ],
      "source": [
        "# Write a Python program to create a dictionary where keys are numbers and values are their squares using dictionary comprehension.\n",
        "squares_dict = {num: num**2 for num in range(1, 11)}\n",
        "print(squares_dict)"
      ]
    },
    {
      "cell_type": "code",
      "execution_count": 33,
      "id": "3c4637d3-aa85-4b4c-acf3-953c10818bcb",
      "metadata": {
        "id": "3c4637d3-aa85-4b4c-acf3-953c10818bcb",
        "colab": {
          "base_uri": "https://localhost:8080/"
        },
        "outputId": "25a7d81f-df65-4216-cf80-748e754fb887"
      },
      "outputs": [
        {
          "output_type": "stream",
          "name": "stdout",
          "text": [
            "{'a': 1, 'b': 2, 'c': 3}\n"
          ]
        }
      ],
      "source": [
        "# Write a Python program to create a dictionary from two lists (one for keys and one for values) using dictionary comprehension.\n",
        "keys = ['a', 'b', 'c']\n",
        "values = [1, 2, 3]\n",
        "my_dict = {key: value for key, value in zip(keys, values)}\n",
        "print(my_dict)"
      ]
    },
    {
      "cell_type": "code",
      "execution_count": 34,
      "id": "de817d6f-96e7-4346-839e-1ef0df539b6b",
      "metadata": {
        "id": "de817d6f-96e7-4346-839e-1ef0df539b6b",
        "colab": {
          "base_uri": "https://localhost:8080/"
        },
        "outputId": "d22550ba-7e44-497a-a6d8-d19e7ef867bf"
      },
      "outputs": [
        {
          "output_type": "stream",
          "name": "stdout",
          "text": [
            "{1: 1, 2: 8, 3: 27, 4: 64, 5: 125}\n"
          ]
        }
      ],
      "source": [
        "# Write a Python program to create a dictionary of numbers from 1 to 5 and their cubes using dictionary comprehension.\n",
        "cubes_dict = {num: num**3 for num in range(1, 6)}\n",
        "print(cubes_dict)"
      ]
    },
    {
      "cell_type": "code",
      "execution_count": 35,
      "id": "33695301-057e-49a6-9f80-a2f4e3af60ed",
      "metadata": {
        "id": "33695301-057e-49a6-9f80-a2f4e3af60ed",
        "colab": {
          "base_uri": "https://localhost:8080/"
        },
        "outputId": "52dabf66-6fab-4866-b9f5-d62360311380"
      },
      "outputs": [
        {
          "output_type": "stream",
          "name": "stdout",
          "text": [
            "[1, 4, 9, 16, 25]\n"
          ]
        }
      ],
      "source": [
        "# Write a Python program to square each element of a list using the map() function.\n",
        "numbers = [1, 2, 3, 4, 5]\n",
        "squared_numbers = list(map(lambda x: x**2, numbers))\n",
        "print(squared_numbers)"
      ]
    },
    {
      "cell_type": "code",
      "execution_count": 40,
      "id": "6d4d17f3-c40f-4944-8656-c6416b600361",
      "metadata": {
        "id": "6d4d17f3-c40f-4944-8656-c6416b600361",
        "colab": {
          "base_uri": "https://localhost:8080/"
        },
        "outputId": "8560b958-e465-410b-da67-8bd3fd12304f"
      },
      "outputs": [
        {
          "output_type": "stream",
          "name": "stdout",
          "text": [
            "Even numbers: [2, 4, 6, 8, 10]\n"
          ]
        }
      ],
      "source": [
        "# Write a Python program to filter all even numbers from a list using the filter() function.\n",
        "def is_even(number):\n",
        "    return number % 2 == 0\n",
        "\n",
        "numbers = [1, 2, 3, 4, 5, 6, 7, 8, 9, 10]\n",
        "\n",
        "# Use filter() to get even numbers\n",
        "even_numbers = list(filter(is_even, numbers))\n",
        "\n",
        "print(\"Even numbers:\", even_numbers)"
      ]
    },
    {
      "cell_type": "code",
      "execution_count": 41,
      "id": "6634ba1f-9f81-475e-b7c4-422d102afb75",
      "metadata": {
        "id": "6634ba1f-9f81-475e-b7c4-422d102afb75",
        "colab": {
          "base_uri": "https://localhost:8080/"
        },
        "outputId": "f657e593-6037-4994-fe26-b0a87aea1e3e"
      },
      "outputs": [
        {
          "output_type": "stream",
          "name": "stdout",
          "text": [
            "Enter a number: 15\n",
            "15 is divisible by both 3 and 5.\n"
          ]
        }
      ],
      "source": [
        "# Write a Python program to use a lambda function to check if a number is divisible by both 3 and 5.\n",
        "# Define the lambda function\n",
        "is_divisible_by_3_and_5 = lambda num: num % 3 == 0 and num % 5 == 0\n",
        "\n",
        "# Get input from the user\n",
        "number = int(input(\"Enter a number: \"))\n",
        "\n",
        "# Check divisibility and print the result\n",
        "if is_divisible_by_3_and_5(number):\n",
        "    print(f\"{number} is divisible by both 3 and 5.\")\n",
        "else:\n",
        "    print(f\"{number} is not divisible by both 3 and 5.\")"
      ]
    },
    {
      "cell_type": "code",
      "execution_count": 42,
      "id": "0aac8430-5d77-439d-9a99-9598fadf989c",
      "metadata": {
        "id": "0aac8430-5d77-439d-9a99-9598fadf989c",
        "colab": {
          "base_uri": "https://localhost:8080/"
        },
        "outputId": "1a3755ac-012a-4796-c66a-ea08910ca8f9"
      },
      "outputs": [
        {
          "output_type": "stream",
          "name": "stdout",
          "text": [
            "[2, 4, 6, 8, 10]\n"
          ]
        }
      ],
      "source": [
        "# Write a Python program to multiply all numbers in a list by 2 using a lambda function inside map().\n",
        "numbers = [1, 2, 3, 4, 5]\n",
        "doubled_numbers = list(map(lambda x: x * 2, numbers))\n",
        "print(doubled_numbers)"
      ]
    },
    {
      "cell_type": "code",
      "execution_count": 43,
      "id": "e4cd5ba8-c6ec-4f0d-8787-bf0a4b7a2e22",
      "metadata": {
        "id": "e4cd5ba8-c6ec-4f0d-8787-bf0a4b7a2e22",
        "colab": {
          "base_uri": "https://localhost:8080/"
        },
        "outputId": "288d9d4a-f1d5-47ca-f3aa-b7ffc9d61c23"
      },
      "outputs": [
        {
          "output_type": "stream",
          "name": "stdout",
          "text": [
            "[1, 3, 4, 5]\n"
          ]
        }
      ],
      "source": [
        "# Write a Python program to remove all occurrences of a specific element from a list.\n",
        "numbers = [1, 2, 3, 2, 4, 2, 5]\n",
        "element_to_remove = 2\n",
        "numbers = [x for x in numbers if x != element_to_remove]\n",
        "print(numbers)\n"
      ]
    },
    {
      "cell_type": "markdown",
      "id": "caba77c7-93db-4893-8f48-c7365ed5c585",
      "metadata": {
        "id": "caba77c7-93db-4893-8f48-c7365ed5c585"
      },
      "source": [
        "**Note:**\n",
        "- All assignments must follow [PEP 8 – Style Guide for Python Code](https://peps.python.org/pep-0008/) guidelines.\n",
        "- You can add multiple solutions for each question. Create a new code cell next to the question and add it. Shortcut for creating cell : `Alt + Enter`"
      ]
    }
  ],
  "metadata": {
    "kernelspec": {
      "display_name": "Python 3 (ipykernel)",
      "language": "python",
      "name": "python3"
    },
    "language_info": {
      "codemirror_mode": {
        "name": "ipython",
        "version": 3
      },
      "file_extension": ".py",
      "mimetype": "text/x-python",
      "name": "python",
      "nbconvert_exporter": "python",
      "pygments_lexer": "ipython3",
      "version": "3.12.6"
    },
    "colab": {
      "provenance": [],
      "include_colab_link": true
    }
  },
  "nbformat": 4,
  "nbformat_minor": 5
}