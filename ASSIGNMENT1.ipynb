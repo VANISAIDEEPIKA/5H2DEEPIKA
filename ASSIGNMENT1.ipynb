{
  "nbformat": 4,
  "nbformat_minor": 0,
  "metadata": {
    "colab": {
      "provenance": [],
      "authorship_tag": "ABX9TyNoKIQ3Q0+Fxhrkr6h7IWXH",
      "include_colab_link": true
    },
    "kernelspec": {
      "name": "python3",
      "display_name": "Python 3"
    },
    "language_info": {
      "name": "python"
    }
  },
  "cells": [
    {
      "cell_type": "markdown",
      "metadata": {
        "id": "view-in-github",
        "colab_type": "text"
      },
      "source": [
        "<a href=\"https://colab.research.google.com/github/VANISAIDEEPIKA/5H2DEEPIKA/blob/main/ASSIGNMENT1.ipynb\" target=\"_parent\"><img src=\"https://colab.research.google.com/assets/colab-badge.svg\" alt=\"Open In Colab\"/></a>"
      ]
    },
    {
      "cell_type": "code",
      "execution_count": 11,
      "metadata": {
        "colab": {
          "base_uri": "https://localhost:8080/"
        },
        "id": "ROsElKGOgYgq",
        "outputId": "b87cdbb0-44d0-4f0a-c58d-1deb5ade0bbe"
      },
      "outputs": [
        {
          "output_type": "stream",
          "name": "stdout",
          "text": [
            "the type of x is: <class 'int'>\n"
          ]
        }
      ],
      "source": [
        "# Write a Python program to declare a variable x with the value 10 and print its type.\n",
        "# SOLUTION-1\n",
        "# Declare variable x\n",
        "x = 10\n",
        " # print its type\n",
        "print(\"the type of x is:\",type(x))"
      ]
    },
    {
      "cell_type": "code",
      "source": [
        "# Write a Python program to declare a variable x with the value 10 and print its type.\n",
        "# SOLUTION-2\n",
        "# Declare variable x\n",
        "x = 10\n",
        " # print its kind\n",
        "print(\"the form of x is:\",type(x))"
      ],
      "metadata": {
        "colab": {
          "base_uri": "https://localhost:8080/"
        },
        "id": "9eK1c_IXkk7U",
        "outputId": "6c37ece6-9ff1-4e03-9055-cab82cb33e62"
      },
      "execution_count": 14,
      "outputs": [
        {
          "output_type": "stream",
          "name": "stdout",
          "text": [
            "the form of x is: <class 'int'>\n"
          ]
        }
      ]
    },
    {
      "cell_type": "code",
      "source": [],
      "metadata": {
        "id": "CBCx0aY_k5XD"
      },
      "execution_count": null,
      "outputs": []
    }
  ]
}