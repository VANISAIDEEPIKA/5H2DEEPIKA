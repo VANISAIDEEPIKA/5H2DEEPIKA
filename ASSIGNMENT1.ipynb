{
  "nbformat": 4,
  "nbformat_minor": 0,
  "metadata": {
    "colab": {
      "provenance": [],
      "authorship_tag": "ABX9TyMMr9o3FiOBCJfCMNkRTH9k",
      "include_colab_link": true
    },
    "kernelspec": {
      "name": "python3",
      "display_name": "Python 3"
    },
    "language_info": {
      "name": "python"
    }
  },
  "cells": [
    {
      "cell_type": "markdown",
      "metadata": {
        "id": "view-in-github",
        "colab_type": "text"
      },
      "source": [
        "<a href=\"https://colab.research.google.com/github/VANISAIDEEPIKA/5H2DEEPIKA/blob/main/ASSIGNMENT1.ipynb\" target=\"_parent\"><img src=\"https://colab.research.google.com/assets/colab-badge.svg\" alt=\"Open In Colab\"/></a>"
      ]
    },
    {
      "cell_type": "code",
      "execution_count": 11,
      "metadata": {
        "colab": {
          "base_uri": "https://localhost:8080/"
        },
        "id": "ROsElKGOgYgq",
        "outputId": "b87cdbb0-44d0-4f0a-c58d-1deb5ade0bbe"
      },
      "outputs": [
        {
          "output_type": "stream",
          "name": "stdout",
          "text": [
            "the type of x is: <class 'int'>\n"
          ]
        }
      ],
      "source": [
        "# Write a Python program to declare a variable x with the value 10 and print its type.\n",
        "# SOLUTION-1\n",
        "# Declare variable x\n",
        "x = 10\n",
        " # print its type\n",
        "print(\"the type of x is:\",type(x))"
      ]
    },
    {
      "cell_type": "code",
      "source": [
        "# Write a Python program to declare a variable x with the value 10 and print its type.\n",
        "# SOLUTION-2\n",
        "# Declare variable x\n",
        "x = 10\n",
        " # print its kind\n",
        "print(\"the form of x is:\",type(x))"
      ],
      "metadata": {
        "colab": {
          "base_uri": "https://localhost:8080/"
        },
        "id": "9eK1c_IXkk7U",
        "outputId": "6c37ece6-9ff1-4e03-9055-cab82cb33e62"
      },
      "execution_count": 14,
      "outputs": [
        {
          "output_type": "stream",
          "name": "stdout",
          "text": [
            "the form of x is: <class 'int'>\n"
          ]
        }
      ]
    },
    {
      "cell_type": "code",
      "source": [
        "# Write a Python program to declare three variables a = 5, b = 10, and c = 15, and print their sum.\n",
        "# Sum of three variables\n",
        "a = 5\n",
        "b = 10\n",
        "c = 15\n",
        "sum = a+b+c\n",
        "print(\"the sum of a,b,c is:\",sum)\n"
      ],
      "metadata": {
        "colab": {
          "base_uri": "https://localhost:8080/"
        },
        "id": "CBCx0aY_k5XD",
        "outputId": "f4f152f4-3afe-4acb-81d6-6d7592a2d0fa"
      },
      "execution_count": 15,
      "outputs": [
        {
          "output_type": "stream",
          "name": "stdout",
          "text": [
            "the sum of a,b,c is: 30\n"
          ]
        }
      ]
    },
    {
      "cell_type": "code",
      "source": [
        "# Write a Python program that checks and prints the type of a variable (e.g., int, float, str, etc.).\n",
        "age = 19\n",
        "temperature = 97.6\n",
        "country = \"Seoul\"\n",
        "vegetables = [\"broccoli\",\"potato\", \"cabbage\", \"carrot\"]\n",
        "cost_of_vegetables = { \"broccoli\" : 60,  \"potato\" : 55 , \"cabbage\": 85 , \"carrot\" : 35  }\n",
        "print(type(age))\n",
        "print(type(temperature))\n",
        "print(type(country))\n",
        "print(type(vegetables))\n",
        "print(type(cost_of_vegetables))"
      ],
      "metadata": {
        "colab": {
          "base_uri": "https://localhost:8080/"
        },
        "id": "nu3Ub3LDoGbR",
        "outputId": "44ed31db-769d-4313-e299-97be09921192"
      },
      "execution_count": 17,
      "outputs": [
        {
          "output_type": "stream",
          "name": "stdout",
          "text": [
            "<class 'int'>\n",
            "<class 'float'>\n",
            "<class 'str'>\n",
            "<class 'list'>\n",
            "<class 'dict'>\n"
          ]
        }
      ]
    }
  ]
}