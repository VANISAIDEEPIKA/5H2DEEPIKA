{
  "nbformat": 4,
  "nbformat_minor": 0,
  "metadata": {
    "colab": {
      "provenance": [],
      "authorship_tag": "ABX9TyOJRze15usZOkYYCRVODeTz",
      "include_colab_link": true
    },
    "kernelspec": {
      "name": "python3",
      "display_name": "Python 3"
    },
    "language_info": {
      "name": "python"
    }
  },
  "cells": [
    {
      "cell_type": "markdown",
      "metadata": {
        "id": "view-in-github",
        "colab_type": "text"
      },
      "source": [
        "<a href=\"https://colab.research.google.com/github/VANISAIDEEPIKA/5H2DEEPIKA/blob/main/ASSIGNMENT1.ipynb\" target=\"_parent\"><img src=\"https://colab.research.google.com/assets/colab-badge.svg\" alt=\"Open In Colab\"/></a>"
      ]
    },
    {
      "cell_type": "code",
      "execution_count": null,
      "metadata": {
        "colab": {
          "base_uri": "https://localhost:8080/"
        },
        "id": "ROsElKGOgYgq",
        "outputId": "b87cdbb0-44d0-4f0a-c58d-1deb5ade0bbe"
      },
      "outputs": [
        {
          "output_type": "stream",
          "name": "stdout",
          "text": [
            "the type of x is: <class 'int'>\n"
          ]
        }
      ],
      "source": [
        "# Write a Python program to declare a variable x with the value 10 and print its type.\n",
        "# SOLUTION-1\n",
        "# Declare variable x\n",
        "x = 10\n",
        " # print its type\n",
        "print(\"the type of x is:\",type(x))"
      ]
    },
    {
      "cell_type": "code",
      "source": [
        "# Write a Python program to declare a variable x with the value 10 and print its type.\n",
        "# SOLUTION-2\n",
        "# Declare variable x\n",
        "x = 10\n",
        " # print its kind\n",
        "print(\"the form of x is:\",type(x))"
      ],
      "metadata": {
        "colab": {
          "base_uri": "https://localhost:8080/"
        },
        "id": "9eK1c_IXkk7U",
        "outputId": "6c37ece6-9ff1-4e03-9055-cab82cb33e62"
      },
      "execution_count": null,
      "outputs": [
        {
          "output_type": "stream",
          "name": "stdout",
          "text": [
            "the form of x is: <class 'int'>\n"
          ]
        }
      ]
    },
    {
      "cell_type": "code",
      "source": [
        "# Write a Python program to declare three variables a = 5, b = 10, and c = 15, and print their sum.\n",
        "# Sum of three variables\n",
        "a = 5\n",
        "b = 10\n",
        "c = 15\n",
        "sum = a+b+c\n",
        "print(\"the sum of a,b,c is:\",sum)\n"
      ],
      "metadata": {
        "colab": {
          "base_uri": "https://localhost:8080/"
        },
        "id": "CBCx0aY_k5XD",
        "outputId": "f4f152f4-3afe-4acb-81d6-6d7592a2d0fa"
      },
      "execution_count": null,
      "outputs": [
        {
          "output_type": "stream",
          "name": "stdout",
          "text": [
            "the sum of a,b,c is: 30\n"
          ]
        }
      ]
    },
    {
      "cell_type": "code",
      "source": [
        "# Write a Python program that checks and prints the type of a variable (e.g., int, float, str, etc.).\n",
        "age = 19\n",
        "temperature = 97.6\n",
        "city = \"Seoul\"\n",
        "vegetables = [\"broccoli\",\"potato\", \"cabbage\", \"carrot\"]\n",
        "cost_of_vegetables = { \"broccoli\" : 60,  \"potato\" : 55 , \"cabbage\": 85 , \"carrot\" : 35  }\n",
        "print(type(age))\n",
        "print(type(temperature))\n",
        "print(type(city))\n",
        "print(type(vegetables))\n",
        "print(type(cost_of_vegetables))"
      ],
      "metadata": {
        "colab": {
          "base_uri": "https://localhost:8080/"
        },
        "id": "nu3Ub3LDoGbR",
        "outputId": "ff93b55c-217a-434d-ad68-0b8baad568d7"
      },
      "execution_count": null,
      "outputs": [
        {
          "output_type": "stream",
          "name": "stdout",
          "text": [
            "<class 'int'>\n",
            "<class 'float'>\n",
            "<class 'str'>\n",
            "<class 'list'>\n",
            "<class 'dict'>\n"
          ]
        }
      ]
    },
    {
      "cell_type": "code",
      "source": [
        "# Write a Python program to perform addition, subtraction, multiplication, and division on two numbers. (User input is required for the numbers)\n",
        "#SOLUTION-1:\n",
        "\n",
        "# Displaying arithmetic operations without using user input\n",
        "\n",
        "a=4\n",
        "b=12\n",
        "print(\"Addition:\",a+b)\n",
        "print(\"Subtraction:\",a-b)\n",
        "print(\"Multiplication:\",a*b)\n",
        "print(\"Division:\",a/b)\n",
        "print(\"Modulus:\",a%b)"
      ],
      "metadata": {
        "colab": {
          "base_uri": "https://localhost:8080/"
        },
        "id": "oFCBPO-9yBF_",
        "outputId": "0a3650eb-f310-45e9-8e26-86b833c21c70"
      },
      "execution_count": null,
      "outputs": [
        {
          "output_type": "stream",
          "name": "stdout",
          "text": [
            "Addition: 16\n",
            "Subtraction: -8\n",
            "Multiplication: 48\n",
            "Division: 0.3333333333333333\n",
            "Modulus: 4\n"
          ]
        }
      ]
    },
    {
      "cell_type": "code",
      "source": [
        "# Write a Python program to perform addition, subtraction, multiplication, and division on two numbers. (User input is required for the numbers)\n",
        "#SOLUTION-2:\n",
        "\n",
        "# Taking user input for two numbers = float\n",
        "\n",
        "a = float(input(\"Enter first number:\"))\n",
        "b = float(input(\"Enter second number:\"))\n",
        "\n",
        "# Performing arithmetic operations and displaying the results\n",
        "\n",
        "print(\"Addition:\",a+b)\n",
        "print(\"Subtraction:\",a-b)\n",
        "print(\"Multiplication:\",a*b)\n",
        "print(\"Division:\",a/b)\n",
        "print(\"Modulus:\",a%b)"
      ],
      "metadata": {
        "id": "fT7UtYC2uGWr",
        "colab": {
          "base_uri": "https://localhost:8080/"
        },
        "outputId": "e34603a1-7145-4ec9-a828-3e65c281da8c"
      },
      "execution_count": null,
      "outputs": [
        {
          "output_type": "stream",
          "name": "stdout",
          "text": [
            "Enter first number:3\n",
            "Enter second number:6\n",
            "Addition: 9.0\n",
            "Subtraction: -3.0\n",
            "Multiplication: 18.0\n",
            "Division: 0.5\n",
            "Modulus: 3.0\n"
          ]
        }
      ]
    },
    {
      "cell_type": "code",
      "source": [
        "# Write a Python program to perform addition, subtraction, multiplication, and division on two numbers. (User input is required for the numbers)\n",
        "#SOLUTION-3:\n",
        "\n",
        "# Taking user input for two numbers = int\n",
        "\n",
        "a = int(input(\"Enter first number:\"))\n",
        "b = int(input(\"Enter second number:\"))\n",
        "\n",
        "# Performing arithmetic operations and displaying the results\n",
        "print(\"Addition:\",a+b)\n",
        "print(\"Subtraction:\",a-b)\n",
        "print(\"Multiplication:\",a*b)\n",
        "print(\"Division:\",a/b)\n",
        "print(\"Modulus:\",a%b)"
      ],
      "metadata": {
        "colab": {
          "base_uri": "https://localhost:8080/"
        },
        "id": "GxDvcQwFxNZZ",
        "outputId": "f818b573-c750-49d1-8a8b-0c06082e887b"
      },
      "execution_count": 12,
      "outputs": [
        {
          "output_type": "stream",
          "name": "stdout",
          "text": [
            "Enter first number:4\n",
            "Enter second number:6\n",
            "Addition: 10\n",
            "Subtraction: -2\n",
            "Multiplication: 24\n",
            "Division: 0.6666666666666666\n",
            "Modulus: 4\n"
          ]
        }
      ]
    },
    {
      "cell_type": "code",
      "source": [
        "# Write a Python program to convert a string \"123\" to an integer and a float and print the results.\n",
        "x = \"123\"\n",
        "print(int(x))\n",
        "print(float(x))"
      ],
      "metadata": {
        "colab": {
          "base_uri": "https://localhost:8080/"
        },
        "id": "hRUVv_XGHDBW",
        "outputId": "331196b6-9bb5-4961-c8e1-abb2c54924e7"
      },
      "execution_count": 2,
      "outputs": [
        {
          "output_type": "stream",
          "name": "stdout",
          "text": [
            "123\n",
            "123.0\n"
          ]
        }
      ]
    },
    {
      "cell_type": "code",
      "execution_count": 10,
      "metadata": {
        "id": "599421f1-51c1-4653-9d78-b007fcc6861b",
        "colab": {
          "base_uri": "https://localhost:8080/"
        },
        "outputId": "37e6a35a-cb2e-4917-c924-9ce9d89534cd"
      },
      "outputs": [
        {
          "output_type": "stream",
          "name": "stdout",
          "text": [
            "Enter a string:chika\n",
            "c\n"
          ]
        }
      ],
      "source": [
        "# Write a Python program to print the first character of a given string. (User input for the string)\n",
        "y=input(\"Enter a string:\")\n",
        "print(y[0])"
      ]
    },
    {
      "cell_type": "code",
      "source": [
        "# Write a Python program to print the length of a string. (User input for the string)\n",
        "a=input(\"enter a string:\")\n",
        "length = len(a)\n",
        "print(\"length of the string is\",a)"
      ],
      "metadata": {
        "colab": {
          "base_uri": "https://localhost:8080/"
        },
        "id": "Gx5GVZIqMKZI",
        "outputId": "fafa7ada-3ee7-4759-c703-4b41b9bd727a"
      },
      "execution_count": 13,
      "outputs": [
        {
          "output_type": "stream",
          "name": "stdout",
          "text": [
            "enter a string:25\n",
            "length of the string is 25\n"
          ]
        }
      ]
    },
    {
      "cell_type": "code",
      "source": [
        "# Write a Python program to check if a given string contains only alphabets.\n",
        "b=\"bts@2005\"\n"
      ],
      "metadata": {
        "id": "RN4gAAKjQyzE"
      },
      "execution_count": null,
      "outputs": []
    }
  ]
}